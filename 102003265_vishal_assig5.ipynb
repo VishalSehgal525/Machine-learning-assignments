{
 "cells": [
  {
   "cell_type": "markdown",
   "metadata": {},
   "source": [
    "# Assignment 5 (Machine Learning)\n",
    "> This assignment is solved by:-\n",
    "* Name: Vishal Sehgal\n",
    "* Group: CO11\n",
    "* Roll Number: 102003265"
   ]
  },
  {
   "cell_type": "markdown",
   "metadata": {},
   "source": [
    "### Question 1"
   ]
  },
  {
   "cell_type": "code",
   "execution_count": 1,
   "metadata": {},
   "outputs": [],
   "source": [
    "import pandas as pd\n",
    "import numpy as np"
   ]
  },
  {
   "cell_type": "code",
   "execution_count": 2,
   "metadata": {},
   "outputs": [],
   "source": [
    "from sklearn.datasets import load_iris"
   ]
  },
  {
   "cell_type": "code",
   "execution_count": 3,
   "metadata": {},
   "outputs": [],
   "source": [
    "X, y = load_iris(return_X_y=True)"
   ]
  },
  {
   "cell_type": "code",
   "execution_count": 4,
   "metadata": {},
   "outputs": [
    {
     "data": {
      "text/plain": [
       "(150, 4)"
      ]
     },
     "execution_count": 4,
     "metadata": {},
     "output_type": "execute_result"
    }
   ],
   "source": [
    "X.shape"
   ]
  },
  {
   "cell_type": "code",
   "execution_count": 5,
   "metadata": {},
   "outputs": [],
   "source": [
    "from sklearn.preprocessing import StandardScaler"
   ]
  },
  {
   "cell_type": "code",
   "execution_count": 9,
   "metadata": {},
   "outputs": [],
   "source": [
    "scaler = StandardScaler()\n",
    "X_scaled = scaler.fit_transform(X)\n",
    "X_scaled = np.insert(X_scaled, 0, values=1, axis=1)"
   ]
  },
  {
   "cell_type": "code",
   "execution_count": 25,
   "metadata": {},
   "outputs": [
    {
     "data": {
      "text/plain": [
       "(50, 50, 50)"
      ]
     },
     "execution_count": 25,
     "metadata": {},
     "output_type": "execute_result"
    }
   ],
   "source": [
    "len(y[y == 0]), len(y[y == 1]), len(y[y == 2])"
   ]
  },
  {
   "cell_type": "code",
   "execution_count": 26,
   "metadata": {},
   "outputs": [],
   "source": [
    "from sklearn.model_selection import train_test_split"
   ]
  },
  {
   "cell_type": "code",
   "execution_count": 28,
   "metadata": {},
   "outputs": [],
   "source": [
    "X_train, X_test, y_train, y_test = train_test_split(X_scaled, y, test_size=0.2, random_state=42)"
   ]
  },
  {
   "cell_type": "code",
   "execution_count": 45,
   "metadata": {},
   "outputs": [
    {
     "name": "stdout",
     "output_type": "stream",
     "text": [
      "[0, 1, 3, 4, 7, 8, 9, 13, 14, 23, 26, 27, 28, 31, 32, 33, 35, 38, 41, 48, 51, 52, 55, 57, 58, 66, 67, 70, 71, 72, 75, 78, 84, 91, 94, 98, 102, 104, 114, 117]\n",
      "[2, 6, 11, 12, 15, 18, 20, 22, 25, 29, 34, 36, 39, 44, 45, 47, 49, 53, 54, 59, 60, 62, 65, 73, 79, 80, 82, 86, 88, 89, 90, 92, 93, 95, 99, 105, 108, 110, 111, 115, 118]\n"
     ]
    }
   ],
   "source": [
    "zero_list = []\n",
    "one_list = []\n",
    "for i in range(len(y_train)):\n",
    "    if(y_train[i]==0):\n",
    "        zero_list.append(i)\n",
    "    elif(y_train[i]==1):\n",
    "        one_list.append(i)\n",
    "print(zero_list)\n",
    "print(one_list)"
   ]
  },
  {
   "cell_type": "code",
   "execution_count": 43,
   "metadata": {},
   "outputs": [
    {
     "data": {
      "text/plain": [
       "120"
      ]
     },
     "execution_count": 43,
     "metadata": {},
     "output_type": "execute_result"
    }
   ],
   "source": [
    "len(X_train)"
   ]
  },
  {
   "cell_type": "code",
   "execution_count": 48,
   "metadata": {},
   "outputs": [
    {
     "name": "stdout",
     "output_type": "stream",
     "text": [
      "[0, 0, 1, 0, 0, 1, 1, 0, 0, 0, 1, 1, 1, 0, 0, 1, 1, 1, 1, 1, 1, 1, 1, 0, 1, 1, 0, 0, 0, 1, 1, 0, 0, 0, 1, 0, 1, 1, 0, 1, 1, 0, 1, 1, 1, 1, 1, 1, 0, 1, 1, 0, 0, 1, 1, 0, 1, 0, 0, 1, 1, 1, 1, 1, 1, 1, 0, 0, 1, 1, 0, 0, 0, 1, 1, 0, 1, 1, 0, 1, 1, 1, 1, 1, 0, 1, 1, 1, 1, 1, 1, 0, 1, 1, 0, 1, 1, 1, 0, 1, 1, 1, 0, 1, 0, 1, 1, 1, 1, 1, 1, 1, 1, 1, 0, 1, 1, 0, 1, 1]\n",
      "[0, 0, 1, 0, 0, 0, 1, 0, 0, 0, 0, 1, 1, 0, 0, 1, 0, 0, 1, 0, 1, 0, 1, 0, 0, 1, 0, 0, 0, 1, 0, 0, 0, 0, 1, 0, 1, 0, 0, 1, 0, 0, 0, 0, 1, 1, 0, 1, 0, 1, 0, 0, 0, 1, 1, 0, 0, 0, 0, 1, 1, 0, 1, 0, 0, 1, 0, 0, 0, 0, 0, 0, 0, 1, 0, 0, 0, 0, 0, 1, 1, 0, 1, 0, 0, 0, 1, 0, 1, 1, 1, 0, 1, 1, 0, 1, 0, 0, 0, 1, 0, 0, 0, 0, 0, 1, 0, 0, 1, 0, 1, 1, 0, 0, 0, 1, 0, 0, 1, 0]\n"
     ]
    }
   ],
   "source": [
    "y_train_zero = []\n",
    "y_train_one = []\n",
    "for i in range(len(X_train)):\n",
    "    if(zero_list.count(i)):\n",
    "        y_train_zero.append(0)\n",
    "    else:\n",
    "        y_train_zero.append(1)\n",
    "    if(one_list.count(i)):\n",
    "        y_train_one.append(1)\n",
    "    else:\n",
    "        y_train_one.append(0)\n",
    "print(y_train_zero)\n",
    "print(y_train_one)"
   ]
  },
  {
   "cell_type": "code",
   "execution_count": null,
   "metadata": {},
   "outputs": [],
   "source": []
  },
  {
   "cell_type": "code",
   "execution_count": 51,
   "metadata": {},
   "outputs": [
    {
     "name": "stdout",
     "output_type": "stream",
     "text": [
      "[ 0.81536848  0.6380633  -0.91583982  1.04481674  0.97361716]\n"
     ]
    }
   ],
   "source": [
    "n = 1000\n",
    "alpha = 0.01\n",
    "m, k = X_train.shape\n",
    "beta_zero = np.zeros(k)\n",
    "for i in range(n):\n",
    "    cost_gradient = np.zeros(k)\n",
    "    z = X_train.dot(beta_zero)\n",
    "    predicted = 1/(1+np.exp(-z))\n",
    "    difference = predicted - y_train_zero\n",
    "    for j in range(k):\n",
    "        cost_gradient[j] = np.sum(difference.dot(X_train[:, j]))\n",
    "    for j in range(k):\n",
    "        beta_zero[j] = beta_zero[j] - (alpha/m)*cost_gradient[j]\n",
    "print(beta_zero)"
   ]
  },
  {
   "cell_type": "code",
   "execution_count": 52,
   "metadata": {},
   "outputs": [
    {
     "name": "stdout",
     "output_type": "stream",
     "text": [
      "[-0.66183225  0.05768169 -0.90919961  0.17741897 -0.09469135]\n"
     ]
    }
   ],
   "source": [
    "n = 1000\n",
    "alpha = 0.01\n",
    "m, k = X_train.shape\n",
    "beta_one = np.zeros(k)\n",
    "for i in range(n):\n",
    "    cost_gradient = np.zeros(k)\n",
    "    z = X_train.dot(beta_one)\n",
    "    predicted = 1/(1+np.exp(-z))\n",
    "    difference = predicted - y_train_one\n",
    "    for j in range(k):\n",
    "        cost_gradient[j] = np.sum(difference.dot(X_train[:, j]))\n",
    "    for j in range(k):\n",
    "        beta_one[j] = beta_one[j] - (alpha/m)*cost_gradient[j]\n",
    "print(beta_one)"
   ]
  },
  {
   "cell_type": "code",
   "execution_count": 53,
   "metadata": {},
   "outputs": [
    {
     "name": "stdout",
     "output_type": "stream",
     "text": [
      "[0. 0. 1. 0. 1. 0. 0. 0. 1. 1. 0. 0. 0. 0. 0. 0. 0. 1. 0. 0. 0. 0. 0. 0.\n",
      " 0. 0. 1. 0. 0. 0.]\n",
      "[1. 0. 1. 1. 1. 0. 1. 1. 1. 1. 1. 0. 0. 0. 0. 1. 1. 1. 1. 1. 0. 1. 0. 1.\n",
      " 1. 1. 1. 1. 0. 0.]\n"
     ]
    }
   ],
   "source": [
    "y_pred_zero = 1/(1+np.exp(-(X_test.dot(beta_zero))))\n",
    "y_pred_one = 1/(1+np.exp(-(X_test.dot(beta_one))))\n",
    "\n",
    "y_label_zero = np.zeros(len(y_pred_zero))\n",
    "y_label_one = np.zeros(len(y_pred_one))\n",
    "\n",
    "for i in range(len(y_pred_zero)):\n",
    "    if(y_pred_zero[i]>=0.5):\n",
    "        y_label_zero[i] = 1\n",
    "    if(y_pred_one[i]>=0.5):\n",
    "        y_label_one[i] = 1\n",
    "print(y_label_one)\n",
    "print(y_label_zero)"
   ]
  },
  {
   "cell_type": "code",
   "execution_count": 54,
   "metadata": {},
   "outputs": [
    {
     "name": "stdout",
     "output_type": "stream",
     "text": [
      "[2. 0. 1. 2. 1. 0. 2. 2. 1. 1. 2. 0. 0. 0. 0. 2. 2. 1. 2. 2. 0. 2. 0. 2.\n",
      " 2. 2. 1. 2. 0. 0.]\n"
     ]
    }
   ],
   "source": [
    "y_label = np.zeros(len(y_pred_zero))\n",
    "\n",
    "for i in range(len(y_label)):\n",
    "    if(y_label_zero[i]==1):\n",
    "        if(y_label_one[i]==1):\n",
    "            y_label[i] = 1\n",
    "        else:\n",
    "            y_label[i] = 2\n",
    "\n",
    "print(y_label)"
   ]
  },
  {
   "cell_type": "code",
   "execution_count": 55,
   "metadata": {},
   "outputs": [
    {
     "name": "stdout",
     "output_type": "stream",
     "text": [
      "4 10 0 0\n",
      "100.0\n"
     ]
    }
   ],
   "source": [
    "TP=0\n",
    "TN=0\n",
    "FP=0\n",
    "FN=0 \n",
    "y_test=np.array(y_test).reshape(-1,1) \n",
    "for i in range(len(y_label)):\n",
    "    if(y_test[i]==1 and y_label[i]==1): \n",
    "        TP=TP+1\n",
    "    if(y_test[i]==1 and y_label[i]==0): \n",
    "        FN=FN+1\n",
    "    if(y_test[i]==0 and y_label[i]==1): \n",
    "        FP=FP+1\n",
    "    if(y_test[i]==0 and y_label[i]==0): \n",
    "        TN=TN+1\n",
    "print(TP,TN,FP,FN)\n",
    "accuracy=(TP+TN)/(TP+TN+FP+FN)\n",
    "print(accuracy*100)"
   ]
  },
  {
   "cell_type": "markdown",
   "metadata": {},
   "source": [
    "### Question 2"
   ]
  },
  {
   "cell_type": "code",
   "execution_count": 61,
   "metadata": {},
   "outputs": [],
   "source": [
    "df = pd.read_csv('exam6.txt', names=['test1', 'test2', 'status'])"
   ]
  },
  {
   "cell_type": "code",
   "execution_count": 62,
   "metadata": {},
   "outputs": [
    {
     "data": {
      "text/html": [
       "<div>\n",
       "<style scoped>\n",
       "    .dataframe tbody tr th:only-of-type {\n",
       "        vertical-align: middle;\n",
       "    }\n",
       "\n",
       "    .dataframe tbody tr th {\n",
       "        vertical-align: top;\n",
       "    }\n",
       "\n",
       "    .dataframe thead th {\n",
       "        text-align: right;\n",
       "    }\n",
       "</style>\n",
       "<table border=\"1\" class=\"dataframe\">\n",
       "  <thead>\n",
       "    <tr style=\"text-align: right;\">\n",
       "      <th></th>\n",
       "      <th>test1</th>\n",
       "      <th>test2</th>\n",
       "      <th>status</th>\n",
       "    </tr>\n",
       "  </thead>\n",
       "  <tbody>\n",
       "    <tr>\n",
       "      <th>0</th>\n",
       "      <td>0.051267</td>\n",
       "      <td>0.69956</td>\n",
       "      <td>1</td>\n",
       "    </tr>\n",
       "    <tr>\n",
       "      <th>1</th>\n",
       "      <td>-0.092742</td>\n",
       "      <td>0.68494</td>\n",
       "      <td>1</td>\n",
       "    </tr>\n",
       "    <tr>\n",
       "      <th>2</th>\n",
       "      <td>-0.213710</td>\n",
       "      <td>0.69225</td>\n",
       "      <td>1</td>\n",
       "    </tr>\n",
       "    <tr>\n",
       "      <th>3</th>\n",
       "      <td>-0.375000</td>\n",
       "      <td>0.50219</td>\n",
       "      <td>1</td>\n",
       "    </tr>\n",
       "    <tr>\n",
       "      <th>4</th>\n",
       "      <td>-0.513250</td>\n",
       "      <td>0.46564</td>\n",
       "      <td>1</td>\n",
       "    </tr>\n",
       "  </tbody>\n",
       "</table>\n",
       "</div>"
      ],
      "text/plain": [
       "      test1    test2  status\n",
       "0  0.051267  0.69956       1\n",
       "1 -0.092742  0.68494       1\n",
       "2 -0.213710  0.69225       1\n",
       "3 -0.375000  0.50219       1\n",
       "4 -0.513250  0.46564       1"
      ]
     },
     "execution_count": 62,
     "metadata": {},
     "output_type": "execute_result"
    }
   ],
   "source": [
    "df.head()"
   ]
  },
  {
   "cell_type": "code",
   "execution_count": 63,
   "metadata": {},
   "outputs": [],
   "source": [
    "X = df.drop('status', axis=1)\n",
    "y = df['status']\n",
    "X = np.array(X)\n",
    "y = np.array(y)"
   ]
  },
  {
   "cell_type": "code",
   "execution_count": 71,
   "metadata": {},
   "outputs": [],
   "source": [
    "from sklearn.preprocessing import PolynomialFeatures\n",
    "obj = PolynomialFeatures(degree=6)\n",
    "X_transformed = obj.fit_transform(X)"
   ]
  },
  {
   "cell_type": "code",
   "execution_count": 72,
   "metadata": {},
   "outputs": [
    {
     "data": {
      "text/plain": [
       "(118, 28)"
      ]
     },
     "execution_count": 72,
     "metadata": {},
     "output_type": "execute_result"
    }
   ],
   "source": [
    "X_transformed.shape"
   ]
  },
  {
   "cell_type": "code",
   "execution_count": 73,
   "metadata": {},
   "outputs": [
    {
     "data": {
      "text/plain": [
       "array([[ 1.00000000e+00,  5.12670000e-02,  6.99560000e-01, ...,\n",
       "         6.29470940e-04,  8.58939846e-03,  1.17205992e-01],\n",
       "       [ 1.00000000e+00, -9.27420000e-02,  6.84940000e-01, ...,\n",
       "         1.89305413e-03, -1.39810280e-02,  1.03255971e-01],\n",
       "       [ 1.00000000e+00, -2.13710000e-01,  6.92250000e-01, ...,\n",
       "         1.04882142e-02, -3.39734512e-02,  1.10046893e-01],\n",
       "       ...,\n",
       "       [ 1.00000000e+00, -4.84450000e-01,  9.99270000e-01, ...,\n",
       "         2.34007252e-01, -4.82684337e-01,  9.95627986e-01],\n",
       "       [ 1.00000000e+00, -6.33640000e-03,  9.99270000e-01, ...,\n",
       "         4.00328554e-05, -6.31330588e-03,  9.95627986e-01],\n",
       "       [ 1.00000000e+00,  6.32650000e-01, -3.06120000e-02, ...,\n",
       "         3.51474517e-07, -1.70067777e-08,  8.22905998e-10]])"
      ]
     },
     "execution_count": 73,
     "metadata": {},
     "output_type": "execute_result"
    }
   ],
   "source": [
    "X_transformed"
   ]
  },
  {
   "cell_type": "code",
   "execution_count": 75,
   "metadata": {},
   "outputs": [],
   "source": [
    "X_train, X_test, y_train, y_test = train_test_split(X_transformed, y, test_size=0.2, random_state=42)"
   ]
  },
  {
   "cell_type": "markdown",
   "metadata": {},
   "source": [
    "> i."
   ]
  },
  {
   "cell_type": "code",
   "execution_count": 79,
   "metadata": {},
   "outputs": [
    {
     "name": "stdout",
     "output_type": "stream",
     "text": [
      "[ 3.79171422  0.75931817  5.28450188 -6.08383449 -6.81616066 -6.0703927\n",
      "  4.54691492  1.07650365  2.27449109 -2.7951547  -3.8358596   4.38592634\n",
      " -3.39003485 -3.35779843 -5.96318974 -0.63898705 -3.81042552  8.00544377\n",
      " -3.07246874 -5.4449508   2.06724483 -6.08866458  0.70514218 -1.05517887\n",
      "  3.83127972 -3.85437726 -4.94564416 -0.104631  ]\n"
     ]
    }
   ],
   "source": [
    "n = 1000\n",
    "alpha = 10\n",
    "m, k = X_train.shape\n",
    "beta = np.zeros(k)\n",
    "for i in range(n):\n",
    "    cost_gradient = np.zeros(k)\n",
    "    z = X_train.dot(beta)\n",
    "    predicted = 1/(1+np.exp(-z))\n",
    "    difference = predicted - y_train\n",
    "    for j in range(k):\n",
    "        cost_gradient[j] = np.sum(difference.dot(X_train[:, j]))\n",
    "    for j in range(k):\n",
    "        beta[j] = beta[j] - (alpha/m)*cost_gradient[j]\n",
    "print(beta)"
   ]
  },
  {
   "cell_type": "code",
   "execution_count": 80,
   "metadata": {},
   "outputs": [
    {
     "name": "stdout",
     "output_type": "stream",
     "text": [
      "[1. 1. 1. 1. 1. 0. 0. 0. 0. 0. 1. 0. 1. 0. 1. 1. 1. 1. 0. 0. 0. 1. 0. 1.]\n"
     ]
    }
   ],
   "source": [
    "y_pred = 1/(1+np.exp(-(X_test.dot(beta))))\n",
    "\n",
    "y_label = np.zeros(len(y_pred))\n",
    "\n",
    "for i in range(len(y_pred)):\n",
    "    if(y_pred[i]>=0.5):\n",
    "        y_label[i] = 1\n",
    "print(y_label)"
   ]
  },
  {
   "cell_type": "code",
   "execution_count": 81,
   "metadata": {},
   "outputs": [
    {
     "name": "stdout",
     "output_type": "stream",
     "text": [
      "11 10 2 1\n",
      "87.5\n"
     ]
    }
   ],
   "source": [
    "TP=0\n",
    "TN=0\n",
    "FP=0\n",
    "FN=0 \n",
    "y_test=np.array(y_test).reshape(-1,1) \n",
    "for i in range(len(y_label)):\n",
    "    if(y_test[i]==1 and y_label[i]==1): \n",
    "        TP=TP+1\n",
    "    if(y_test[i]==1 and y_label[i]==0): \n",
    "        FN=FN+1\n",
    "    if(y_test[i]==0 and y_label[i]==1): \n",
    "        FP=FP+1\n",
    "    if(y_test[i]==0 and y_label[i]==0): \n",
    "        TN=TN+1\n",
    "print(TP,TN,FP,FN)\n",
    "accuracy=(TP+TN)/(TP+TN+FP+FN)\n",
    "print(accuracy*100)"
   ]
  },
  {
   "cell_type": "markdown",
   "metadata": {},
   "source": [
    "> ii."
   ]
  },
  {
   "cell_type": "code",
   "execution_count": 82,
   "metadata": {},
   "outputs": [
    {
     "name": "stdout",
     "output_type": "stream",
     "text": [
      "[ 2.65990665  0.96563552  2.66159741 -3.23714945 -2.05234705 -2.76422725\n",
      "  0.94386227 -0.78277901 -0.91625212 -0.06347479 -2.48546624  0.21368133\n",
      " -1.18506288 -0.97381355 -2.07466113 -0.04341013 -0.69980184  0.28805226\n",
      " -0.56545382 -1.02657718 -0.43903014 -1.92083309  0.20667662 -0.57238135\n",
      "  0.13955562 -0.61846073 -0.74428497 -1.2971202 ]\n"
     ]
    }
   ],
   "source": [
    "n = 1000\n",
    "alpha = 10\n",
    "lam = 0.2\n",
    "m, k = X_train.shape\n",
    "beta = np.zeros(k)\n",
    "for i in range(n):\n",
    "    cost_gradient = np.zeros(k)\n",
    "    z = X_train.dot(beta)\n",
    "    predicted = 1/(1+np.exp(-z))\n",
    "    difference = predicted - y_train\n",
    "    for j in range(k):\n",
    "        cost_gradient[j] = np.sum(difference.dot(X_train[:, j]))\n",
    "    for j in range(k):\n",
    "        beta[j] = beta[j]*(1-((alpha*lam)/m)) - (alpha/m)*cost_gradient[j]\n",
    "print(beta)"
   ]
  },
  {
   "cell_type": "code",
   "execution_count": 83,
   "metadata": {},
   "outputs": [
    {
     "name": "stdout",
     "output_type": "stream",
     "text": [
      "[1. 1. 1. 1. 1. 0. 0. 1. 1. 0. 1. 0. 1. 0. 1. 1. 1. 1. 0. 0. 0. 1. 0. 1.]\n"
     ]
    }
   ],
   "source": [
    "y_pred = 1/(1+np.exp(-(X_test.dot(beta))))\n",
    "\n",
    "y_label = np.zeros(len(y_pred))\n",
    "\n",
    "for i in range(len(y_pred)):\n",
    "    if(y_pred[i]>=0.5):\n",
    "        y_label[i] = 1\n",
    "print(y_label)"
   ]
  },
  {
   "cell_type": "code",
   "execution_count": 84,
   "metadata": {},
   "outputs": [
    {
     "name": "stdout",
     "output_type": "stream",
     "text": [
      "12 9 3 0\n",
      "87.5\n"
     ]
    }
   ],
   "source": [
    "TP=0\n",
    "TN=0\n",
    "FP=0\n",
    "FN=0 \n",
    "y_test=np.array(y_test).reshape(-1,1) \n",
    "for i in range(len(y_label)):\n",
    "    if(y_test[i]==1 and y_label[i]==1): \n",
    "        TP=TP+1\n",
    "    if(y_test[i]==1 and y_label[i]==0): \n",
    "        FN=FN+1\n",
    "    if(y_test[i]==0 and y_label[i]==1): \n",
    "        FP=FP+1\n",
    "    if(y_test[i]==0 and y_label[i]==0): \n",
    "        TN=TN+1\n",
    "print(TP,TN,FP,FN)\n",
    "accuracy=(TP+TN)/(TP+TN+FP+FN)\n",
    "print(accuracy*100)"
   ]
  },
  {
   "cell_type": "code",
   "execution_count": null,
   "metadata": {},
   "outputs": [],
   "source": []
  }
 ],
 "metadata": {
  "kernelspec": {
   "display_name": "Python 3.8.8",
   "language": "python",
   "name": "python3"
  },
  "language_info": {
   "codemirror_mode": {
    "name": "ipython",
    "version": 3
   },
   "file_extension": ".py",
   "mimetype": "text/x-python",
   "name": "python",
   "nbconvert_exporter": "python",
   "pygments_lexer": "ipython3",
   "version": "3.8.8"
  },
  "orig_nbformat": 4,
  "vscode": {
   "interpreter": {
    "hash": "40d3a090f54c6569ab1632332b64b2c03c39dcf918b08424e98f38b5ae0af88f"
   }
  }
 },
 "nbformat": 4,
 "nbformat_minor": 2
}
