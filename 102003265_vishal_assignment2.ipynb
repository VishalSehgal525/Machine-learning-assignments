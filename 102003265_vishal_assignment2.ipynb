{
 "cells": [
  {
   "cell_type": "markdown",
   "metadata": {},
   "source": [
    "# Assignment 2 (Machine Learning)\n",
    "> This assignment is solved by:-\n",
    "* Name: Vishal Sehgal\n",
    "* Group: CO11\n",
    "* Roll Number: 102003265"
   ]
  },
  {
   "cell_type": "markdown",
   "metadata": {},
   "source": [
    "### Q1"
   ]
  },
  {
   "cell_type": "markdown",
   "metadata": {},
   "source": [
    "> a. & b."
   ]
  },
  {
   "cell_type": "code",
   "execution_count": 51,
   "metadata": {},
   "outputs": [],
   "source": [
    "import pandas as pd\n",
    "import numpy as np\n",
    "import matplotlib.pyplot as plt\n",
    "import seaborn as sns"
   ]
  },
  {
   "cell_type": "code",
   "execution_count": 52,
   "metadata": {},
   "outputs": [],
   "source": [
    "df1 = pd.read_csv('./data assig 2/AWCustomers.csv')\n",
    "df2 = pd.read_csv('./data assig 2/AWSales.csv')\n",
    "df3 = pd.read_csv('./data assig 2/AWTest-Classification.csv')\n",
    "df4 = pd.read_csv('./data assig 2/AWTest-Regression.csv')"
   ]
  },
  {
   "cell_type": "code",
   "execution_count": 53,
   "metadata": {},
   "outputs": [
    {
     "data": {
      "text/html": [
       "<div>\n",
       "<style scoped>\n",
       "    .dataframe tbody tr th:only-of-type {\n",
       "        vertical-align: middle;\n",
       "    }\n",
       "\n",
       "    .dataframe tbody tr th {\n",
       "        vertical-align: top;\n",
       "    }\n",
       "\n",
       "    .dataframe thead th {\n",
       "        text-align: right;\n",
       "    }\n",
       "</style>\n",
       "<table border=\"1\" class=\"dataframe\">\n",
       "  <thead>\n",
       "    <tr style=\"text-align: right;\">\n",
       "      <th></th>\n",
       "      <th>CustomerID</th>\n",
       "      <th>Title</th>\n",
       "      <th>FirstName</th>\n",
       "      <th>MiddleName</th>\n",
       "      <th>LastName</th>\n",
       "      <th>Suffix</th>\n",
       "      <th>AddressLine1</th>\n",
       "      <th>AddressLine2</th>\n",
       "      <th>City</th>\n",
       "      <th>StateProvinceName</th>\n",
       "      <th>...</th>\n",
       "      <th>Education</th>\n",
       "      <th>Occupation</th>\n",
       "      <th>Gender</th>\n",
       "      <th>MaritalStatus</th>\n",
       "      <th>HomeOwnerFlag</th>\n",
       "      <th>NumberCarsOwned</th>\n",
       "      <th>NumberChildrenAtHome</th>\n",
       "      <th>TotalChildren</th>\n",
       "      <th>YearlyIncome</th>\n",
       "      <th>LastUpdated</th>\n",
       "    </tr>\n",
       "  </thead>\n",
       "  <tbody>\n",
       "    <tr>\n",
       "      <th>0</th>\n",
       "      <td>21173</td>\n",
       "      <td>NaN</td>\n",
       "      <td>Chad</td>\n",
       "      <td>C</td>\n",
       "      <td>Yuan</td>\n",
       "      <td>NaN</td>\n",
       "      <td>7090 C. Mount Hood</td>\n",
       "      <td>NaN</td>\n",
       "      <td>Wollongong</td>\n",
       "      <td>New South Wales</td>\n",
       "      <td>...</td>\n",
       "      <td>Bachelors</td>\n",
       "      <td>Clerical</td>\n",
       "      <td>M</td>\n",
       "      <td>M</td>\n",
       "      <td>1</td>\n",
       "      <td>3</td>\n",
       "      <td>0</td>\n",
       "      <td>1</td>\n",
       "      <td>81916</td>\n",
       "      <td>2017-03-06</td>\n",
       "    </tr>\n",
       "    <tr>\n",
       "      <th>1</th>\n",
       "      <td>13249</td>\n",
       "      <td>NaN</td>\n",
       "      <td>Ryan</td>\n",
       "      <td>NaN</td>\n",
       "      <td>Perry</td>\n",
       "      <td>NaN</td>\n",
       "      <td>3651 Willow Lake Rd</td>\n",
       "      <td>NaN</td>\n",
       "      <td>Shawnee</td>\n",
       "      <td>British Columbia</td>\n",
       "      <td>...</td>\n",
       "      <td>Partial College</td>\n",
       "      <td>Clerical</td>\n",
       "      <td>M</td>\n",
       "      <td>M</td>\n",
       "      <td>1</td>\n",
       "      <td>2</td>\n",
       "      <td>1</td>\n",
       "      <td>2</td>\n",
       "      <td>81076</td>\n",
       "      <td>2017-03-06</td>\n",
       "    </tr>\n",
       "    <tr>\n",
       "      <th>2</th>\n",
       "      <td>29350</td>\n",
       "      <td>NaN</td>\n",
       "      <td>Julia</td>\n",
       "      <td>NaN</td>\n",
       "      <td>Thompson</td>\n",
       "      <td>NaN</td>\n",
       "      <td>1774 Tice Valley Blvd.</td>\n",
       "      <td>NaN</td>\n",
       "      <td>West Covina</td>\n",
       "      <td>California</td>\n",
       "      <td>...</td>\n",
       "      <td>Bachelors</td>\n",
       "      <td>Clerical</td>\n",
       "      <td>F</td>\n",
       "      <td>S</td>\n",
       "      <td>0</td>\n",
       "      <td>3</td>\n",
       "      <td>0</td>\n",
       "      <td>0</td>\n",
       "      <td>86387</td>\n",
       "      <td>2017-03-06</td>\n",
       "    </tr>\n",
       "    <tr>\n",
       "      <th>3</th>\n",
       "      <td>13503</td>\n",
       "      <td>NaN</td>\n",
       "      <td>Theodore</td>\n",
       "      <td>NaN</td>\n",
       "      <td>Gomez</td>\n",
       "      <td>NaN</td>\n",
       "      <td>2103 Baldwin Dr</td>\n",
       "      <td>NaN</td>\n",
       "      <td>Liverpool</td>\n",
       "      <td>England</td>\n",
       "      <td>...</td>\n",
       "      <td>Partial College</td>\n",
       "      <td>Skilled Manual</td>\n",
       "      <td>M</td>\n",
       "      <td>M</td>\n",
       "      <td>1</td>\n",
       "      <td>2</td>\n",
       "      <td>1</td>\n",
       "      <td>2</td>\n",
       "      <td>61481</td>\n",
       "      <td>2017-03-06</td>\n",
       "    </tr>\n",
       "    <tr>\n",
       "      <th>4</th>\n",
       "      <td>22803</td>\n",
       "      <td>NaN</td>\n",
       "      <td>Marshall</td>\n",
       "      <td>J</td>\n",
       "      <td>Shan</td>\n",
       "      <td>NaN</td>\n",
       "      <td>Am Gallberg 234</td>\n",
       "      <td>NaN</td>\n",
       "      <td>Werne</td>\n",
       "      <td>Nordrhein-Westfalen</td>\n",
       "      <td>...</td>\n",
       "      <td>Partial College</td>\n",
       "      <td>Skilled Manual</td>\n",
       "      <td>M</td>\n",
       "      <td>S</td>\n",
       "      <td>1</td>\n",
       "      <td>1</td>\n",
       "      <td>0</td>\n",
       "      <td>0</td>\n",
       "      <td>51804</td>\n",
       "      <td>2017-03-06</td>\n",
       "    </tr>\n",
       "  </tbody>\n",
       "</table>\n",
       "<p>5 rows × 24 columns</p>\n",
       "</div>"
      ],
      "text/plain": [
       "   CustomerID Title FirstName MiddleName  LastName Suffix  \\\n",
       "0       21173   NaN      Chad          C      Yuan    NaN   \n",
       "1       13249   NaN      Ryan        NaN     Perry    NaN   \n",
       "2       29350   NaN     Julia        NaN  Thompson    NaN   \n",
       "3       13503   NaN  Theodore        NaN     Gomez    NaN   \n",
       "4       22803   NaN  Marshall          J      Shan    NaN   \n",
       "\n",
       "             AddressLine1 AddressLine2         City    StateProvinceName  ...  \\\n",
       "0      7090 C. Mount Hood          NaN   Wollongong      New South Wales  ...   \n",
       "1     3651 Willow Lake Rd          NaN      Shawnee     British Columbia  ...   \n",
       "2  1774 Tice Valley Blvd.          NaN  West Covina           California  ...   \n",
       "3         2103 Baldwin Dr          NaN    Liverpool              England  ...   \n",
       "4         Am Gallberg 234          NaN        Werne  Nordrhein-Westfalen  ...   \n",
       "\n",
       "         Education      Occupation Gender MaritalStatus HomeOwnerFlag  \\\n",
       "0        Bachelors        Clerical      M             M             1   \n",
       "1  Partial College        Clerical      M             M             1   \n",
       "2        Bachelors        Clerical      F             S             0   \n",
       "3  Partial College  Skilled Manual      M             M             1   \n",
       "4  Partial College  Skilled Manual      M             S             1   \n",
       "\n",
       "  NumberCarsOwned NumberChildrenAtHome TotalChildren  YearlyIncome  \\\n",
       "0               3                    0             1         81916   \n",
       "1               2                    1             2         81076   \n",
       "2               3                    0             0         86387   \n",
       "3               2                    1             2         61481   \n",
       "4               1                    0             0         51804   \n",
       "\n",
       "   LastUpdated  \n",
       "0   2017-03-06  \n",
       "1   2017-03-06  \n",
       "2   2017-03-06  \n",
       "3   2017-03-06  \n",
       "4   2017-03-06  \n",
       "\n",
       "[5 rows x 24 columns]"
      ]
     },
     "execution_count": 53,
     "metadata": {},
     "output_type": "execute_result"
    }
   ],
   "source": [
    "df1.head()"
   ]
  },
  {
   "cell_type": "code",
   "execution_count": 54,
   "metadata": {},
   "outputs": [
    {
     "data": {
      "text/html": [
       "<div>\n",
       "<style scoped>\n",
       "    .dataframe tbody tr th:only-of-type {\n",
       "        vertical-align: middle;\n",
       "    }\n",
       "\n",
       "    .dataframe tbody tr th {\n",
       "        vertical-align: top;\n",
       "    }\n",
       "\n",
       "    .dataframe thead th {\n",
       "        text-align: right;\n",
       "    }\n",
       "</style>\n",
       "<table border=\"1\" class=\"dataframe\">\n",
       "  <thead>\n",
       "    <tr style=\"text-align: right;\">\n",
       "      <th></th>\n",
       "      <th>CustomerID</th>\n",
       "      <th>BikeBuyer</th>\n",
       "      <th>AvgMonthSpend</th>\n",
       "    </tr>\n",
       "  </thead>\n",
       "  <tbody>\n",
       "    <tr>\n",
       "      <th>0</th>\n",
       "      <td>21173</td>\n",
       "      <td>1</td>\n",
       "      <td>50.97</td>\n",
       "    </tr>\n",
       "    <tr>\n",
       "      <th>1</th>\n",
       "      <td>13249</td>\n",
       "      <td>1</td>\n",
       "      <td>53.11</td>\n",
       "    </tr>\n",
       "    <tr>\n",
       "      <th>2</th>\n",
       "      <td>29350</td>\n",
       "      <td>1</td>\n",
       "      <td>54.08</td>\n",
       "    </tr>\n",
       "    <tr>\n",
       "      <th>3</th>\n",
       "      <td>13503</td>\n",
       "      <td>1</td>\n",
       "      <td>56.93</td>\n",
       "    </tr>\n",
       "    <tr>\n",
       "      <th>4</th>\n",
       "      <td>22803</td>\n",
       "      <td>1</td>\n",
       "      <td>55.41</td>\n",
       "    </tr>\n",
       "  </tbody>\n",
       "</table>\n",
       "</div>"
      ],
      "text/plain": [
       "   CustomerID  BikeBuyer  AvgMonthSpend\n",
       "0       21173          1          50.97\n",
       "1       13249          1          53.11\n",
       "2       29350          1          54.08\n",
       "3       13503          1          56.93\n",
       "4       22803          1          55.41"
      ]
     },
     "execution_count": 54,
     "metadata": {},
     "output_type": "execute_result"
    }
   ],
   "source": [
    "df2.head()"
   ]
  },
  {
   "cell_type": "code",
   "execution_count": 55,
   "metadata": {},
   "outputs": [
    {
     "data": {
      "text/html": [
       "<div>\n",
       "<style scoped>\n",
       "    .dataframe tbody tr th:only-of-type {\n",
       "        vertical-align: middle;\n",
       "    }\n",
       "\n",
       "    .dataframe tbody tr th {\n",
       "        vertical-align: top;\n",
       "    }\n",
       "\n",
       "    .dataframe thead th {\n",
       "        text-align: right;\n",
       "    }\n",
       "</style>\n",
       "<table border=\"1\" class=\"dataframe\">\n",
       "  <thead>\n",
       "    <tr style=\"text-align: right;\">\n",
       "      <th></th>\n",
       "      <th>CustomerID</th>\n",
       "      <th>Title</th>\n",
       "      <th>FirstName</th>\n",
       "      <th>MiddleName</th>\n",
       "      <th>LastName</th>\n",
       "      <th>Suffix</th>\n",
       "      <th>AddressLine1</th>\n",
       "      <th>AddressLine2</th>\n",
       "      <th>City</th>\n",
       "      <th>StateProvinceName</th>\n",
       "      <th>...</th>\n",
       "      <th>Education</th>\n",
       "      <th>Occupation</th>\n",
       "      <th>Gender</th>\n",
       "      <th>MaritalStatus</th>\n",
       "      <th>HomeOwnerFlag</th>\n",
       "      <th>NumberCarsOwned</th>\n",
       "      <th>NumberChildrenAtHome</th>\n",
       "      <th>TotalChildren</th>\n",
       "      <th>YearlyIncome</th>\n",
       "      <th>LastUpdated</th>\n",
       "    </tr>\n",
       "  </thead>\n",
       "  <tbody>\n",
       "    <tr>\n",
       "      <th>0</th>\n",
       "      <td>11219</td>\n",
       "      <td>NaN</td>\n",
       "      <td>Charles</td>\n",
       "      <td>NaN</td>\n",
       "      <td>Cook</td>\n",
       "      <td>NaN</td>\n",
       "      <td>6871 Bel Air Dr.</td>\n",
       "      <td>NaN</td>\n",
       "      <td>Woodburn</td>\n",
       "      <td>Oregon</td>\n",
       "      <td>...</td>\n",
       "      <td>High School</td>\n",
       "      <td>Skilled Manual</td>\n",
       "      <td>M</td>\n",
       "      <td>M</td>\n",
       "      <td>1</td>\n",
       "      <td>2</td>\n",
       "      <td>2</td>\n",
       "      <td>2</td>\n",
       "      <td>56100</td>\n",
       "      <td>2017-03-06</td>\n",
       "    </tr>\n",
       "    <tr>\n",
       "      <th>1</th>\n",
       "      <td>11241</td>\n",
       "      <td>NaN</td>\n",
       "      <td>Lisa</td>\n",
       "      <td>NaN</td>\n",
       "      <td>Cai</td>\n",
       "      <td>NaN</td>\n",
       "      <td>102, rue de Berri</td>\n",
       "      <td>NaN</td>\n",
       "      <td>Les Ulis</td>\n",
       "      <td>Essonne</td>\n",
       "      <td>...</td>\n",
       "      <td>Partial College</td>\n",
       "      <td>Skilled Manual</td>\n",
       "      <td>F</td>\n",
       "      <td>S</td>\n",
       "      <td>1</td>\n",
       "      <td>0</td>\n",
       "      <td>0</td>\n",
       "      <td>0</td>\n",
       "      <td>61555</td>\n",
       "      <td>2017-03-06</td>\n",
       "    </tr>\n",
       "    <tr>\n",
       "      <th>2</th>\n",
       "      <td>11352</td>\n",
       "      <td>NaN</td>\n",
       "      <td>Raymond</td>\n",
       "      <td>A</td>\n",
       "      <td>Rodriguez</td>\n",
       "      <td>NaN</td>\n",
       "      <td>24, impasse Ste-Madeleine</td>\n",
       "      <td>NaN</td>\n",
       "      <td>Pantin</td>\n",
       "      <td>Seine Saint Denis</td>\n",
       "      <td>...</td>\n",
       "      <td>Partial College</td>\n",
       "      <td>Clerical</td>\n",
       "      <td>M</td>\n",
       "      <td>M</td>\n",
       "      <td>1</td>\n",
       "      <td>3</td>\n",
       "      <td>0</td>\n",
       "      <td>2</td>\n",
       "      <td>83613</td>\n",
       "      <td>2017-03-06</td>\n",
       "    </tr>\n",
       "    <tr>\n",
       "      <th>3</th>\n",
       "      <td>11904</td>\n",
       "      <td>NaN</td>\n",
       "      <td>Kaylee</td>\n",
       "      <td>NaN</td>\n",
       "      <td>Cook</td>\n",
       "      <td>NaN</td>\n",
       "      <td>5742 Curtis Drive</td>\n",
       "      <td>NaN</td>\n",
       "      <td>Geelong</td>\n",
       "      <td>Victoria</td>\n",
       "      <td>...</td>\n",
       "      <td>Graduate Degree</td>\n",
       "      <td>Professional</td>\n",
       "      <td>F</td>\n",
       "      <td>S</td>\n",
       "      <td>1</td>\n",
       "      <td>2</td>\n",
       "      <td>0</td>\n",
       "      <td>0</td>\n",
       "      <td>130551</td>\n",
       "      <td>2017-03-06</td>\n",
       "    </tr>\n",
       "    <tr>\n",
       "      <th>4</th>\n",
       "      <td>11908</td>\n",
       "      <td>NaN</td>\n",
       "      <td>Rafael</td>\n",
       "      <td>A</td>\n",
       "      <td>Tang</td>\n",
       "      <td>NaN</td>\n",
       "      <td>8839 Leonard Dr</td>\n",
       "      <td>NaN</td>\n",
       "      <td>South Melbourne</td>\n",
       "      <td>Victoria</td>\n",
       "      <td>...</td>\n",
       "      <td>Graduate Degree</td>\n",
       "      <td>Professional</td>\n",
       "      <td>M</td>\n",
       "      <td>S</td>\n",
       "      <td>1</td>\n",
       "      <td>2</td>\n",
       "      <td>0</td>\n",
       "      <td>0</td>\n",
       "      <td>135915</td>\n",
       "      <td>2017-03-06</td>\n",
       "    </tr>\n",
       "  </tbody>\n",
       "</table>\n",
       "<p>5 rows × 24 columns</p>\n",
       "</div>"
      ],
      "text/plain": [
       "   CustomerID  Title FirstName MiddleName   LastName  Suffix  \\\n",
       "0       11219    NaN   Charles        NaN       Cook     NaN   \n",
       "1       11241    NaN      Lisa        NaN        Cai     NaN   \n",
       "2       11352    NaN   Raymond          A  Rodriguez     NaN   \n",
       "3       11904    NaN    Kaylee        NaN       Cook     NaN   \n",
       "4       11908    NaN    Rafael          A       Tang     NaN   \n",
       "\n",
       "                AddressLine1  AddressLine2             City  \\\n",
       "0           6871 Bel Air Dr.           NaN         Woodburn   \n",
       "1          102, rue de Berri           NaN         Les Ulis   \n",
       "2  24, impasse Ste-Madeleine           NaN           Pantin   \n",
       "3          5742 Curtis Drive           NaN          Geelong   \n",
       "4            8839 Leonard Dr           NaN  South Melbourne   \n",
       "\n",
       "   StateProvinceName  ...        Education      Occupation Gender  \\\n",
       "0             Oregon  ...      High School  Skilled Manual      M   \n",
       "1            Essonne  ...  Partial College  Skilled Manual      F   \n",
       "2  Seine Saint Denis  ...  Partial College        Clerical      M   \n",
       "3           Victoria  ...  Graduate Degree    Professional      F   \n",
       "4           Victoria  ...  Graduate Degree    Professional      M   \n",
       "\n",
       "  MaritalStatus HomeOwnerFlag NumberCarsOwned NumberChildrenAtHome  \\\n",
       "0             M             1               2                    2   \n",
       "1             S             1               0                    0   \n",
       "2             M             1               3                    0   \n",
       "3             S             1               2                    0   \n",
       "4             S             1               2                    0   \n",
       "\n",
       "  TotalChildren  YearlyIncome  LastUpdated  \n",
       "0             2         56100   2017-03-06  \n",
       "1             0         61555   2017-03-06  \n",
       "2             2         83613   2017-03-06  \n",
       "3             0        130551   2017-03-06  \n",
       "4             0        135915   2017-03-06  \n",
       "\n",
       "[5 rows x 24 columns]"
      ]
     },
     "execution_count": 55,
     "metadata": {},
     "output_type": "execute_result"
    }
   ],
   "source": [
    "df3.head()"
   ]
  },
  {
   "cell_type": "code",
   "execution_count": 56,
   "metadata": {},
   "outputs": [
    {
     "data": {
      "text/html": [
       "<div>\n",
       "<style scoped>\n",
       "    .dataframe tbody tr th:only-of-type {\n",
       "        vertical-align: middle;\n",
       "    }\n",
       "\n",
       "    .dataframe tbody tr th {\n",
       "        vertical-align: top;\n",
       "    }\n",
       "\n",
       "    .dataframe thead th {\n",
       "        text-align: right;\n",
       "    }\n",
       "</style>\n",
       "<table border=\"1\" class=\"dataframe\">\n",
       "  <thead>\n",
       "    <tr style=\"text-align: right;\">\n",
       "      <th></th>\n",
       "      <th>CustomerID</th>\n",
       "      <th>Title</th>\n",
       "      <th>FirstName</th>\n",
       "      <th>MiddleName</th>\n",
       "      <th>LastName</th>\n",
       "      <th>Suffix</th>\n",
       "      <th>AddressLine1</th>\n",
       "      <th>AddressLine2</th>\n",
       "      <th>City</th>\n",
       "      <th>StateProvinceName</th>\n",
       "      <th>...</th>\n",
       "      <th>Education</th>\n",
       "      <th>Occupation</th>\n",
       "      <th>Gender</th>\n",
       "      <th>MaritalStatus</th>\n",
       "      <th>HomeOwnerFlag</th>\n",
       "      <th>NumberCarsOwned</th>\n",
       "      <th>NumberChildrenAtHome</th>\n",
       "      <th>TotalChildren</th>\n",
       "      <th>YearlyIncome</th>\n",
       "      <th>LastUpdated</th>\n",
       "    </tr>\n",
       "  </thead>\n",
       "  <tbody>\n",
       "    <tr>\n",
       "      <th>0</th>\n",
       "      <td>11908</td>\n",
       "      <td>NaN</td>\n",
       "      <td>Rafael</td>\n",
       "      <td>A</td>\n",
       "      <td>Tang</td>\n",
       "      <td>NaN</td>\n",
       "      <td>8839 Leonard Dr</td>\n",
       "      <td>NaN</td>\n",
       "      <td>South Melbourne</td>\n",
       "      <td>Victoria</td>\n",
       "      <td>...</td>\n",
       "      <td>Graduate Degree</td>\n",
       "      <td>Professional</td>\n",
       "      <td>M</td>\n",
       "      <td>S</td>\n",
       "      <td>1</td>\n",
       "      <td>2</td>\n",
       "      <td>0</td>\n",
       "      <td>0</td>\n",
       "      <td>135915</td>\n",
       "      <td>2017-03-06</td>\n",
       "    </tr>\n",
       "    <tr>\n",
       "      <th>1</th>\n",
       "      <td>12286</td>\n",
       "      <td>NaN</td>\n",
       "      <td>Nathan</td>\n",
       "      <td>M</td>\n",
       "      <td>Jenkins</td>\n",
       "      <td>NaN</td>\n",
       "      <td>3093 Roland Drive</td>\n",
       "      <td>NaN</td>\n",
       "      <td>Peterborough</td>\n",
       "      <td>England</td>\n",
       "      <td>...</td>\n",
       "      <td>Graduate Degree</td>\n",
       "      <td>Professional</td>\n",
       "      <td>M</td>\n",
       "      <td>S</td>\n",
       "      <td>1</td>\n",
       "      <td>2</td>\n",
       "      <td>0</td>\n",
       "      <td>0</td>\n",
       "      <td>137732</td>\n",
       "      <td>2017-03-06</td>\n",
       "    </tr>\n",
       "    <tr>\n",
       "      <th>2</th>\n",
       "      <td>12892</td>\n",
       "      <td>NaN</td>\n",
       "      <td>Brian</td>\n",
       "      <td>NaN</td>\n",
       "      <td>Peterson</td>\n",
       "      <td>NaN</td>\n",
       "      <td>1284 Poppy Pl.</td>\n",
       "      <td>NaN</td>\n",
       "      <td>Royal Oak</td>\n",
       "      <td>British Columbia</td>\n",
       "      <td>...</td>\n",
       "      <td>Graduate Degree</td>\n",
       "      <td>Professional</td>\n",
       "      <td>M</td>\n",
       "      <td>M</td>\n",
       "      <td>1</td>\n",
       "      <td>2</td>\n",
       "      <td>0</td>\n",
       "      <td>0</td>\n",
       "      <td>135404</td>\n",
       "      <td>2017-03-06</td>\n",
       "    </tr>\n",
       "    <tr>\n",
       "      <th>3</th>\n",
       "      <td>14698</td>\n",
       "      <td>NaN</td>\n",
       "      <td>Diane</td>\n",
       "      <td>NaN</td>\n",
       "      <td>Navarro</td>\n",
       "      <td>NaN</td>\n",
       "      <td>Potsdamer Straße 92324</td>\n",
       "      <td>NaN</td>\n",
       "      <td>Frankfurt am Main</td>\n",
       "      <td>Saarland</td>\n",
       "      <td>...</td>\n",
       "      <td>Bachelors</td>\n",
       "      <td>Management</td>\n",
       "      <td>F</td>\n",
       "      <td>M</td>\n",
       "      <td>1</td>\n",
       "      <td>3</td>\n",
       "      <td>0</td>\n",
       "      <td>0</td>\n",
       "      <td>104040</td>\n",
       "      <td>2017-03-06</td>\n",
       "    </tr>\n",
       "    <tr>\n",
       "      <th>4</th>\n",
       "      <td>15085</td>\n",
       "      <td>NaN</td>\n",
       "      <td>Kristin</td>\n",
       "      <td>H</td>\n",
       "      <td>Jai</td>\n",
       "      <td>NaN</td>\n",
       "      <td>88, impasse Notre-Dame</td>\n",
       "      <td>NaN</td>\n",
       "      <td>Morangis</td>\n",
       "      <td>Essonne</td>\n",
       "      <td>...</td>\n",
       "      <td>Graduate Degree</td>\n",
       "      <td>Professional</td>\n",
       "      <td>F</td>\n",
       "      <td>S</td>\n",
       "      <td>1</td>\n",
       "      <td>0</td>\n",
       "      <td>0</td>\n",
       "      <td>0</td>\n",
       "      <td>129319</td>\n",
       "      <td>2017-03-06</td>\n",
       "    </tr>\n",
       "  </tbody>\n",
       "</table>\n",
       "<p>5 rows × 24 columns</p>\n",
       "</div>"
      ],
      "text/plain": [
       "   CustomerID  Title FirstName MiddleName  LastName  Suffix  \\\n",
       "0       11908    NaN    Rafael          A      Tang     NaN   \n",
       "1       12286    NaN    Nathan          M   Jenkins     NaN   \n",
       "2       12892    NaN     Brian        NaN  Peterson     NaN   \n",
       "3       14698    NaN     Diane        NaN   Navarro     NaN   \n",
       "4       15085    NaN   Kristin          H       Jai     NaN   \n",
       "\n",
       "             AddressLine1  AddressLine2               City StateProvinceName  \\\n",
       "0         8839 Leonard Dr           NaN    South Melbourne          Victoria   \n",
       "1       3093 Roland Drive           NaN       Peterborough           England   \n",
       "2          1284 Poppy Pl.           NaN          Royal Oak  British Columbia   \n",
       "3  Potsdamer Straße 92324           NaN  Frankfurt am Main          Saarland   \n",
       "4  88, impasse Notre-Dame           NaN           Morangis           Essonne   \n",
       "\n",
       "   ...        Education    Occupation Gender MaritalStatus HomeOwnerFlag  \\\n",
       "0  ...  Graduate Degree  Professional      M             S             1   \n",
       "1  ...  Graduate Degree  Professional      M             S             1   \n",
       "2  ...  Graduate Degree  Professional      M             M             1   \n",
       "3  ...        Bachelors    Management      F             M             1   \n",
       "4  ...  Graduate Degree  Professional      F             S             1   \n",
       "\n",
       "  NumberCarsOwned NumberChildrenAtHome TotalChildren  YearlyIncome  \\\n",
       "0               2                    0             0        135915   \n",
       "1               2                    0             0        137732   \n",
       "2               2                    0             0        135404   \n",
       "3               3                    0             0        104040   \n",
       "4               0                    0             0        129319   \n",
       "\n",
       "   LastUpdated  \n",
       "0   2017-03-06  \n",
       "1   2017-03-06  \n",
       "2   2017-03-06  \n",
       "3   2017-03-06  \n",
       "4   2017-03-06  \n",
       "\n",
       "[5 rows x 24 columns]"
      ]
     },
     "execution_count": 56,
     "metadata": {},
     "output_type": "execute_result"
    }
   ],
   "source": [
    "df4.head()"
   ]
  },
  {
   "cell_type": "code",
   "execution_count": 57,
   "metadata": {},
   "outputs": [
    {
     "data": {
      "text/plain": [
       "Index(['CustomerID', 'Title', 'FirstName', 'MiddleName', 'LastName', 'Suffix',\n",
       "       'AddressLine1', 'AddressLine2', 'City', 'StateProvinceName',\n",
       "       'CountryRegionName', 'PostalCode', 'PhoneNumber', 'BirthDate',\n",
       "       'Education', 'Occupation', 'Gender', 'MaritalStatus', 'HomeOwnerFlag',\n",
       "       'NumberCarsOwned', 'NumberChildrenAtHome', 'TotalChildren',\n",
       "       'YearlyIncome', 'LastUpdated'],\n",
       "      dtype='object')"
      ]
     },
     "execution_count": 57,
     "metadata": {},
     "output_type": "execute_result"
    }
   ],
   "source": [
    "df1.columns"
   ]
  },
  {
   "cell_type": "code",
   "execution_count": 58,
   "metadata": {},
   "outputs": [
    {
     "data": {
      "text/plain": [
       "Index(['CustomerID', 'BikeBuyer', 'AvgMonthSpend'], dtype='object')"
      ]
     },
     "execution_count": 58,
     "metadata": {},
     "output_type": "execute_result"
    }
   ],
   "source": [
    "df2.columns"
   ]
  },
  {
   "cell_type": "code",
   "execution_count": 59,
   "metadata": {},
   "outputs": [
    {
     "data": {
      "text/plain": [
       "Index(['CustomerID', 'Title', 'FirstName', 'MiddleName', 'LastName', 'Suffix',\n",
       "       'AddressLine1', 'AddressLine2', 'City', 'StateProvinceName',\n",
       "       'CountryRegionName', 'PostalCode', 'PhoneNumber', 'BirthDate',\n",
       "       'Education', 'Occupation', 'Gender', 'MaritalStatus', 'HomeOwnerFlag',\n",
       "       'NumberCarsOwned', 'NumberChildrenAtHome', 'TotalChildren',\n",
       "       'YearlyIncome', 'LastUpdated'],\n",
       "      dtype='object')"
      ]
     },
     "execution_count": 59,
     "metadata": {},
     "output_type": "execute_result"
    }
   ],
   "source": [
    "df3.columns"
   ]
  },
  {
   "cell_type": "code",
   "execution_count": 60,
   "metadata": {},
   "outputs": [
    {
     "data": {
      "text/plain": [
       "Index(['CustomerID', 'Title', 'FirstName', 'MiddleName', 'LastName', 'Suffix',\n",
       "       'AddressLine1', 'AddressLine2', 'City', 'StateProvinceName',\n",
       "       'CountryRegionName', 'PostalCode', 'PhoneNumber', 'BirthDate',\n",
       "       'Education', 'Occupation', 'Gender', 'MaritalStatus', 'HomeOwnerFlag',\n",
       "       'NumberCarsOwned', 'NumberChildrenAtHome', 'TotalChildren',\n",
       "       'YearlyIncome', 'LastUpdated'],\n",
       "      dtype='object')"
      ]
     },
     "execution_count": 60,
     "metadata": {},
     "output_type": "execute_result"
    }
   ],
   "source": [
    "df4.columns"
   ]
  },
  {
   "cell_type": "code",
   "execution_count": 61,
   "metadata": {},
   "outputs": [
    {
     "name": "stdout",
     "output_type": "stream",
     "text": [
      "<class 'pandas.core.frame.DataFrame'>\n",
      "RangeIndex: 50 entries, 0 to 49\n",
      "Data columns (total 24 columns):\n",
      " #   Column                Non-Null Count  Dtype  \n",
      "---  ------                --------------  -----  \n",
      " 0   CustomerID            50 non-null     int64  \n",
      " 1   Title                 0 non-null      float64\n",
      " 2   FirstName             50 non-null     object \n",
      " 3   MiddleName            28 non-null     object \n",
      " 4   LastName              50 non-null     object \n",
      " 5   Suffix                0 non-null      float64\n",
      " 6   AddressLine1          50 non-null     object \n",
      " 7   AddressLine2          0 non-null      float64\n",
      " 8   City                  50 non-null     object \n",
      " 9   StateProvinceName     50 non-null     object \n",
      " 10  CountryRegionName     50 non-null     object \n",
      " 11  PostalCode            50 non-null     object \n",
      " 12  PhoneNumber           50 non-null     object \n",
      " 13  BirthDate             50 non-null     object \n",
      " 14  Education             50 non-null     object \n",
      " 15  Occupation            50 non-null     object \n",
      " 16  Gender                50 non-null     object \n",
      " 17  MaritalStatus         50 non-null     object \n",
      " 18  HomeOwnerFlag         50 non-null     int64  \n",
      " 19  NumberCarsOwned       50 non-null     int64  \n",
      " 20  NumberChildrenAtHome  50 non-null     int64  \n",
      " 21  TotalChildren         50 non-null     int64  \n",
      " 22  YearlyIncome          50 non-null     int64  \n",
      " 23  LastUpdated           50 non-null     object \n",
      "dtypes: float64(3), int64(6), object(15)\n",
      "memory usage: 9.5+ KB\n"
     ]
    }
   ],
   "source": [
    "df3.info()"
   ]
  },
  {
   "cell_type": "code",
   "execution_count": 62,
   "metadata": {},
   "outputs": [
    {
     "name": "stdout",
     "output_type": "stream",
     "text": [
      "<class 'pandas.core.frame.DataFrame'>\n",
      "RangeIndex: 25 entries, 0 to 24\n",
      "Data columns (total 24 columns):\n",
      " #   Column                Non-Null Count  Dtype  \n",
      "---  ------                --------------  -----  \n",
      " 0   CustomerID            25 non-null     int64  \n",
      " 1   Title                 0 non-null      float64\n",
      " 2   FirstName             25 non-null     object \n",
      " 3   MiddleName            19 non-null     object \n",
      " 4   LastName              25 non-null     object \n",
      " 5   Suffix                0 non-null      float64\n",
      " 6   AddressLine1          25 non-null     object \n",
      " 7   AddressLine2          0 non-null      float64\n",
      " 8   City                  25 non-null     object \n",
      " 9   StateProvinceName     25 non-null     object \n",
      " 10  CountryRegionName     25 non-null     object \n",
      " 11  PostalCode            25 non-null     object \n",
      " 12  PhoneNumber           25 non-null     object \n",
      " 13  BirthDate             25 non-null     object \n",
      " 14  Education             25 non-null     object \n",
      " 15  Occupation            25 non-null     object \n",
      " 16  Gender                25 non-null     object \n",
      " 17  MaritalStatus         25 non-null     object \n",
      " 18  HomeOwnerFlag         25 non-null     int64  \n",
      " 19  NumberCarsOwned       25 non-null     int64  \n",
      " 20  NumberChildrenAtHome  25 non-null     int64  \n",
      " 21  TotalChildren         25 non-null     int64  \n",
      " 22  YearlyIncome          25 non-null     int64  \n",
      " 23  LastUpdated           25 non-null     object \n",
      "dtypes: float64(3), int64(6), object(15)\n",
      "memory usage: 4.8+ KB\n"
     ]
    }
   ],
   "source": [
    "df4.info()"
   ]
  },
  {
   "cell_type": "code",
   "execution_count": 63,
   "metadata": {},
   "outputs": [
    {
     "name": "stdout",
     "output_type": "stream",
     "text": [
      "<class 'pandas.core.frame.DataFrame'>\n",
      "RangeIndex: 18355 entries, 0 to 18354\n",
      "Data columns (total 3 columns):\n",
      " #   Column         Non-Null Count  Dtype  \n",
      "---  ------         --------------  -----  \n",
      " 0   CustomerID     18355 non-null  int64  \n",
      " 1   BikeBuyer      18355 non-null  int64  \n",
      " 2   AvgMonthSpend  18355 non-null  float64\n",
      "dtypes: float64(1), int64(2)\n",
      "memory usage: 430.3 KB\n"
     ]
    }
   ],
   "source": [
    "df2.info()"
   ]
  },
  {
   "cell_type": "code",
   "execution_count": 64,
   "metadata": {},
   "outputs": [
    {
     "data": {
      "text/plain": [
       "array([1, 0])"
      ]
     },
     "execution_count": 64,
     "metadata": {},
     "output_type": "execute_result"
    }
   ],
   "source": [
    "df2['BikeBuyer'].unique()"
   ]
  },
  {
   "cell_type": "code",
   "execution_count": 65,
   "metadata": {},
   "outputs": [
    {
     "name": "stdout",
     "output_type": "stream",
     "text": [
      "<class 'pandas.core.frame.DataFrame'>\n",
      "RangeIndex: 18361 entries, 0 to 18360\n",
      "Data columns (total 24 columns):\n",
      " #   Column                Non-Null Count  Dtype \n",
      "---  ------                --------------  ----- \n",
      " 0   CustomerID            18361 non-null  int64 \n",
      " 1   Title                 101 non-null    object\n",
      " 2   FirstName             18361 non-null  object\n",
      " 3   MiddleName            10572 non-null  object\n",
      " 4   LastName              18361 non-null  object\n",
      " 5   Suffix                3 non-null      object\n",
      " 6   AddressLine1          18361 non-null  object\n",
      " 7   AddressLine2          311 non-null    object\n",
      " 8   City                  18361 non-null  object\n",
      " 9   StateProvinceName     18361 non-null  object\n",
      " 10  CountryRegionName     18361 non-null  object\n",
      " 11  PostalCode            18361 non-null  object\n",
      " 12  PhoneNumber           18361 non-null  object\n",
      " 13  BirthDate             18361 non-null  object\n",
      " 14  Education             18361 non-null  object\n",
      " 15  Occupation            18361 non-null  object\n",
      " 16  Gender                18361 non-null  object\n",
      " 17  MaritalStatus         18361 non-null  object\n",
      " 18  HomeOwnerFlag         18361 non-null  int64 \n",
      " 19  NumberCarsOwned       18361 non-null  int64 \n",
      " 20  NumberChildrenAtHome  18361 non-null  int64 \n",
      " 21  TotalChildren         18361 non-null  int64 \n",
      " 22  YearlyIncome          18361 non-null  int64 \n",
      " 23  LastUpdated           18361 non-null  object\n",
      "dtypes: int64(6), object(18)\n",
      "memory usage: 3.4+ MB\n"
     ]
    }
   ],
   "source": [
    "df1.info()"
   ]
  },
  {
   "cell_type": "markdown",
   "metadata": {},
   "source": [
    "> Merging the two df1 and df2 having same CustomerID"
   ]
  },
  {
   "cell_type": "code",
   "execution_count": 66,
   "metadata": {},
   "outputs": [],
   "source": [
    "df = df2.merge(df1, left_on='CustomerID', right_on='CustomerID', how='left')"
   ]
  },
  {
   "cell_type": "code",
   "execution_count": 67,
   "metadata": {},
   "outputs": [
    {
     "data": {
      "text/html": [
       "<div>\n",
       "<style scoped>\n",
       "    .dataframe tbody tr th:only-of-type {\n",
       "        vertical-align: middle;\n",
       "    }\n",
       "\n",
       "    .dataframe tbody tr th {\n",
       "        vertical-align: top;\n",
       "    }\n",
       "\n",
       "    .dataframe thead th {\n",
       "        text-align: right;\n",
       "    }\n",
       "</style>\n",
       "<table border=\"1\" class=\"dataframe\">\n",
       "  <thead>\n",
       "    <tr style=\"text-align: right;\">\n",
       "      <th></th>\n",
       "      <th>CustomerID</th>\n",
       "      <th>BikeBuyer</th>\n",
       "      <th>AvgMonthSpend</th>\n",
       "      <th>Title</th>\n",
       "      <th>FirstName</th>\n",
       "      <th>MiddleName</th>\n",
       "      <th>LastName</th>\n",
       "      <th>Suffix</th>\n",
       "      <th>AddressLine1</th>\n",
       "      <th>AddressLine2</th>\n",
       "      <th>...</th>\n",
       "      <th>Education</th>\n",
       "      <th>Occupation</th>\n",
       "      <th>Gender</th>\n",
       "      <th>MaritalStatus</th>\n",
       "      <th>HomeOwnerFlag</th>\n",
       "      <th>NumberCarsOwned</th>\n",
       "      <th>NumberChildrenAtHome</th>\n",
       "      <th>TotalChildren</th>\n",
       "      <th>YearlyIncome</th>\n",
       "      <th>LastUpdated</th>\n",
       "    </tr>\n",
       "  </thead>\n",
       "  <tbody>\n",
       "    <tr>\n",
       "      <th>0</th>\n",
       "      <td>21173</td>\n",
       "      <td>1</td>\n",
       "      <td>50.97</td>\n",
       "      <td>NaN</td>\n",
       "      <td>Chad</td>\n",
       "      <td>C</td>\n",
       "      <td>Yuan</td>\n",
       "      <td>NaN</td>\n",
       "      <td>7090 C. Mount Hood</td>\n",
       "      <td>NaN</td>\n",
       "      <td>...</td>\n",
       "      <td>Bachelors</td>\n",
       "      <td>Clerical</td>\n",
       "      <td>M</td>\n",
       "      <td>M</td>\n",
       "      <td>1</td>\n",
       "      <td>3</td>\n",
       "      <td>0</td>\n",
       "      <td>1</td>\n",
       "      <td>81916</td>\n",
       "      <td>2017-03-06</td>\n",
       "    </tr>\n",
       "    <tr>\n",
       "      <th>1</th>\n",
       "      <td>13249</td>\n",
       "      <td>1</td>\n",
       "      <td>53.11</td>\n",
       "      <td>NaN</td>\n",
       "      <td>Ryan</td>\n",
       "      <td>NaN</td>\n",
       "      <td>Perry</td>\n",
       "      <td>NaN</td>\n",
       "      <td>3651 Willow Lake Rd</td>\n",
       "      <td>NaN</td>\n",
       "      <td>...</td>\n",
       "      <td>Partial College</td>\n",
       "      <td>Clerical</td>\n",
       "      <td>M</td>\n",
       "      <td>M</td>\n",
       "      <td>1</td>\n",
       "      <td>2</td>\n",
       "      <td>1</td>\n",
       "      <td>2</td>\n",
       "      <td>81076</td>\n",
       "      <td>2017-03-06</td>\n",
       "    </tr>\n",
       "    <tr>\n",
       "      <th>2</th>\n",
       "      <td>29350</td>\n",
       "      <td>1</td>\n",
       "      <td>54.08</td>\n",
       "      <td>NaN</td>\n",
       "      <td>Julia</td>\n",
       "      <td>NaN</td>\n",
       "      <td>Thompson</td>\n",
       "      <td>NaN</td>\n",
       "      <td>1774 Tice Valley Blvd.</td>\n",
       "      <td>NaN</td>\n",
       "      <td>...</td>\n",
       "      <td>Bachelors</td>\n",
       "      <td>Clerical</td>\n",
       "      <td>F</td>\n",
       "      <td>S</td>\n",
       "      <td>0</td>\n",
       "      <td>3</td>\n",
       "      <td>0</td>\n",
       "      <td>0</td>\n",
       "      <td>86387</td>\n",
       "      <td>2017-03-06</td>\n",
       "    </tr>\n",
       "    <tr>\n",
       "      <th>3</th>\n",
       "      <td>13503</td>\n",
       "      <td>1</td>\n",
       "      <td>56.93</td>\n",
       "      <td>NaN</td>\n",
       "      <td>Theodore</td>\n",
       "      <td>NaN</td>\n",
       "      <td>Gomez</td>\n",
       "      <td>NaN</td>\n",
       "      <td>2103 Baldwin Dr</td>\n",
       "      <td>NaN</td>\n",
       "      <td>...</td>\n",
       "      <td>Partial College</td>\n",
       "      <td>Skilled Manual</td>\n",
       "      <td>M</td>\n",
       "      <td>M</td>\n",
       "      <td>1</td>\n",
       "      <td>2</td>\n",
       "      <td>1</td>\n",
       "      <td>2</td>\n",
       "      <td>61481</td>\n",
       "      <td>2017-03-06</td>\n",
       "    </tr>\n",
       "    <tr>\n",
       "      <th>4</th>\n",
       "      <td>22803</td>\n",
       "      <td>1</td>\n",
       "      <td>55.41</td>\n",
       "      <td>NaN</td>\n",
       "      <td>Marshall</td>\n",
       "      <td>J</td>\n",
       "      <td>Shan</td>\n",
       "      <td>NaN</td>\n",
       "      <td>Am Gallberg 234</td>\n",
       "      <td>NaN</td>\n",
       "      <td>...</td>\n",
       "      <td>Partial College</td>\n",
       "      <td>Skilled Manual</td>\n",
       "      <td>M</td>\n",
       "      <td>S</td>\n",
       "      <td>1</td>\n",
       "      <td>1</td>\n",
       "      <td>0</td>\n",
       "      <td>0</td>\n",
       "      <td>51804</td>\n",
       "      <td>2017-03-06</td>\n",
       "    </tr>\n",
       "  </tbody>\n",
       "</table>\n",
       "<p>5 rows × 26 columns</p>\n",
       "</div>"
      ],
      "text/plain": [
       "   CustomerID  BikeBuyer  AvgMonthSpend Title FirstName MiddleName  LastName  \\\n",
       "0       21173          1          50.97   NaN      Chad          C      Yuan   \n",
       "1       13249          1          53.11   NaN      Ryan        NaN     Perry   \n",
       "2       29350          1          54.08   NaN     Julia        NaN  Thompson   \n",
       "3       13503          1          56.93   NaN  Theodore        NaN     Gomez   \n",
       "4       22803          1          55.41   NaN  Marshall          J      Shan   \n",
       "\n",
       "  Suffix            AddressLine1 AddressLine2  ...        Education  \\\n",
       "0    NaN      7090 C. Mount Hood          NaN  ...        Bachelors   \n",
       "1    NaN     3651 Willow Lake Rd          NaN  ...  Partial College   \n",
       "2    NaN  1774 Tice Valley Blvd.          NaN  ...        Bachelors   \n",
       "3    NaN         2103 Baldwin Dr          NaN  ...  Partial College   \n",
       "4    NaN         Am Gallberg 234          NaN  ...  Partial College   \n",
       "\n",
       "       Occupation Gender MaritalStatus HomeOwnerFlag NumberCarsOwned  \\\n",
       "0        Clerical      M             M             1               3   \n",
       "1        Clerical      M             M             1               2   \n",
       "2        Clerical      F             S             0               3   \n",
       "3  Skilled Manual      M             M             1               2   \n",
       "4  Skilled Manual      M             S             1               1   \n",
       "\n",
       "  NumberChildrenAtHome TotalChildren YearlyIncome LastUpdated  \n",
       "0                    0             1        81916  2017-03-06  \n",
       "1                    1             2        81076  2017-03-06  \n",
       "2                    0             0        86387  2017-03-06  \n",
       "3                    1             2        61481  2017-03-06  \n",
       "4                    0             0        51804  2017-03-06  \n",
       "\n",
       "[5 rows x 26 columns]"
      ]
     },
     "execution_count": 67,
     "metadata": {},
     "output_type": "execute_result"
    }
   ],
   "source": [
    "df.head()"
   ]
  },
  {
   "cell_type": "code",
   "execution_count": 68,
   "metadata": {},
   "outputs": [
    {
     "name": "stdout",
     "output_type": "stream",
     "text": [
      "<class 'pandas.core.frame.DataFrame'>\n",
      "Int64Index: 18361 entries, 0 to 18360\n",
      "Data columns (total 26 columns):\n",
      " #   Column                Non-Null Count  Dtype  \n",
      "---  ------                --------------  -----  \n",
      " 0   CustomerID            18361 non-null  int64  \n",
      " 1   BikeBuyer             18361 non-null  int64  \n",
      " 2   AvgMonthSpend         18361 non-null  float64\n",
      " 3   Title                 101 non-null    object \n",
      " 4   FirstName             18361 non-null  object \n",
      " 5   MiddleName            10572 non-null  object \n",
      " 6   LastName              18361 non-null  object \n",
      " 7   Suffix                3 non-null      object \n",
      " 8   AddressLine1          18361 non-null  object \n",
      " 9   AddressLine2          311 non-null    object \n",
      " 10  City                  18361 non-null  object \n",
      " 11  StateProvinceName     18361 non-null  object \n",
      " 12  CountryRegionName     18361 non-null  object \n",
      " 13  PostalCode            18361 non-null  object \n",
      " 14  PhoneNumber           18361 non-null  object \n",
      " 15  BirthDate             18361 non-null  object \n",
      " 16  Education             18361 non-null  object \n",
      " 17  Occupation            18361 non-null  object \n",
      " 18  Gender                18361 non-null  object \n",
      " 19  MaritalStatus         18361 non-null  object \n",
      " 20  HomeOwnerFlag         18361 non-null  int64  \n",
      " 21  NumberCarsOwned       18361 non-null  int64  \n",
      " 22  NumberChildrenAtHome  18361 non-null  int64  \n",
      " 23  TotalChildren         18361 non-null  int64  \n",
      " 24  YearlyIncome          18361 non-null  int64  \n",
      " 25  LastUpdated           18361 non-null  object \n",
      "dtypes: float64(1), int64(7), object(18)\n",
      "memory usage: 3.8+ MB\n"
     ]
    }
   ],
   "source": [
    "df.info()"
   ]
  },
  {
   "cell_type": "code",
   "execution_count": 69,
   "metadata": {},
   "outputs": [
    {
     "data": {
      "text/plain": [
       "Index(['CustomerID', 'BikeBuyer', 'AvgMonthSpend', 'Title', 'FirstName',\n",
       "       'MiddleName', 'LastName', 'Suffix', 'AddressLine1', 'AddressLine2',\n",
       "       'City', 'StateProvinceName', 'CountryRegionName', 'PostalCode',\n",
       "       'PhoneNumber', 'BirthDate', 'Education', 'Occupation', 'Gender',\n",
       "       'MaritalStatus', 'HomeOwnerFlag', 'NumberCarsOwned',\n",
       "       'NumberChildrenAtHome', 'TotalChildren', 'YearlyIncome', 'LastUpdated'],\n",
       "      dtype='object')"
      ]
     },
     "execution_count": 69,
     "metadata": {},
     "output_type": "execute_result"
    }
   ],
   "source": [
    "df.columns"
   ]
  },
  {
   "cell_type": "code",
   "execution_count": 70,
   "metadata": {},
   "outputs": [
    {
     "data": {
      "text/plain": [
       "CustomerID             -0.021610\n",
       "BikeBuyer               1.000000\n",
       "AvgMonthSpend           0.280268\n",
       "HomeOwnerFlag           0.229115\n",
       "NumberCarsOwned         0.185078\n",
       "NumberChildrenAtHome    0.359777\n",
       "TotalChildren           0.209479\n",
       "YearlyIncome            0.249457\n",
       "Name: BikeBuyer, dtype: float64"
      ]
     },
     "execution_count": 70,
     "metadata": {},
     "output_type": "execute_result"
    }
   ],
   "source": [
    "df.corr()['BikeBuyer']"
   ]
  },
  {
   "cell_type": "code",
   "execution_count": 71,
   "metadata": {},
   "outputs": [
    {
     "data": {
      "text/plain": [
       "(6, 670, 45, 375)"
      ]
     },
     "execution_count": 71,
     "metadata": {},
     "output_type": "execute_result"
    }
   ],
   "source": [
    "len(df['Title'].unique()), len(df['FirstName'].unique()), len(df['MiddleName'].unique()), len(df['LastName'].unique())"
   ]
  },
  {
   "cell_type": "markdown",
   "metadata": {},
   "source": [
    "> It's clear that FirstName, MiddleName and LastName has to be removed due to high number of unique values in the Natural Language and cannot be hot line encoded"
   ]
  },
  {
   "cell_type": "code",
   "execution_count": 72,
   "metadata": {},
   "outputs": [],
   "source": [
    "df.drop(['FirstName', 'MiddleName', 'LastName'], axis=1, inplace=True)"
   ]
  },
  {
   "cell_type": "code",
   "execution_count": 73,
   "metadata": {},
   "outputs": [
    {
     "data": {
      "text/plain": [
       "(2, 12742, 167, 269)"
      ]
     },
     "execution_count": 73,
     "metadata": {},
     "output_type": "execute_result"
    }
   ],
   "source": [
    "len(df['Suffix'].unique()), len(df['AddressLine1'].unique()), len(df['AddressLine2'].unique()), len(df['City'].unique())"
   ]
  },
  {
   "cell_type": "markdown",
   "metadata": {},
   "source": [
    "> It's clear that AddressLine1, AddressLine2 and City has to be removed due to high number of unique values in the Natural Language and cannot be hot line encoded"
   ]
  },
  {
   "cell_type": "code",
   "execution_count": 74,
   "metadata": {},
   "outputs": [],
   "source": [
    "df.drop(['City', 'AddressLine1', 'AddressLine2'], axis=1, inplace=True)"
   ]
  },
  {
   "cell_type": "code",
   "execution_count": 75,
   "metadata": {},
   "outputs": [
    {
     "data": {
      "text/plain": [
       "Index(['CustomerID', 'BikeBuyer', 'AvgMonthSpend', 'Title', 'Suffix',\n",
       "       'StateProvinceName', 'CountryRegionName', 'PostalCode', 'PhoneNumber',\n",
       "       'BirthDate', 'Education', 'Occupation', 'Gender', 'MaritalStatus',\n",
       "       'HomeOwnerFlag', 'NumberCarsOwned', 'NumberChildrenAtHome',\n",
       "       'TotalChildren', 'YearlyIncome', 'LastUpdated'],\n",
       "      dtype='object')"
      ]
     },
     "execution_count": 75,
     "metadata": {},
     "output_type": "execute_result"
    }
   ],
   "source": [
    "df.columns"
   ]
  },
  {
   "cell_type": "code",
   "execution_count": 76,
   "metadata": {},
   "outputs": [
    {
     "name": "stdout",
     "output_type": "stream",
     "text": [
      "<class 'pandas.core.frame.DataFrame'>\n",
      "Int64Index: 18361 entries, 0 to 18360\n",
      "Data columns (total 20 columns):\n",
      " #   Column                Non-Null Count  Dtype  \n",
      "---  ------                --------------  -----  \n",
      " 0   CustomerID            18361 non-null  int64  \n",
      " 1   BikeBuyer             18361 non-null  int64  \n",
      " 2   AvgMonthSpend         18361 non-null  float64\n",
      " 3   Title                 101 non-null    object \n",
      " 4   Suffix                3 non-null      object \n",
      " 5   StateProvinceName     18361 non-null  object \n",
      " 6   CountryRegionName     18361 non-null  object \n",
      " 7   PostalCode            18361 non-null  object \n",
      " 8   PhoneNumber           18361 non-null  object \n",
      " 9   BirthDate             18361 non-null  object \n",
      " 10  Education             18361 non-null  object \n",
      " 11  Occupation            18361 non-null  object \n",
      " 12  Gender                18361 non-null  object \n",
      " 13  MaritalStatus         18361 non-null  object \n",
      " 14  HomeOwnerFlag         18361 non-null  int64  \n",
      " 15  NumberCarsOwned       18361 non-null  int64  \n",
      " 16  NumberChildrenAtHome  18361 non-null  int64  \n",
      " 17  TotalChildren         18361 non-null  int64  \n",
      " 18  YearlyIncome          18361 non-null  int64  \n",
      " 19  LastUpdated           18361 non-null  object \n",
      "dtypes: float64(1), int64(7), object(12)\n",
      "memory usage: 2.9+ MB\n"
     ]
    }
   ],
   "source": [
    "df.info()"
   ]
  },
  {
   "cell_type": "code",
   "execution_count": 77,
   "metadata": {},
   "outputs": [
    {
     "data": {
      "text/plain": [
       "(54, 6, 323, 8836)"
      ]
     },
     "execution_count": 77,
     "metadata": {},
     "output_type": "execute_result"
    }
   ],
   "source": [
    "len(df['StateProvinceName'].unique()), len(df['CountryRegionName'].unique()), len(df['PostalCode'].unique()), len(df['PhoneNumber'].unique())"
   ]
  },
  {
   "cell_type": "markdown",
   "metadata": {},
   "source": [
    "> It's clear that StateProvinceName, PostalCode and PhoneNumber has to be removed due to high number of unique values in the Natural Language and cannot be hot line encoded"
   ]
  },
  {
   "cell_type": "code",
   "execution_count": 78,
   "metadata": {},
   "outputs": [],
   "source": [
    "df.drop(['StateProvinceName', 'PostalCode', 'PhoneNumber'], axis=1, inplace=True)"
   ]
  },
  {
   "cell_type": "code",
   "execution_count": 79,
   "metadata": {},
   "outputs": [
    {
     "name": "stdout",
     "output_type": "stream",
     "text": [
      "<class 'pandas.core.frame.DataFrame'>\n",
      "Int64Index: 18361 entries, 0 to 18360\n",
      "Data columns (total 17 columns):\n",
      " #   Column                Non-Null Count  Dtype  \n",
      "---  ------                --------------  -----  \n",
      " 0   CustomerID            18361 non-null  int64  \n",
      " 1   BikeBuyer             18361 non-null  int64  \n",
      " 2   AvgMonthSpend         18361 non-null  float64\n",
      " 3   Title                 101 non-null    object \n",
      " 4   Suffix                3 non-null      object \n",
      " 5   CountryRegionName     18361 non-null  object \n",
      " 6   BirthDate             18361 non-null  object \n",
      " 7   Education             18361 non-null  object \n",
      " 8   Occupation            18361 non-null  object \n",
      " 9   Gender                18361 non-null  object \n",
      " 10  MaritalStatus         18361 non-null  object \n",
      " 11  HomeOwnerFlag         18361 non-null  int64  \n",
      " 12  NumberCarsOwned       18361 non-null  int64  \n",
      " 13  NumberChildrenAtHome  18361 non-null  int64  \n",
      " 14  TotalChildren         18361 non-null  int64  \n",
      " 15  YearlyIncome          18361 non-null  int64  \n",
      " 16  LastUpdated           18361 non-null  object \n",
      "dtypes: float64(1), int64(7), object(9)\n",
      "memory usage: 2.5+ MB\n"
     ]
    }
   ],
   "source": [
    "df.info()"
   ]
  },
  {
   "cell_type": "code",
   "execution_count": 80,
   "metadata": {},
   "outputs": [
    {
     "data": {
      "text/plain": [
       "(8230, 5, 5, 2)"
      ]
     },
     "execution_count": 80,
     "metadata": {},
     "output_type": "execute_result"
    }
   ],
   "source": [
    "len(df['BirthDate'].unique()), len(df['Education'].unique()), len(df['Occupation'].unique()), len(df['Gender'].unique())"
   ]
  },
  {
   "cell_type": "code",
   "execution_count": 81,
   "metadata": {},
   "outputs": [
    {
     "data": {
      "text/plain": [
       "(2, 2)"
      ]
     },
     "execution_count": 81,
     "metadata": {},
     "output_type": "execute_result"
    }
   ],
   "source": [
    "len(df['MaritalStatus'].unique()), len(df['LastUpdated'].unique())"
   ]
  },
  {
   "cell_type": "markdown",
   "metadata": {},
   "source": [
    "> It's clear that BirthDate has to be removed due to high number of unique values in the Natural Language and cannot be hot line encoded"
   ]
  },
  {
   "cell_type": "code",
   "execution_count": 82,
   "metadata": {},
   "outputs": [],
   "source": [
    "df.drop('BirthDate', axis=1, inplace=True)"
   ]
  },
  {
   "cell_type": "code",
   "execution_count": 83,
   "metadata": {},
   "outputs": [
    {
     "name": "stdout",
     "output_type": "stream",
     "text": [
      "<class 'pandas.core.frame.DataFrame'>\n",
      "Int64Index: 18361 entries, 0 to 18360\n",
      "Data columns (total 16 columns):\n",
      " #   Column                Non-Null Count  Dtype  \n",
      "---  ------                --------------  -----  \n",
      " 0   CustomerID            18361 non-null  int64  \n",
      " 1   BikeBuyer             18361 non-null  int64  \n",
      " 2   AvgMonthSpend         18361 non-null  float64\n",
      " 3   Title                 101 non-null    object \n",
      " 4   Suffix                3 non-null      object \n",
      " 5   CountryRegionName     18361 non-null  object \n",
      " 6   Education             18361 non-null  object \n",
      " 7   Occupation            18361 non-null  object \n",
      " 8   Gender                18361 non-null  object \n",
      " 9   MaritalStatus         18361 non-null  object \n",
      " 10  HomeOwnerFlag         18361 non-null  int64  \n",
      " 11  NumberCarsOwned       18361 non-null  int64  \n",
      " 12  NumberChildrenAtHome  18361 non-null  int64  \n",
      " 13  TotalChildren         18361 non-null  int64  \n",
      " 14  YearlyIncome          18361 non-null  int64  \n",
      " 15  LastUpdated           18361 non-null  object \n",
      "dtypes: float64(1), int64(7), object(8)\n",
      "memory usage: 2.4+ MB\n"
     ]
    }
   ],
   "source": [
    "df.info()"
   ]
  },
  {
   "cell_type": "markdown",
   "metadata": {},
   "source": [
    "> Title and Suffix has to be also dropped due to very low amount of data present."
   ]
  },
  {
   "cell_type": "code",
   "execution_count": 84,
   "metadata": {},
   "outputs": [],
   "source": [
    "df.drop(['Title', 'Suffix'], axis=1, inplace=True)"
   ]
  },
  {
   "cell_type": "code",
   "execution_count": 85,
   "metadata": {},
   "outputs": [
    {
     "name": "stdout",
     "output_type": "stream",
     "text": [
      "<class 'pandas.core.frame.DataFrame'>\n",
      "Int64Index: 18361 entries, 0 to 18360\n",
      "Data columns (total 14 columns):\n",
      " #   Column                Non-Null Count  Dtype  \n",
      "---  ------                --------------  -----  \n",
      " 0   CustomerID            18361 non-null  int64  \n",
      " 1   BikeBuyer             18361 non-null  int64  \n",
      " 2   AvgMonthSpend         18361 non-null  float64\n",
      " 3   CountryRegionName     18361 non-null  object \n",
      " 4   Education             18361 non-null  object \n",
      " 5   Occupation            18361 non-null  object \n",
      " 6   Gender                18361 non-null  object \n",
      " 7   MaritalStatus         18361 non-null  object \n",
      " 8   HomeOwnerFlag         18361 non-null  int64  \n",
      " 9   NumberCarsOwned       18361 non-null  int64  \n",
      " 10  NumberChildrenAtHome  18361 non-null  int64  \n",
      " 11  TotalChildren         18361 non-null  int64  \n",
      " 12  YearlyIncome          18361 non-null  int64  \n",
      " 13  LastUpdated           18361 non-null  object \n",
      "dtypes: float64(1), int64(7), object(6)\n",
      "memory usage: 2.1+ MB\n"
     ]
    }
   ],
   "source": [
    "df.info()"
   ]
  },
  {
   "cell_type": "code",
   "execution_count": 86,
   "metadata": {},
   "outputs": [
    {
     "data": {
      "text/plain": [
       "CustomerID             -0.021610\n",
       "BikeBuyer               1.000000\n",
       "AvgMonthSpend           0.280268\n",
       "HomeOwnerFlag           0.229115\n",
       "NumberCarsOwned         0.185078\n",
       "NumberChildrenAtHome    0.359777\n",
       "TotalChildren           0.209479\n",
       "YearlyIncome            0.249457\n",
       "Name: BikeBuyer, dtype: float64"
      ]
     },
     "execution_count": 86,
     "metadata": {},
     "output_type": "execute_result"
    }
   ],
   "source": [
    "df.corr()['BikeBuyer']"
   ]
  },
  {
   "cell_type": "markdown",
   "metadata": {},
   "source": [
    "> CustomerID can be removed due to nearly zero correlation score with BikeBuyer"
   ]
  },
  {
   "cell_type": "code",
   "execution_count": 87,
   "metadata": {},
   "outputs": [],
   "source": [
    "df.drop('CustomerID', axis=1, inplace=True)"
   ]
  },
  {
   "cell_type": "code",
   "execution_count": 88,
   "metadata": {},
   "outputs": [
    {
     "name": "stdout",
     "output_type": "stream",
     "text": [
      "<class 'pandas.core.frame.DataFrame'>\n",
      "Int64Index: 18361 entries, 0 to 18360\n",
      "Data columns (total 13 columns):\n",
      " #   Column                Non-Null Count  Dtype  \n",
      "---  ------                --------------  -----  \n",
      " 0   BikeBuyer             18361 non-null  int64  \n",
      " 1   AvgMonthSpend         18361 non-null  float64\n",
      " 2   CountryRegionName     18361 non-null  object \n",
      " 3   Education             18361 non-null  object \n",
      " 4   Occupation            18361 non-null  object \n",
      " 5   Gender                18361 non-null  object \n",
      " 6   MaritalStatus         18361 non-null  object \n",
      " 7   HomeOwnerFlag         18361 non-null  int64  \n",
      " 8   NumberCarsOwned       18361 non-null  int64  \n",
      " 9   NumberChildrenAtHome  18361 non-null  int64  \n",
      " 10  TotalChildren         18361 non-null  int64  \n",
      " 11  YearlyIncome          18361 non-null  int64  \n",
      " 12  LastUpdated           18361 non-null  object \n",
      "dtypes: float64(1), int64(6), object(6)\n",
      "memory usage: 2.0+ MB\n"
     ]
    }
   ],
   "source": [
    "df.info()"
   ]
  },
  {
   "cell_type": "markdown",
   "metadata": {},
   "source": [
    "> c."
   ]
  },
  {
   "cell_type": "code",
   "execution_count": 89,
   "metadata": {},
   "outputs": [
    {
     "name": "stdout",
     "output_type": "stream",
     "text": [
      "[1 0]\n",
      "1803\n",
      "['Australia' 'Canada' 'United States' 'United Kingdom' 'Germany' 'France']\n",
      "['Bachelors' 'Partial College' 'High School' 'Partial High School'\n",
      " 'Graduate Degree']\n",
      "['Clerical' 'Skilled Manual' 'Manual' 'Management' 'Professional']\n",
      "['M' 'F']\n",
      "['M' 'S']\n",
      "[1 0]\n",
      "[3 2 1 0 4 5]\n",
      "[0 1 2 3]\n",
      "[1 2 0 3]\n",
      "15356\n",
      "['2017-03-06' '2017-03-07']\n"
     ]
    }
   ],
   "source": [
    "print(df['BikeBuyer'].unique())\n",
    "print(len(df['AvgMonthSpend'].unique()))\n",
    "print(df['CountryRegionName'].unique())\n",
    "print(df['Education'].unique())\n",
    "print(df['Occupation'].unique())\n",
    "print(df['Gender'].unique())\n",
    "print(df['MaritalStatus'].unique())\n",
    "print(df['HomeOwnerFlag'].unique())\n",
    "print(df['NumberCarsOwned'].unique())\n",
    "print(df['NumberChildrenAtHome'].unique())\n",
    "print(df['TotalChildren'].unique())\n",
    "print(len(df['YearlyIncome'].unique()))\n",
    "print(df['LastUpdated'].unique())"
   ]
  },
  {
   "cell_type": "markdown",
   "metadata": {},
   "source": [
    "* BikeBuyer -> Discrete / Nominal\n",
    "* AvgMonthSpend -> Continuous / Interval\n",
    "* CountryRegionName -> Discrete / Nominal\n",
    "* Education -> Discrete / Ordinal\n",
    "* Occupation -> Discrete / Nominal\n",
    "* Gender -> Discrete / Nominal\n",
    "* MaritalStatus -> Discrete / Nominal\n",
    "* HomeOwnerFlag -> Discrete / Nominal\n",
    "* NumberCarsOwned -> Discrete / Nominal\n",
    "* NumberChildrenAtHome -> Discrete / Nominal\n",
    "* TotalChildren -> Discrete / Nominal\n",
    "* YearlyIncome -> Continuous / Interval\n",
    "* LastUpdated -> Discrete / Nominal"
   ]
  },
  {
   "cell_type": "markdown",
   "metadata": {},
   "source": [
    "### Q2"
   ]
  },
  {
   "cell_type": "markdown",
   "metadata": {},
   "source": [
    "> a. Already handled in first question and the proof is below"
   ]
  },
  {
   "cell_type": "code",
   "execution_count": 90,
   "metadata": {},
   "outputs": [
    {
     "name": "stdout",
     "output_type": "stream",
     "text": [
      "<class 'pandas.core.frame.DataFrame'>\n",
      "Int64Index: 18361 entries, 0 to 18360\n",
      "Data columns (total 13 columns):\n",
      " #   Column                Non-Null Count  Dtype  \n",
      "---  ------                --------------  -----  \n",
      " 0   BikeBuyer             18361 non-null  int64  \n",
      " 1   AvgMonthSpend         18361 non-null  float64\n",
      " 2   CountryRegionName     18361 non-null  object \n",
      " 3   Education             18361 non-null  object \n",
      " 4   Occupation            18361 non-null  object \n",
      " 5   Gender                18361 non-null  object \n",
      " 6   MaritalStatus         18361 non-null  object \n",
      " 7   HomeOwnerFlag         18361 non-null  int64  \n",
      " 8   NumberCarsOwned       18361 non-null  int64  \n",
      " 9   NumberChildrenAtHome  18361 non-null  int64  \n",
      " 10  TotalChildren         18361 non-null  int64  \n",
      " 11  YearlyIncome          18361 non-null  int64  \n",
      " 12  LastUpdated           18361 non-null  object \n",
      "dtypes: float64(1), int64(6), object(6)\n",
      "memory usage: 2.0+ MB\n"
     ]
    }
   ],
   "source": [
    "df.info()"
   ]
  },
  {
   "cell_type": "markdown",
   "metadata": {},
   "source": [
    "> b."
   ]
  },
  {
   "cell_type": "code",
   "execution_count": 91,
   "metadata": {},
   "outputs": [
    {
     "name": "stdout",
     "output_type": "stream",
     "text": [
      "65.29\n",
      "0        0.780671\n",
      "1        0.813448\n",
      "2        0.828304\n",
      "3        0.871956\n",
      "4        0.848675\n",
      "           ...   \n",
      "18356    0.737326\n",
      "18357    0.769337\n",
      "18358    0.759075\n",
      "18359    0.787563\n",
      "18360    0.800582\n",
      "Name: AvgMonthSpend, Length: 18361, dtype: float64\n"
     ]
    }
   ],
   "source": [
    "# 1. BikeBuyer is our target so we don't need to normalize that column (classification problem)\n",
    "# 2. AvgMonthSpend can be noramlized. We perform maximum normalization on this column.\n",
    "print(df['AvgMonthSpend'].max())\n",
    "df['AvgMonthSpend'] = df['AvgMonthSpend']/df['AvgMonthSpend'].max()\n",
    "print(df['AvgMonthSpend'])"
   ]
  },
  {
   "cell_type": "code",
   "execution_count": 92,
   "metadata": {},
   "outputs": [
    {
     "name": "stdout",
     "output_type": "stream",
     "text": [
      "5\n",
      "0        0.6\n",
      "1        0.4\n",
      "2        0.6\n",
      "3        0.4\n",
      "4        0.2\n",
      "        ... \n",
      "18356    0.2\n",
      "18357    0.4\n",
      "18358    0.4\n",
      "18359    0.0\n",
      "18360    0.4\n",
      "Name: NumberCarsOwned, Length: 18361, dtype: float64\n"
     ]
    }
   ],
   "source": [
    "# 3. CountryRegionName, Education, Occupation, Gender, MaritalStatus and LastUpdated need to be hot-line encoded\n",
    "# 4. HomeOwnerFlag are binary in nature therefore no need to normalize it.\n",
    "# 5. NumberCarsOwned can be noramlized. We perform maximum normalization on this column.\n",
    "print(df['NumberCarsOwned'].max())\n",
    "df['NumberCarsOwned'] = df['NumberCarsOwned']/df['NumberCarsOwned'].max()\n",
    "print(df['NumberCarsOwned'])"
   ]
  },
  {
   "cell_type": "code",
   "execution_count": 93,
   "metadata": {},
   "outputs": [
    {
     "name": "stdout",
     "output_type": "stream",
     "text": [
      "3\n",
      "0        0.000000\n",
      "1        0.333333\n",
      "2        0.000000\n",
      "3        0.333333\n",
      "4        0.000000\n",
      "           ...   \n",
      "18356    0.000000\n",
      "18357    0.000000\n",
      "18358    0.000000\n",
      "18359    0.000000\n",
      "18360    0.000000\n",
      "Name: NumberChildrenAtHome, Length: 18361, dtype: float64\n"
     ]
    }
   ],
   "source": [
    "# 6. NumberChildrenAtHome can be noramlized. We perform maximum normalization on this column.\n",
    "print(df['NumberChildrenAtHome'].max())\n",
    "df['NumberChildrenAtHome'] = df['NumberChildrenAtHome']/df['NumberChildrenAtHome'].max()\n",
    "print(df['NumberChildrenAtHome'])"
   ]
  },
  {
   "cell_type": "code",
   "execution_count": 94,
   "metadata": {},
   "outputs": [
    {
     "name": "stdout",
     "output_type": "stream",
     "text": [
      "3\n",
      "0        0.333333\n",
      "1        0.666667\n",
      "2        0.000000\n",
      "3        0.666667\n",
      "4        0.000000\n",
      "           ...   \n",
      "18356    0.666667\n",
      "18357    0.000000\n",
      "18358    0.000000\n",
      "18359    0.000000\n",
      "18360    0.000000\n",
      "Name: TotalChildren, Length: 18361, dtype: float64\n"
     ]
    }
   ],
   "source": [
    "# 7. TotalChildren can be noramlized. We perform maximum normalization on this column.\n",
    "print(df['TotalChildren'].max())\n",
    "df['TotalChildren'] = df['TotalChildren']/df['TotalChildren'].max()\n",
    "print(df['TotalChildren'])"
   ]
  },
  {
   "cell_type": "code",
   "execution_count": 95,
   "metadata": {},
   "outputs": [
    {
     "name": "stdout",
     "output_type": "stream",
     "text": [
      "139115\n",
      "0        0.588837\n",
      "1        0.582798\n",
      "2        0.620975\n",
      "3        0.441944\n",
      "4        0.372383\n",
      "           ...   \n",
      "18356    0.380642\n",
      "18357    0.438429\n",
      "18358    0.372778\n",
      "18359    0.626654\n",
      "18360    0.983762\n",
      "Name: YearlyIncome, Length: 18361, dtype: float64\n"
     ]
    }
   ],
   "source": [
    "# 7. YearlyIncome can be noramlized. We perform maximum normalization on this column.\n",
    "print(df['YearlyIncome'].max())\n",
    "df['YearlyIncome'] = df['YearlyIncome']/df['YearlyIncome'].max()\n",
    "print(df['YearlyIncome'])"
   ]
  },
  {
   "cell_type": "code",
   "execution_count": 96,
   "metadata": {},
   "outputs": [
    {
     "name": "stdout",
     "output_type": "stream",
     "text": [
      "<class 'pandas.core.frame.DataFrame'>\n",
      "Int64Index: 18361 entries, 0 to 18360\n",
      "Data columns (total 13 columns):\n",
      " #   Column                Non-Null Count  Dtype  \n",
      "---  ------                --------------  -----  \n",
      " 0   BikeBuyer             18361 non-null  int64  \n",
      " 1   AvgMonthSpend         18361 non-null  float64\n",
      " 2   CountryRegionName     18361 non-null  object \n",
      " 3   Education             18361 non-null  object \n",
      " 4   Occupation            18361 non-null  object \n",
      " 5   Gender                18361 non-null  object \n",
      " 6   MaritalStatus         18361 non-null  object \n",
      " 7   HomeOwnerFlag         18361 non-null  int64  \n",
      " 8   NumberCarsOwned       18361 non-null  float64\n",
      " 9   NumberChildrenAtHome  18361 non-null  float64\n",
      " 10  TotalChildren         18361 non-null  float64\n",
      " 11  YearlyIncome          18361 non-null  float64\n",
      " 12  LastUpdated           18361 non-null  object \n",
      "dtypes: float64(5), int64(2), object(6)\n",
      "memory usage: 2.0+ MB\n"
     ]
    }
   ],
   "source": [
    "df.info()"
   ]
  },
  {
   "cell_type": "code",
   "execution_count": 97,
   "metadata": {},
   "outputs": [
    {
     "data": {
      "text/html": [
       "<div>\n",
       "<style scoped>\n",
       "    .dataframe tbody tr th:only-of-type {\n",
       "        vertical-align: middle;\n",
       "    }\n",
       "\n",
       "    .dataframe tbody tr th {\n",
       "        vertical-align: top;\n",
       "    }\n",
       "\n",
       "    .dataframe thead th {\n",
       "        text-align: right;\n",
       "    }\n",
       "</style>\n",
       "<table border=\"1\" class=\"dataframe\">\n",
       "  <thead>\n",
       "    <tr style=\"text-align: right;\">\n",
       "      <th></th>\n",
       "      <th>BikeBuyer</th>\n",
       "      <th>AvgMonthSpend</th>\n",
       "      <th>HomeOwnerFlag</th>\n",
       "      <th>NumberCarsOwned</th>\n",
       "      <th>NumberChildrenAtHome</th>\n",
       "      <th>TotalChildren</th>\n",
       "      <th>YearlyIncome</th>\n",
       "    </tr>\n",
       "  </thead>\n",
       "  <tbody>\n",
       "    <tr>\n",
       "      <th>count</th>\n",
       "      <td>18361.000000</td>\n",
       "      <td>18361.000000</td>\n",
       "      <td>18361.000000</td>\n",
       "      <td>18361.000000</td>\n",
       "      <td>18361.000000</td>\n",
       "      <td>18361.000000</td>\n",
       "      <td>18361.000000</td>\n",
       "    </tr>\n",
       "    <tr>\n",
       "      <th>mean</th>\n",
       "      <td>0.551767</td>\n",
       "      <td>0.792874</td>\n",
       "      <td>0.610588</td>\n",
       "      <td>0.254060</td>\n",
       "      <td>0.112721</td>\n",
       "      <td>0.283463</td>\n",
       "      <td>0.522983</td>\n",
       "    </tr>\n",
       "    <tr>\n",
       "      <th>std</th>\n",
       "      <td>0.497326</td>\n",
       "      <td>0.052653</td>\n",
       "      <td>0.487630</td>\n",
       "      <td>0.182798</td>\n",
       "      <td>0.189652</td>\n",
       "      <td>0.309105</td>\n",
       "      <td>0.220580</td>\n",
       "    </tr>\n",
       "    <tr>\n",
       "      <th>min</th>\n",
       "      <td>0.000000</td>\n",
       "      <td>0.675448</td>\n",
       "      <td>0.000000</td>\n",
       "      <td>0.000000</td>\n",
       "      <td>0.000000</td>\n",
       "      <td>0.000000</td>\n",
       "      <td>0.182834</td>\n",
       "    </tr>\n",
       "    <tr>\n",
       "      <th>25%</th>\n",
       "      <td>0.000000</td>\n",
       "      <td>0.756777</td>\n",
       "      <td>0.000000</td>\n",
       "      <td>0.200000</td>\n",
       "      <td>0.000000</td>\n",
       "      <td>0.000000</td>\n",
       "      <td>0.383223</td>\n",
       "    </tr>\n",
       "    <tr>\n",
       "      <th>50%</th>\n",
       "      <td>1.000000</td>\n",
       "      <td>0.787563</td>\n",
       "      <td>1.000000</td>\n",
       "      <td>0.200000</td>\n",
       "      <td>0.000000</td>\n",
       "      <td>0.000000</td>\n",
       "      <td>0.444603</td>\n",
       "    </tr>\n",
       "    <tr>\n",
       "      <th>75%</th>\n",
       "      <td>1.000000</td>\n",
       "      <td>0.820800</td>\n",
       "      <td>1.000000</td>\n",
       "      <td>0.400000</td>\n",
       "      <td>0.333333</td>\n",
       "      <td>0.666667</td>\n",
       "      <td>0.628329</td>\n",
       "    </tr>\n",
       "    <tr>\n",
       "      <th>max</th>\n",
       "      <td>1.000000</td>\n",
       "      <td>1.000000</td>\n",
       "      <td>1.000000</td>\n",
       "      <td>1.000000</td>\n",
       "      <td>1.000000</td>\n",
       "      <td>1.000000</td>\n",
       "      <td>1.000000</td>\n",
       "    </tr>\n",
       "  </tbody>\n",
       "</table>\n",
       "</div>"
      ],
      "text/plain": [
       "          BikeBuyer  AvgMonthSpend  HomeOwnerFlag  NumberCarsOwned  \\\n",
       "count  18361.000000   18361.000000   18361.000000     18361.000000   \n",
       "mean       0.551767       0.792874       0.610588         0.254060   \n",
       "std        0.497326       0.052653       0.487630         0.182798   \n",
       "min        0.000000       0.675448       0.000000         0.000000   \n",
       "25%        0.000000       0.756777       0.000000         0.200000   \n",
       "50%        1.000000       0.787563       1.000000         0.200000   \n",
       "75%        1.000000       0.820800       1.000000         0.400000   \n",
       "max        1.000000       1.000000       1.000000         1.000000   \n",
       "\n",
       "       NumberChildrenAtHome  TotalChildren  YearlyIncome  \n",
       "count          18361.000000   18361.000000  18361.000000  \n",
       "mean               0.112721       0.283463      0.522983  \n",
       "std                0.189652       0.309105      0.220580  \n",
       "min                0.000000       0.000000      0.182834  \n",
       "25%                0.000000       0.000000      0.383223  \n",
       "50%                0.000000       0.000000      0.444603  \n",
       "75%                0.333333       0.666667      0.628329  \n",
       "max                1.000000       1.000000      1.000000  "
      ]
     },
     "execution_count": 97,
     "metadata": {},
     "output_type": "execute_result"
    }
   ],
   "source": [
    "df.describe()"
   ]
  },
  {
   "cell_type": "markdown",
   "metadata": {},
   "source": [
    "> e."
   ]
  },
  {
   "cell_type": "code",
   "execution_count": 100,
   "metadata": {},
   "outputs": [],
   "source": [
    "country = pd.get_dummies(df['CountryRegionName'], drop_first=True)"
   ]
  },
  {
   "cell_type": "code",
   "execution_count": 101,
   "metadata": {},
   "outputs": [],
   "source": [
    "education = pd.get_dummies(df['Education'], drop_first=True)"
   ]
  },
  {
   "cell_type": "code",
   "execution_count": 102,
   "metadata": {},
   "outputs": [],
   "source": [
    "occupation = pd.get_dummies(df['Occupation'], drop_first=True)"
   ]
  },
  {
   "cell_type": "code",
   "execution_count": 103,
   "metadata": {},
   "outputs": [],
   "source": [
    "gender = pd.get_dummies(df['Gender'], drop_first=True)"
   ]
  },
  {
   "cell_type": "code",
   "execution_count": 104,
   "metadata": {},
   "outputs": [],
   "source": [
    "maritalStatus = pd.get_dummies(df['MaritalStatus'], drop_first=True)"
   ]
  },
  {
   "cell_type": "code",
   "execution_count": 106,
   "metadata": {},
   "outputs": [],
   "source": [
    "lastupdated = pd.get_dummies(df['LastUpdated'], drop_first=True)"
   ]
  },
  {
   "cell_type": "code",
   "execution_count": 109,
   "metadata": {},
   "outputs": [],
   "source": [
    "df = pd.concat([df, country, education, occupation, gender, maritalStatus, lastupdated], axis=1)"
   ]
  },
  {
   "cell_type": "code",
   "execution_count": 111,
   "metadata": {},
   "outputs": [
    {
     "name": "stdout",
     "output_type": "stream",
     "text": [
      "<class 'pandas.core.frame.DataFrame'>\n",
      "Int64Index: 18361 entries, 0 to 18360\n",
      "Data columns (total 29 columns):\n",
      " #   Column                Non-Null Count  Dtype  \n",
      "---  ------                --------------  -----  \n",
      " 0   BikeBuyer             18361 non-null  int64  \n",
      " 1   AvgMonthSpend         18361 non-null  float64\n",
      " 2   CountryRegionName     18361 non-null  object \n",
      " 3   Education             18361 non-null  object \n",
      " 4   Occupation            18361 non-null  object \n",
      " 5   Gender                18361 non-null  object \n",
      " 6   MaritalStatus         18361 non-null  object \n",
      " 7   HomeOwnerFlag         18361 non-null  int64  \n",
      " 8   NumberCarsOwned       18361 non-null  float64\n",
      " 9   NumberChildrenAtHome  18361 non-null  float64\n",
      " 10  TotalChildren         18361 non-null  float64\n",
      " 11  YearlyIncome          18361 non-null  float64\n",
      " 12  LastUpdated           18361 non-null  object \n",
      " 13  Canada                18361 non-null  uint8  \n",
      " 14  France                18361 non-null  uint8  \n",
      " 15  Germany               18361 non-null  uint8  \n",
      " 16  United Kingdom        18361 non-null  uint8  \n",
      " 17  United States         18361 non-null  uint8  \n",
      " 18  Graduate Degree       18361 non-null  uint8  \n",
      " 19  High School           18361 non-null  uint8  \n",
      " 20  Partial College       18361 non-null  uint8  \n",
      " 21  Partial High School   18361 non-null  uint8  \n",
      " 22  Management            18361 non-null  uint8  \n",
      " 23  Manual                18361 non-null  uint8  \n",
      " 24  Professional          18361 non-null  uint8  \n",
      " 25  Skilled Manual        18361 non-null  uint8  \n",
      " 26  M                     18361 non-null  uint8  \n",
      " 27  S                     18361 non-null  uint8  \n",
      " 28  2017-03-07            18361 non-null  uint8  \n",
      "dtypes: float64(5), int64(2), object(6), uint8(16)\n",
      "memory usage: 2.2+ MB\n"
     ]
    }
   ],
   "source": [
    "df.info()"
   ]
  },
  {
   "cell_type": "code",
   "execution_count": 116,
   "metadata": {},
   "outputs": [],
   "source": [
    "df.drop(['CountryRegionName', 'Education', 'Occupation', 'Gender', 'MaritalStatus', 'LastUpdated'], axis=1, inplace=True)"
   ]
  },
  {
   "cell_type": "code",
   "execution_count": 117,
   "metadata": {},
   "outputs": [
    {
     "name": "stdout",
     "output_type": "stream",
     "text": [
      "<class 'pandas.core.frame.DataFrame'>\n",
      "Int64Index: 18361 entries, 0 to 18360\n",
      "Data columns (total 23 columns):\n",
      " #   Column                Non-Null Count  Dtype  \n",
      "---  ------                --------------  -----  \n",
      " 0   BikeBuyer             18361 non-null  int64  \n",
      " 1   AvgMonthSpend         18361 non-null  float64\n",
      " 2   HomeOwnerFlag         18361 non-null  int64  \n",
      " 3   NumberCarsOwned       18361 non-null  float64\n",
      " 4   NumberChildrenAtHome  18361 non-null  float64\n",
      " 5   TotalChildren         18361 non-null  float64\n",
      " 6   YearlyIncome          18361 non-null  float64\n",
      " 7   Canada                18361 non-null  uint8  \n",
      " 8   France                18361 non-null  uint8  \n",
      " 9   Germany               18361 non-null  uint8  \n",
      " 10  United Kingdom        18361 non-null  uint8  \n",
      " 11  United States         18361 non-null  uint8  \n",
      " 12  Graduate Degree       18361 non-null  uint8  \n",
      " 13  High School           18361 non-null  uint8  \n",
      " 14  Partial College       18361 non-null  uint8  \n",
      " 15  Partial High School   18361 non-null  uint8  \n",
      " 16  Management            18361 non-null  uint8  \n",
      " 17  Manual                18361 non-null  uint8  \n",
      " 18  Professional          18361 non-null  uint8  \n",
      " 19  Skilled Manual        18361 non-null  uint8  \n",
      " 20  M                     18361 non-null  uint8  \n",
      " 21  S                     18361 non-null  uint8  \n",
      " 22  2017-03-07            18361 non-null  uint8  \n",
      "dtypes: float64(5), int64(2), uint8(16)\n",
      "memory usage: 1.4 MB\n"
     ]
    }
   ],
   "source": [
    "df.info()"
   ]
  },
  {
   "cell_type": "markdown",
   "metadata": {},
   "source": [
    "### Q3"
   ]
  },
  {
   "cell_type": "markdown",
   "metadata": {},
   "source": [
    "> a."
   ]
  },
  {
   "cell_type": "code",
   "execution_count": 132,
   "metadata": {},
   "outputs": [],
   "source": [
    "from sklearn.metrics.pairwise import cosine_similarity\n",
    "from sklearn.metrics import jaccard_score"
   ]
  },
  {
   "cell_type": "code",
   "execution_count": 137,
   "metadata": {},
   "outputs": [
    {
     "name": "stdout",
     "output_type": "stream",
     "text": [
      "Similarity in Simple Matching 0.4871739012036381\n"
     ]
    }
   ],
   "source": [
    "from sklearn.metrics import accuracy_score\n",
    "print(f\"Similarity in Simple Matching {accuracy_score(np.array(df['BikeBuyer']), np.array(df['Skilled Manual']))}\")"
   ]
  },
  {
   "cell_type": "code",
   "execution_count": 138,
   "metadata": {},
   "outputs": [
    {
     "name": "stdout",
     "output_type": "stream",
     "text": [
      "Jaccard Similarity: 0.2645473717097555\n"
     ]
    }
   ],
   "source": [
    "print(f\"Jaccard Similarity: {jaccard_score(np.array(df['BikeBuyer']), np.array(df['Skilled Manual']))}\")"
   ]
  },
  {
   "cell_type": "code",
   "execution_count": 130,
   "metadata": {},
   "outputs": [
    {
     "data": {
      "text/plain": [
       "array([[1.        , 0.81427587, 0.53556619, ..., 0.40236336, 0.23340862,\n",
       "        0.62917959],\n",
       "       [0.81427587, 1.        , 0.41710225, ..., 0.47671859, 0.3863517 ,\n",
       "        0.50195541],\n",
       "       [0.53556619, 0.41710225, 1.        , ..., 0.80355098, 0.48409194,\n",
       "        0.6416018 ],\n",
       "       ...,\n",
       "       [0.40236336, 0.47671859, 0.80355098, ..., 1.        , 0.37717837,\n",
       "        0.49704426],\n",
       "       [0.23340862, 0.3863517 , 0.48409194, ..., 0.37717837, 1.        ,\n",
       "        0.23926372],\n",
       "       [0.62917959, 0.50195541, 0.6416018 , ..., 0.49704426, 0.23926372,\n",
       "        1.        ]])"
      ]
     },
     "execution_count": 130,
     "metadata": {},
     "output_type": "execute_result"
    }
   ],
   "source": [
    "cosine_similarity(df)"
   ]
  },
  {
   "cell_type": "markdown",
   "metadata": {},
   "source": [
    "> b."
   ]
  },
  {
   "cell_type": "code",
   "execution_count": 119,
   "metadata": {},
   "outputs": [
    {
     "data": {
      "text/plain": [
       "BikeBuyer               0.249457\n",
       "AvgMonthSpend           0.530126\n",
       "HomeOwnerFlag           0.356243\n",
       "NumberCarsOwned         0.477300\n",
       "NumberChildrenAtHome    0.005990\n",
       "TotalChildren           0.022014\n",
       "YearlyIncome            1.000000\n",
       "Canada                 -0.007440\n",
       "France                 -0.065011\n",
       "Germany                -0.033813\n",
       "United Kingdom         -0.008846\n",
       "United States           0.056997\n",
       "Graduate Degree         0.284948\n",
       "High School            -0.240515\n",
       "Partial College        -0.061270\n",
       "Partial High School    -0.283464\n",
       "Management              0.487918\n",
       "Manual                 -0.642032\n",
       "Professional            0.608608\n",
       "Skilled Manual         -0.368936\n",
       "M                      -0.000354\n",
       "S                      -0.048784\n",
       "2017-03-07              0.002159\n",
       "Name: YearlyIncome, dtype: float64"
      ]
     },
     "execution_count": 119,
     "metadata": {},
     "output_type": "execute_result"
    }
   ],
   "source": [
    "df.corr()['YearlyIncome']"
   ]
  },
  {
   "cell_type": "code",
   "execution_count": 122,
   "metadata": {},
   "outputs": [
    {
     "data": {
      "text/html": [
       "<div>\n",
       "<style scoped>\n",
       "    .dataframe tbody tr th:only-of-type {\n",
       "        vertical-align: middle;\n",
       "    }\n",
       "\n",
       "    .dataframe tbody tr th {\n",
       "        vertical-align: top;\n",
       "    }\n",
       "\n",
       "    .dataframe thead th {\n",
       "        text-align: right;\n",
       "    }\n",
       "</style>\n",
       "<table border=\"1\" class=\"dataframe\">\n",
       "  <thead>\n",
       "    <tr style=\"text-align: right;\">\n",
       "      <th></th>\n",
       "      <th>BikeBuyer</th>\n",
       "      <th>AvgMonthSpend</th>\n",
       "      <th>HomeOwnerFlag</th>\n",
       "      <th>NumberCarsOwned</th>\n",
       "      <th>NumberChildrenAtHome</th>\n",
       "      <th>TotalChildren</th>\n",
       "      <th>YearlyIncome</th>\n",
       "      <th>Canada</th>\n",
       "      <th>France</th>\n",
       "      <th>Germany</th>\n",
       "      <th>...</th>\n",
       "      <th>High School</th>\n",
       "      <th>Partial College</th>\n",
       "      <th>Partial High School</th>\n",
       "      <th>Management</th>\n",
       "      <th>Manual</th>\n",
       "      <th>Professional</th>\n",
       "      <th>Skilled Manual</th>\n",
       "      <th>M</th>\n",
       "      <th>S</th>\n",
       "      <th>2017-03-07</th>\n",
       "    </tr>\n",
       "  </thead>\n",
       "  <tbody>\n",
       "    <tr>\n",
       "      <th>count</th>\n",
       "      <td>18361.000000</td>\n",
       "      <td>18361.000000</td>\n",
       "      <td>18361.000000</td>\n",
       "      <td>18361.000000</td>\n",
       "      <td>18361.000000</td>\n",
       "      <td>18361.000000</td>\n",
       "      <td>18361.000000</td>\n",
       "      <td>18361.000000</td>\n",
       "      <td>18361.000000</td>\n",
       "      <td>18361.000000</td>\n",
       "      <td>...</td>\n",
       "      <td>18361.000000</td>\n",
       "      <td>18361.000000</td>\n",
       "      <td>18361.000000</td>\n",
       "      <td>18361.000000</td>\n",
       "      <td>18361.000000</td>\n",
       "      <td>18361.000000</td>\n",
       "      <td>18361.000000</td>\n",
       "      <td>18361.00000</td>\n",
       "      <td>18361.000000</td>\n",
       "      <td>18361.000000</td>\n",
       "    </tr>\n",
       "    <tr>\n",
       "      <th>mean</th>\n",
       "      <td>0.551767</td>\n",
       "      <td>0.792874</td>\n",
       "      <td>0.610588</td>\n",
       "      <td>0.254060</td>\n",
       "      <td>0.112721</td>\n",
       "      <td>0.283463</td>\n",
       "      <td>0.522983</td>\n",
       "      <td>0.084745</td>\n",
       "      <td>0.097762</td>\n",
       "      <td>0.096291</td>\n",
       "      <td>...</td>\n",
       "      <td>0.178313</td>\n",
       "      <td>0.273623</td>\n",
       "      <td>0.085780</td>\n",
       "      <td>0.155656</td>\n",
       "      <td>0.183922</td>\n",
       "      <td>0.087305</td>\n",
       "      <td>0.329993</td>\n",
       "      <td>0.50580</td>\n",
       "      <td>0.458254</td>\n",
       "      <td>0.003812</td>\n",
       "    </tr>\n",
       "    <tr>\n",
       "      <th>std</th>\n",
       "      <td>0.497326</td>\n",
       "      <td>0.052653</td>\n",
       "      <td>0.487630</td>\n",
       "      <td>0.182798</td>\n",
       "      <td>0.189652</td>\n",
       "      <td>0.309105</td>\n",
       "      <td>0.220580</td>\n",
       "      <td>0.278509</td>\n",
       "      <td>0.297000</td>\n",
       "      <td>0.294998</td>\n",
       "      <td>...</td>\n",
       "      <td>0.382786</td>\n",
       "      <td>0.445830</td>\n",
       "      <td>0.280046</td>\n",
       "      <td>0.362539</td>\n",
       "      <td>0.387431</td>\n",
       "      <td>0.282289</td>\n",
       "      <td>0.470223</td>\n",
       "      <td>0.49998</td>\n",
       "      <td>0.498268</td>\n",
       "      <td>0.061629</td>\n",
       "    </tr>\n",
       "    <tr>\n",
       "      <th>min</th>\n",
       "      <td>0.000000</td>\n",
       "      <td>0.675448</td>\n",
       "      <td>0.000000</td>\n",
       "      <td>0.000000</td>\n",
       "      <td>0.000000</td>\n",
       "      <td>0.000000</td>\n",
       "      <td>0.182834</td>\n",
       "      <td>0.000000</td>\n",
       "      <td>0.000000</td>\n",
       "      <td>0.000000</td>\n",
       "      <td>...</td>\n",
       "      <td>0.000000</td>\n",
       "      <td>0.000000</td>\n",
       "      <td>0.000000</td>\n",
       "      <td>0.000000</td>\n",
       "      <td>0.000000</td>\n",
       "      <td>0.000000</td>\n",
       "      <td>0.000000</td>\n",
       "      <td>0.00000</td>\n",
       "      <td>0.000000</td>\n",
       "      <td>0.000000</td>\n",
       "    </tr>\n",
       "    <tr>\n",
       "      <th>25%</th>\n",
       "      <td>0.000000</td>\n",
       "      <td>0.756777</td>\n",
       "      <td>0.000000</td>\n",
       "      <td>0.200000</td>\n",
       "      <td>0.000000</td>\n",
       "      <td>0.000000</td>\n",
       "      <td>0.383223</td>\n",
       "      <td>0.000000</td>\n",
       "      <td>0.000000</td>\n",
       "      <td>0.000000</td>\n",
       "      <td>...</td>\n",
       "      <td>0.000000</td>\n",
       "      <td>0.000000</td>\n",
       "      <td>0.000000</td>\n",
       "      <td>0.000000</td>\n",
       "      <td>0.000000</td>\n",
       "      <td>0.000000</td>\n",
       "      <td>0.000000</td>\n",
       "      <td>0.00000</td>\n",
       "      <td>0.000000</td>\n",
       "      <td>0.000000</td>\n",
       "    </tr>\n",
       "    <tr>\n",
       "      <th>50%</th>\n",
       "      <td>1.000000</td>\n",
       "      <td>0.787563</td>\n",
       "      <td>1.000000</td>\n",
       "      <td>0.200000</td>\n",
       "      <td>0.000000</td>\n",
       "      <td>0.000000</td>\n",
       "      <td>0.444603</td>\n",
       "      <td>0.000000</td>\n",
       "      <td>0.000000</td>\n",
       "      <td>0.000000</td>\n",
       "      <td>...</td>\n",
       "      <td>0.000000</td>\n",
       "      <td>0.000000</td>\n",
       "      <td>0.000000</td>\n",
       "      <td>0.000000</td>\n",
       "      <td>0.000000</td>\n",
       "      <td>0.000000</td>\n",
       "      <td>0.000000</td>\n",
       "      <td>1.00000</td>\n",
       "      <td>0.000000</td>\n",
       "      <td>0.000000</td>\n",
       "    </tr>\n",
       "    <tr>\n",
       "      <th>75%</th>\n",
       "      <td>1.000000</td>\n",
       "      <td>0.820800</td>\n",
       "      <td>1.000000</td>\n",
       "      <td>0.400000</td>\n",
       "      <td>0.333333</td>\n",
       "      <td>0.666667</td>\n",
       "      <td>0.628329</td>\n",
       "      <td>0.000000</td>\n",
       "      <td>0.000000</td>\n",
       "      <td>0.000000</td>\n",
       "      <td>...</td>\n",
       "      <td>0.000000</td>\n",
       "      <td>1.000000</td>\n",
       "      <td>0.000000</td>\n",
       "      <td>0.000000</td>\n",
       "      <td>0.000000</td>\n",
       "      <td>0.000000</td>\n",
       "      <td>1.000000</td>\n",
       "      <td>1.00000</td>\n",
       "      <td>1.000000</td>\n",
       "      <td>0.000000</td>\n",
       "    </tr>\n",
       "    <tr>\n",
       "      <th>max</th>\n",
       "      <td>1.000000</td>\n",
       "      <td>1.000000</td>\n",
       "      <td>1.000000</td>\n",
       "      <td>1.000000</td>\n",
       "      <td>1.000000</td>\n",
       "      <td>1.000000</td>\n",
       "      <td>1.000000</td>\n",
       "      <td>1.000000</td>\n",
       "      <td>1.000000</td>\n",
       "      <td>1.000000</td>\n",
       "      <td>...</td>\n",
       "      <td>1.000000</td>\n",
       "      <td>1.000000</td>\n",
       "      <td>1.000000</td>\n",
       "      <td>1.000000</td>\n",
       "      <td>1.000000</td>\n",
       "      <td>1.000000</td>\n",
       "      <td>1.000000</td>\n",
       "      <td>1.00000</td>\n",
       "      <td>1.000000</td>\n",
       "      <td>1.000000</td>\n",
       "    </tr>\n",
       "  </tbody>\n",
       "</table>\n",
       "<p>8 rows × 23 columns</p>\n",
       "</div>"
      ],
      "text/plain": [
       "          BikeBuyer  AvgMonthSpend  HomeOwnerFlag  NumberCarsOwned  \\\n",
       "count  18361.000000   18361.000000   18361.000000     18361.000000   \n",
       "mean       0.551767       0.792874       0.610588         0.254060   \n",
       "std        0.497326       0.052653       0.487630         0.182798   \n",
       "min        0.000000       0.675448       0.000000         0.000000   \n",
       "25%        0.000000       0.756777       0.000000         0.200000   \n",
       "50%        1.000000       0.787563       1.000000         0.200000   \n",
       "75%        1.000000       0.820800       1.000000         0.400000   \n",
       "max        1.000000       1.000000       1.000000         1.000000   \n",
       "\n",
       "       NumberChildrenAtHome  TotalChildren  YearlyIncome        Canada  \\\n",
       "count          18361.000000   18361.000000  18361.000000  18361.000000   \n",
       "mean               0.112721       0.283463      0.522983      0.084745   \n",
       "std                0.189652       0.309105      0.220580      0.278509   \n",
       "min                0.000000       0.000000      0.182834      0.000000   \n",
       "25%                0.000000       0.000000      0.383223      0.000000   \n",
       "50%                0.000000       0.000000      0.444603      0.000000   \n",
       "75%                0.333333       0.666667      0.628329      0.000000   \n",
       "max                1.000000       1.000000      1.000000      1.000000   \n",
       "\n",
       "             France       Germany  ...   High School  Partial College  \\\n",
       "count  18361.000000  18361.000000  ...  18361.000000     18361.000000   \n",
       "mean       0.097762      0.096291  ...      0.178313         0.273623   \n",
       "std        0.297000      0.294998  ...      0.382786         0.445830   \n",
       "min        0.000000      0.000000  ...      0.000000         0.000000   \n",
       "25%        0.000000      0.000000  ...      0.000000         0.000000   \n",
       "50%        0.000000      0.000000  ...      0.000000         0.000000   \n",
       "75%        0.000000      0.000000  ...      0.000000         1.000000   \n",
       "max        1.000000      1.000000  ...      1.000000         1.000000   \n",
       "\n",
       "       Partial High School    Management        Manual  Professional  \\\n",
       "count         18361.000000  18361.000000  18361.000000  18361.000000   \n",
       "mean              0.085780      0.155656      0.183922      0.087305   \n",
       "std               0.280046      0.362539      0.387431      0.282289   \n",
       "min               0.000000      0.000000      0.000000      0.000000   \n",
       "25%               0.000000      0.000000      0.000000      0.000000   \n",
       "50%               0.000000      0.000000      0.000000      0.000000   \n",
       "75%               0.000000      0.000000      0.000000      0.000000   \n",
       "max               1.000000      1.000000      1.000000      1.000000   \n",
       "\n",
       "       Skilled Manual            M             S    2017-03-07  \n",
       "count    18361.000000  18361.00000  18361.000000  18361.000000  \n",
       "mean         0.329993      0.50580      0.458254      0.003812  \n",
       "std          0.470223      0.49998      0.498268      0.061629  \n",
       "min          0.000000      0.00000      0.000000      0.000000  \n",
       "25%          0.000000      0.00000      0.000000      0.000000  \n",
       "50%          0.000000      1.00000      0.000000      0.000000  \n",
       "75%          1.000000      1.00000      1.000000      0.000000  \n",
       "max          1.000000      1.00000      1.000000      1.000000  \n",
       "\n",
       "[8 rows x 23 columns]"
      ]
     },
     "execution_count": 122,
     "metadata": {},
     "output_type": "execute_result"
    }
   ],
   "source": [
    "df.describe()"
   ]
  },
  {
   "cell_type": "code",
   "execution_count": null,
   "metadata": {},
   "outputs": [],
   "source": []
  }
 ],
 "metadata": {
  "kernelspec": {
   "display_name": "Python 3.8.8 ('base')",
   "language": "python",
   "name": "python3"
  },
  "language_info": {
   "codemirror_mode": {
    "name": "ipython",
    "version": 3
   },
   "file_extension": ".py",
   "mimetype": "text/x-python",
   "name": "python",
   "nbconvert_exporter": "python",
   "pygments_lexer": "ipython3",
   "version": "3.8.8"
  },
  "orig_nbformat": 4,
  "vscode": {
   "interpreter": {
    "hash": "40d3a090f54c6569ab1632332b64b2c03c39dcf918b08424e98f38b5ae0af88f"
   }
  }
 },
 "nbformat": 4,
 "nbformat_minor": 2
}
