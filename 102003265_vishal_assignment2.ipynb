{
 "cells": [
  {
   "cell_type": "code",
   "execution_count": 2,
   "metadata": {},
   "outputs": [],
   "source": [
    "import pandas as pd\n",
    "import numpy as np\n",
    "import matplotlib.pyplot as plt\n",
    "import seaborn as sns"
   ]
  },
  {
   "cell_type": "code",
   "execution_count": 3,
   "metadata": {},
   "outputs": [],
   "source": [
    "df1 = pd.read_csv('./data assig 2/AWCustomers.csv')\n",
    "df2 = pd.read_csv('./data assig 2/AWSales.csv')\n",
    "df3 = pd.read_csv('./data assig 2/AWTest-Classification.csv')\n",
    "df4 = pd.read_csv('./data assig 2/AWTest-Regression.csv')"
   ]
  },
  {
   "cell_type": "code",
   "execution_count": 4,
   "metadata": {},
   "outputs": [
    {
     "data": {
      "text/html": [
       "<div>\n",
       "<style scoped>\n",
       "    .dataframe tbody tr th:only-of-type {\n",
       "        vertical-align: middle;\n",
       "    }\n",
       "\n",
       "    .dataframe tbody tr th {\n",
       "        vertical-align: top;\n",
       "    }\n",
       "\n",
       "    .dataframe thead th {\n",
       "        text-align: right;\n",
       "    }\n",
       "</style>\n",
       "<table border=\"1\" class=\"dataframe\">\n",
       "  <thead>\n",
       "    <tr style=\"text-align: right;\">\n",
       "      <th></th>\n",
       "      <th>CustomerID</th>\n",
       "      <th>Title</th>\n",
       "      <th>FirstName</th>\n",
       "      <th>MiddleName</th>\n",
       "      <th>LastName</th>\n",
       "      <th>Suffix</th>\n",
       "      <th>AddressLine1</th>\n",
       "      <th>AddressLine2</th>\n",
       "      <th>City</th>\n",
       "      <th>StateProvinceName</th>\n",
       "      <th>...</th>\n",
       "      <th>Education</th>\n",
       "      <th>Occupation</th>\n",
       "      <th>Gender</th>\n",
       "      <th>MaritalStatus</th>\n",
       "      <th>HomeOwnerFlag</th>\n",
       "      <th>NumberCarsOwned</th>\n",
       "      <th>NumberChildrenAtHome</th>\n",
       "      <th>TotalChildren</th>\n",
       "      <th>YearlyIncome</th>\n",
       "      <th>LastUpdated</th>\n",
       "    </tr>\n",
       "  </thead>\n",
       "  <tbody>\n",
       "    <tr>\n",
       "      <th>0</th>\n",
       "      <td>21173</td>\n",
       "      <td>NaN</td>\n",
       "      <td>Chad</td>\n",
       "      <td>C</td>\n",
       "      <td>Yuan</td>\n",
       "      <td>NaN</td>\n",
       "      <td>7090 C. Mount Hood</td>\n",
       "      <td>NaN</td>\n",
       "      <td>Wollongong</td>\n",
       "      <td>New South Wales</td>\n",
       "      <td>...</td>\n",
       "      <td>Bachelors</td>\n",
       "      <td>Clerical</td>\n",
       "      <td>M</td>\n",
       "      <td>M</td>\n",
       "      <td>1</td>\n",
       "      <td>3</td>\n",
       "      <td>0</td>\n",
       "      <td>1</td>\n",
       "      <td>81916</td>\n",
       "      <td>2017-03-06</td>\n",
       "    </tr>\n",
       "    <tr>\n",
       "      <th>1</th>\n",
       "      <td>13249</td>\n",
       "      <td>NaN</td>\n",
       "      <td>Ryan</td>\n",
       "      <td>NaN</td>\n",
       "      <td>Perry</td>\n",
       "      <td>NaN</td>\n",
       "      <td>3651 Willow Lake Rd</td>\n",
       "      <td>NaN</td>\n",
       "      <td>Shawnee</td>\n",
       "      <td>British Columbia</td>\n",
       "      <td>...</td>\n",
       "      <td>Partial College</td>\n",
       "      <td>Clerical</td>\n",
       "      <td>M</td>\n",
       "      <td>M</td>\n",
       "      <td>1</td>\n",
       "      <td>2</td>\n",
       "      <td>1</td>\n",
       "      <td>2</td>\n",
       "      <td>81076</td>\n",
       "      <td>2017-03-06</td>\n",
       "    </tr>\n",
       "    <tr>\n",
       "      <th>2</th>\n",
       "      <td>29350</td>\n",
       "      <td>NaN</td>\n",
       "      <td>Julia</td>\n",
       "      <td>NaN</td>\n",
       "      <td>Thompson</td>\n",
       "      <td>NaN</td>\n",
       "      <td>1774 Tice Valley Blvd.</td>\n",
       "      <td>NaN</td>\n",
       "      <td>West Covina</td>\n",
       "      <td>California</td>\n",
       "      <td>...</td>\n",
       "      <td>Bachelors</td>\n",
       "      <td>Clerical</td>\n",
       "      <td>F</td>\n",
       "      <td>S</td>\n",
       "      <td>0</td>\n",
       "      <td>3</td>\n",
       "      <td>0</td>\n",
       "      <td>0</td>\n",
       "      <td>86387</td>\n",
       "      <td>2017-03-06</td>\n",
       "    </tr>\n",
       "    <tr>\n",
       "      <th>3</th>\n",
       "      <td>13503</td>\n",
       "      <td>NaN</td>\n",
       "      <td>Theodore</td>\n",
       "      <td>NaN</td>\n",
       "      <td>Gomez</td>\n",
       "      <td>NaN</td>\n",
       "      <td>2103 Baldwin Dr</td>\n",
       "      <td>NaN</td>\n",
       "      <td>Liverpool</td>\n",
       "      <td>England</td>\n",
       "      <td>...</td>\n",
       "      <td>Partial College</td>\n",
       "      <td>Skilled Manual</td>\n",
       "      <td>M</td>\n",
       "      <td>M</td>\n",
       "      <td>1</td>\n",
       "      <td>2</td>\n",
       "      <td>1</td>\n",
       "      <td>2</td>\n",
       "      <td>61481</td>\n",
       "      <td>2017-03-06</td>\n",
       "    </tr>\n",
       "    <tr>\n",
       "      <th>4</th>\n",
       "      <td>22803</td>\n",
       "      <td>NaN</td>\n",
       "      <td>Marshall</td>\n",
       "      <td>J</td>\n",
       "      <td>Shan</td>\n",
       "      <td>NaN</td>\n",
       "      <td>Am Gallberg 234</td>\n",
       "      <td>NaN</td>\n",
       "      <td>Werne</td>\n",
       "      <td>Nordrhein-Westfalen</td>\n",
       "      <td>...</td>\n",
       "      <td>Partial College</td>\n",
       "      <td>Skilled Manual</td>\n",
       "      <td>M</td>\n",
       "      <td>S</td>\n",
       "      <td>1</td>\n",
       "      <td>1</td>\n",
       "      <td>0</td>\n",
       "      <td>0</td>\n",
       "      <td>51804</td>\n",
       "      <td>2017-03-06</td>\n",
       "    </tr>\n",
       "  </tbody>\n",
       "</table>\n",
       "<p>5 rows × 24 columns</p>\n",
       "</div>"
      ],
      "text/plain": [
       "   CustomerID Title FirstName MiddleName  LastName Suffix  \\\n",
       "0       21173   NaN      Chad          C      Yuan    NaN   \n",
       "1       13249   NaN      Ryan        NaN     Perry    NaN   \n",
       "2       29350   NaN     Julia        NaN  Thompson    NaN   \n",
       "3       13503   NaN  Theodore        NaN     Gomez    NaN   \n",
       "4       22803   NaN  Marshall          J      Shan    NaN   \n",
       "\n",
       "             AddressLine1 AddressLine2         City    StateProvinceName  ...  \\\n",
       "0      7090 C. Mount Hood          NaN   Wollongong      New South Wales  ...   \n",
       "1     3651 Willow Lake Rd          NaN      Shawnee     British Columbia  ...   \n",
       "2  1774 Tice Valley Blvd.          NaN  West Covina           California  ...   \n",
       "3         2103 Baldwin Dr          NaN    Liverpool              England  ...   \n",
       "4         Am Gallberg 234          NaN        Werne  Nordrhein-Westfalen  ...   \n",
       "\n",
       "         Education      Occupation Gender MaritalStatus HomeOwnerFlag  \\\n",
       "0        Bachelors        Clerical      M             M             1   \n",
       "1  Partial College        Clerical      M             M             1   \n",
       "2        Bachelors        Clerical      F             S             0   \n",
       "3  Partial College  Skilled Manual      M             M             1   \n",
       "4  Partial College  Skilled Manual      M             S             1   \n",
       "\n",
       "  NumberCarsOwned NumberChildrenAtHome TotalChildren  YearlyIncome  \\\n",
       "0               3                    0             1         81916   \n",
       "1               2                    1             2         81076   \n",
       "2               3                    0             0         86387   \n",
       "3               2                    1             2         61481   \n",
       "4               1                    0             0         51804   \n",
       "\n",
       "   LastUpdated  \n",
       "0   2017-03-06  \n",
       "1   2017-03-06  \n",
       "2   2017-03-06  \n",
       "3   2017-03-06  \n",
       "4   2017-03-06  \n",
       "\n",
       "[5 rows x 24 columns]"
      ]
     },
     "execution_count": 4,
     "metadata": {},
     "output_type": "execute_result"
    }
   ],
   "source": [
    "df1.head()"
   ]
  },
  {
   "cell_type": "code",
   "execution_count": 5,
   "metadata": {},
   "outputs": [
    {
     "data": {
      "text/html": [
       "<div>\n",
       "<style scoped>\n",
       "    .dataframe tbody tr th:only-of-type {\n",
       "        vertical-align: middle;\n",
       "    }\n",
       "\n",
       "    .dataframe tbody tr th {\n",
       "        vertical-align: top;\n",
       "    }\n",
       "\n",
       "    .dataframe thead th {\n",
       "        text-align: right;\n",
       "    }\n",
       "</style>\n",
       "<table border=\"1\" class=\"dataframe\">\n",
       "  <thead>\n",
       "    <tr style=\"text-align: right;\">\n",
       "      <th></th>\n",
       "      <th>CustomerID</th>\n",
       "      <th>BikeBuyer</th>\n",
       "      <th>AvgMonthSpend</th>\n",
       "    </tr>\n",
       "  </thead>\n",
       "  <tbody>\n",
       "    <tr>\n",
       "      <th>0</th>\n",
       "      <td>21173</td>\n",
       "      <td>1</td>\n",
       "      <td>50.97</td>\n",
       "    </tr>\n",
       "    <tr>\n",
       "      <th>1</th>\n",
       "      <td>13249</td>\n",
       "      <td>1</td>\n",
       "      <td>53.11</td>\n",
       "    </tr>\n",
       "    <tr>\n",
       "      <th>2</th>\n",
       "      <td>29350</td>\n",
       "      <td>1</td>\n",
       "      <td>54.08</td>\n",
       "    </tr>\n",
       "    <tr>\n",
       "      <th>3</th>\n",
       "      <td>13503</td>\n",
       "      <td>1</td>\n",
       "      <td>56.93</td>\n",
       "    </tr>\n",
       "    <tr>\n",
       "      <th>4</th>\n",
       "      <td>22803</td>\n",
       "      <td>1</td>\n",
       "      <td>55.41</td>\n",
       "    </tr>\n",
       "  </tbody>\n",
       "</table>\n",
       "</div>"
      ],
      "text/plain": [
       "   CustomerID  BikeBuyer  AvgMonthSpend\n",
       "0       21173          1          50.97\n",
       "1       13249          1          53.11\n",
       "2       29350          1          54.08\n",
       "3       13503          1          56.93\n",
       "4       22803          1          55.41"
      ]
     },
     "execution_count": 5,
     "metadata": {},
     "output_type": "execute_result"
    }
   ],
   "source": [
    "df2.head()"
   ]
  },
  {
   "cell_type": "code",
   "execution_count": 6,
   "metadata": {},
   "outputs": [
    {
     "data": {
      "text/html": [
       "<div>\n",
       "<style scoped>\n",
       "    .dataframe tbody tr th:only-of-type {\n",
       "        vertical-align: middle;\n",
       "    }\n",
       "\n",
       "    .dataframe tbody tr th {\n",
       "        vertical-align: top;\n",
       "    }\n",
       "\n",
       "    .dataframe thead th {\n",
       "        text-align: right;\n",
       "    }\n",
       "</style>\n",
       "<table border=\"1\" class=\"dataframe\">\n",
       "  <thead>\n",
       "    <tr style=\"text-align: right;\">\n",
       "      <th></th>\n",
       "      <th>CustomerID</th>\n",
       "      <th>Title</th>\n",
       "      <th>FirstName</th>\n",
       "      <th>MiddleName</th>\n",
       "      <th>LastName</th>\n",
       "      <th>Suffix</th>\n",
       "      <th>AddressLine1</th>\n",
       "      <th>AddressLine2</th>\n",
       "      <th>City</th>\n",
       "      <th>StateProvinceName</th>\n",
       "      <th>...</th>\n",
       "      <th>Education</th>\n",
       "      <th>Occupation</th>\n",
       "      <th>Gender</th>\n",
       "      <th>MaritalStatus</th>\n",
       "      <th>HomeOwnerFlag</th>\n",
       "      <th>NumberCarsOwned</th>\n",
       "      <th>NumberChildrenAtHome</th>\n",
       "      <th>TotalChildren</th>\n",
       "      <th>YearlyIncome</th>\n",
       "      <th>LastUpdated</th>\n",
       "    </tr>\n",
       "  </thead>\n",
       "  <tbody>\n",
       "    <tr>\n",
       "      <th>0</th>\n",
       "      <td>11219</td>\n",
       "      <td>NaN</td>\n",
       "      <td>Charles</td>\n",
       "      <td>NaN</td>\n",
       "      <td>Cook</td>\n",
       "      <td>NaN</td>\n",
       "      <td>6871 Bel Air Dr.</td>\n",
       "      <td>NaN</td>\n",
       "      <td>Woodburn</td>\n",
       "      <td>Oregon</td>\n",
       "      <td>...</td>\n",
       "      <td>High School</td>\n",
       "      <td>Skilled Manual</td>\n",
       "      <td>M</td>\n",
       "      <td>M</td>\n",
       "      <td>1</td>\n",
       "      <td>2</td>\n",
       "      <td>2</td>\n",
       "      <td>2</td>\n",
       "      <td>56100</td>\n",
       "      <td>2017-03-06</td>\n",
       "    </tr>\n",
       "    <tr>\n",
       "      <th>1</th>\n",
       "      <td>11241</td>\n",
       "      <td>NaN</td>\n",
       "      <td>Lisa</td>\n",
       "      <td>NaN</td>\n",
       "      <td>Cai</td>\n",
       "      <td>NaN</td>\n",
       "      <td>102, rue de Berri</td>\n",
       "      <td>NaN</td>\n",
       "      <td>Les Ulis</td>\n",
       "      <td>Essonne</td>\n",
       "      <td>...</td>\n",
       "      <td>Partial College</td>\n",
       "      <td>Skilled Manual</td>\n",
       "      <td>F</td>\n",
       "      <td>S</td>\n",
       "      <td>1</td>\n",
       "      <td>0</td>\n",
       "      <td>0</td>\n",
       "      <td>0</td>\n",
       "      <td>61555</td>\n",
       "      <td>2017-03-06</td>\n",
       "    </tr>\n",
       "    <tr>\n",
       "      <th>2</th>\n",
       "      <td>11352</td>\n",
       "      <td>NaN</td>\n",
       "      <td>Raymond</td>\n",
       "      <td>A</td>\n",
       "      <td>Rodriguez</td>\n",
       "      <td>NaN</td>\n",
       "      <td>24, impasse Ste-Madeleine</td>\n",
       "      <td>NaN</td>\n",
       "      <td>Pantin</td>\n",
       "      <td>Seine Saint Denis</td>\n",
       "      <td>...</td>\n",
       "      <td>Partial College</td>\n",
       "      <td>Clerical</td>\n",
       "      <td>M</td>\n",
       "      <td>M</td>\n",
       "      <td>1</td>\n",
       "      <td>3</td>\n",
       "      <td>0</td>\n",
       "      <td>2</td>\n",
       "      <td>83613</td>\n",
       "      <td>2017-03-06</td>\n",
       "    </tr>\n",
       "    <tr>\n",
       "      <th>3</th>\n",
       "      <td>11904</td>\n",
       "      <td>NaN</td>\n",
       "      <td>Kaylee</td>\n",
       "      <td>NaN</td>\n",
       "      <td>Cook</td>\n",
       "      <td>NaN</td>\n",
       "      <td>5742 Curtis Drive</td>\n",
       "      <td>NaN</td>\n",
       "      <td>Geelong</td>\n",
       "      <td>Victoria</td>\n",
       "      <td>...</td>\n",
       "      <td>Graduate Degree</td>\n",
       "      <td>Professional</td>\n",
       "      <td>F</td>\n",
       "      <td>S</td>\n",
       "      <td>1</td>\n",
       "      <td>2</td>\n",
       "      <td>0</td>\n",
       "      <td>0</td>\n",
       "      <td>130551</td>\n",
       "      <td>2017-03-06</td>\n",
       "    </tr>\n",
       "    <tr>\n",
       "      <th>4</th>\n",
       "      <td>11908</td>\n",
       "      <td>NaN</td>\n",
       "      <td>Rafael</td>\n",
       "      <td>A</td>\n",
       "      <td>Tang</td>\n",
       "      <td>NaN</td>\n",
       "      <td>8839 Leonard Dr</td>\n",
       "      <td>NaN</td>\n",
       "      <td>South Melbourne</td>\n",
       "      <td>Victoria</td>\n",
       "      <td>...</td>\n",
       "      <td>Graduate Degree</td>\n",
       "      <td>Professional</td>\n",
       "      <td>M</td>\n",
       "      <td>S</td>\n",
       "      <td>1</td>\n",
       "      <td>2</td>\n",
       "      <td>0</td>\n",
       "      <td>0</td>\n",
       "      <td>135915</td>\n",
       "      <td>2017-03-06</td>\n",
       "    </tr>\n",
       "  </tbody>\n",
       "</table>\n",
       "<p>5 rows × 24 columns</p>\n",
       "</div>"
      ],
      "text/plain": [
       "   CustomerID  Title FirstName MiddleName   LastName  Suffix  \\\n",
       "0       11219    NaN   Charles        NaN       Cook     NaN   \n",
       "1       11241    NaN      Lisa        NaN        Cai     NaN   \n",
       "2       11352    NaN   Raymond          A  Rodriguez     NaN   \n",
       "3       11904    NaN    Kaylee        NaN       Cook     NaN   \n",
       "4       11908    NaN    Rafael          A       Tang     NaN   \n",
       "\n",
       "                AddressLine1  AddressLine2             City  \\\n",
       "0           6871 Bel Air Dr.           NaN         Woodburn   \n",
       "1          102, rue de Berri           NaN         Les Ulis   \n",
       "2  24, impasse Ste-Madeleine           NaN           Pantin   \n",
       "3          5742 Curtis Drive           NaN          Geelong   \n",
       "4            8839 Leonard Dr           NaN  South Melbourne   \n",
       "\n",
       "   StateProvinceName  ...        Education      Occupation Gender  \\\n",
       "0             Oregon  ...      High School  Skilled Manual      M   \n",
       "1            Essonne  ...  Partial College  Skilled Manual      F   \n",
       "2  Seine Saint Denis  ...  Partial College        Clerical      M   \n",
       "3           Victoria  ...  Graduate Degree    Professional      F   \n",
       "4           Victoria  ...  Graduate Degree    Professional      M   \n",
       "\n",
       "  MaritalStatus HomeOwnerFlag NumberCarsOwned NumberChildrenAtHome  \\\n",
       "0             M             1               2                    2   \n",
       "1             S             1               0                    0   \n",
       "2             M             1               3                    0   \n",
       "3             S             1               2                    0   \n",
       "4             S             1               2                    0   \n",
       "\n",
       "  TotalChildren  YearlyIncome  LastUpdated  \n",
       "0             2         56100   2017-03-06  \n",
       "1             0         61555   2017-03-06  \n",
       "2             2         83613   2017-03-06  \n",
       "3             0        130551   2017-03-06  \n",
       "4             0        135915   2017-03-06  \n",
       "\n",
       "[5 rows x 24 columns]"
      ]
     },
     "execution_count": 6,
     "metadata": {},
     "output_type": "execute_result"
    }
   ],
   "source": [
    "df3.head()"
   ]
  },
  {
   "cell_type": "code",
   "execution_count": 7,
   "metadata": {},
   "outputs": [
    {
     "data": {
      "text/html": [
       "<div>\n",
       "<style scoped>\n",
       "    .dataframe tbody tr th:only-of-type {\n",
       "        vertical-align: middle;\n",
       "    }\n",
       "\n",
       "    .dataframe tbody tr th {\n",
       "        vertical-align: top;\n",
       "    }\n",
       "\n",
       "    .dataframe thead th {\n",
       "        text-align: right;\n",
       "    }\n",
       "</style>\n",
       "<table border=\"1\" class=\"dataframe\">\n",
       "  <thead>\n",
       "    <tr style=\"text-align: right;\">\n",
       "      <th></th>\n",
       "      <th>CustomerID</th>\n",
       "      <th>Title</th>\n",
       "      <th>FirstName</th>\n",
       "      <th>MiddleName</th>\n",
       "      <th>LastName</th>\n",
       "      <th>Suffix</th>\n",
       "      <th>AddressLine1</th>\n",
       "      <th>AddressLine2</th>\n",
       "      <th>City</th>\n",
       "      <th>StateProvinceName</th>\n",
       "      <th>...</th>\n",
       "      <th>Education</th>\n",
       "      <th>Occupation</th>\n",
       "      <th>Gender</th>\n",
       "      <th>MaritalStatus</th>\n",
       "      <th>HomeOwnerFlag</th>\n",
       "      <th>NumberCarsOwned</th>\n",
       "      <th>NumberChildrenAtHome</th>\n",
       "      <th>TotalChildren</th>\n",
       "      <th>YearlyIncome</th>\n",
       "      <th>LastUpdated</th>\n",
       "    </tr>\n",
       "  </thead>\n",
       "  <tbody>\n",
       "    <tr>\n",
       "      <th>0</th>\n",
       "      <td>11908</td>\n",
       "      <td>NaN</td>\n",
       "      <td>Rafael</td>\n",
       "      <td>A</td>\n",
       "      <td>Tang</td>\n",
       "      <td>NaN</td>\n",
       "      <td>8839 Leonard Dr</td>\n",
       "      <td>NaN</td>\n",
       "      <td>South Melbourne</td>\n",
       "      <td>Victoria</td>\n",
       "      <td>...</td>\n",
       "      <td>Graduate Degree</td>\n",
       "      <td>Professional</td>\n",
       "      <td>M</td>\n",
       "      <td>S</td>\n",
       "      <td>1</td>\n",
       "      <td>2</td>\n",
       "      <td>0</td>\n",
       "      <td>0</td>\n",
       "      <td>135915</td>\n",
       "      <td>2017-03-06</td>\n",
       "    </tr>\n",
       "    <tr>\n",
       "      <th>1</th>\n",
       "      <td>12286</td>\n",
       "      <td>NaN</td>\n",
       "      <td>Nathan</td>\n",
       "      <td>M</td>\n",
       "      <td>Jenkins</td>\n",
       "      <td>NaN</td>\n",
       "      <td>3093 Roland Drive</td>\n",
       "      <td>NaN</td>\n",
       "      <td>Peterborough</td>\n",
       "      <td>England</td>\n",
       "      <td>...</td>\n",
       "      <td>Graduate Degree</td>\n",
       "      <td>Professional</td>\n",
       "      <td>M</td>\n",
       "      <td>S</td>\n",
       "      <td>1</td>\n",
       "      <td>2</td>\n",
       "      <td>0</td>\n",
       "      <td>0</td>\n",
       "      <td>137732</td>\n",
       "      <td>2017-03-06</td>\n",
       "    </tr>\n",
       "    <tr>\n",
       "      <th>2</th>\n",
       "      <td>12892</td>\n",
       "      <td>NaN</td>\n",
       "      <td>Brian</td>\n",
       "      <td>NaN</td>\n",
       "      <td>Peterson</td>\n",
       "      <td>NaN</td>\n",
       "      <td>1284 Poppy Pl.</td>\n",
       "      <td>NaN</td>\n",
       "      <td>Royal Oak</td>\n",
       "      <td>British Columbia</td>\n",
       "      <td>...</td>\n",
       "      <td>Graduate Degree</td>\n",
       "      <td>Professional</td>\n",
       "      <td>M</td>\n",
       "      <td>M</td>\n",
       "      <td>1</td>\n",
       "      <td>2</td>\n",
       "      <td>0</td>\n",
       "      <td>0</td>\n",
       "      <td>135404</td>\n",
       "      <td>2017-03-06</td>\n",
       "    </tr>\n",
       "    <tr>\n",
       "      <th>3</th>\n",
       "      <td>14698</td>\n",
       "      <td>NaN</td>\n",
       "      <td>Diane</td>\n",
       "      <td>NaN</td>\n",
       "      <td>Navarro</td>\n",
       "      <td>NaN</td>\n",
       "      <td>Potsdamer Straße 92324</td>\n",
       "      <td>NaN</td>\n",
       "      <td>Frankfurt am Main</td>\n",
       "      <td>Saarland</td>\n",
       "      <td>...</td>\n",
       "      <td>Bachelors</td>\n",
       "      <td>Management</td>\n",
       "      <td>F</td>\n",
       "      <td>M</td>\n",
       "      <td>1</td>\n",
       "      <td>3</td>\n",
       "      <td>0</td>\n",
       "      <td>0</td>\n",
       "      <td>104040</td>\n",
       "      <td>2017-03-06</td>\n",
       "    </tr>\n",
       "    <tr>\n",
       "      <th>4</th>\n",
       "      <td>15085</td>\n",
       "      <td>NaN</td>\n",
       "      <td>Kristin</td>\n",
       "      <td>H</td>\n",
       "      <td>Jai</td>\n",
       "      <td>NaN</td>\n",
       "      <td>88, impasse Notre-Dame</td>\n",
       "      <td>NaN</td>\n",
       "      <td>Morangis</td>\n",
       "      <td>Essonne</td>\n",
       "      <td>...</td>\n",
       "      <td>Graduate Degree</td>\n",
       "      <td>Professional</td>\n",
       "      <td>F</td>\n",
       "      <td>S</td>\n",
       "      <td>1</td>\n",
       "      <td>0</td>\n",
       "      <td>0</td>\n",
       "      <td>0</td>\n",
       "      <td>129319</td>\n",
       "      <td>2017-03-06</td>\n",
       "    </tr>\n",
       "  </tbody>\n",
       "</table>\n",
       "<p>5 rows × 24 columns</p>\n",
       "</div>"
      ],
      "text/plain": [
       "   CustomerID  Title FirstName MiddleName  LastName  Suffix  \\\n",
       "0       11908    NaN    Rafael          A      Tang     NaN   \n",
       "1       12286    NaN    Nathan          M   Jenkins     NaN   \n",
       "2       12892    NaN     Brian        NaN  Peterson     NaN   \n",
       "3       14698    NaN     Diane        NaN   Navarro     NaN   \n",
       "4       15085    NaN   Kristin          H       Jai     NaN   \n",
       "\n",
       "             AddressLine1  AddressLine2               City StateProvinceName  \\\n",
       "0         8839 Leonard Dr           NaN    South Melbourne          Victoria   \n",
       "1       3093 Roland Drive           NaN       Peterborough           England   \n",
       "2          1284 Poppy Pl.           NaN          Royal Oak  British Columbia   \n",
       "3  Potsdamer Straße 92324           NaN  Frankfurt am Main          Saarland   \n",
       "4  88, impasse Notre-Dame           NaN           Morangis           Essonne   \n",
       "\n",
       "   ...        Education    Occupation Gender MaritalStatus HomeOwnerFlag  \\\n",
       "0  ...  Graduate Degree  Professional      M             S             1   \n",
       "1  ...  Graduate Degree  Professional      M             S             1   \n",
       "2  ...  Graduate Degree  Professional      M             M             1   \n",
       "3  ...        Bachelors    Management      F             M             1   \n",
       "4  ...  Graduate Degree  Professional      F             S             1   \n",
       "\n",
       "  NumberCarsOwned NumberChildrenAtHome TotalChildren  YearlyIncome  \\\n",
       "0               2                    0             0        135915   \n",
       "1               2                    0             0        137732   \n",
       "2               2                    0             0        135404   \n",
       "3               3                    0             0        104040   \n",
       "4               0                    0             0        129319   \n",
       "\n",
       "   LastUpdated  \n",
       "0   2017-03-06  \n",
       "1   2017-03-06  \n",
       "2   2017-03-06  \n",
       "3   2017-03-06  \n",
       "4   2017-03-06  \n",
       "\n",
       "[5 rows x 24 columns]"
      ]
     },
     "execution_count": 7,
     "metadata": {},
     "output_type": "execute_result"
    }
   ],
   "source": [
    "df4.head()"
   ]
  },
  {
   "cell_type": "code",
   "execution_count": 9,
   "metadata": {},
   "outputs": [
    {
     "data": {
      "text/plain": [
       "Index(['CustomerID', 'Title', 'FirstName', 'MiddleName', 'LastName', 'Suffix',\n",
       "       'AddressLine1', 'AddressLine2', 'City', 'StateProvinceName',\n",
       "       'CountryRegionName', 'PostalCode', 'PhoneNumber', 'BirthDate',\n",
       "       'Education', 'Occupation', 'Gender', 'MaritalStatus', 'HomeOwnerFlag',\n",
       "       'NumberCarsOwned', 'NumberChildrenAtHome', 'TotalChildren',\n",
       "       'YearlyIncome', 'LastUpdated'],\n",
       "      dtype='object')"
      ]
     },
     "execution_count": 9,
     "metadata": {},
     "output_type": "execute_result"
    }
   ],
   "source": [
    "df1.columns"
   ]
  },
  {
   "cell_type": "code",
   "execution_count": 10,
   "metadata": {},
   "outputs": [
    {
     "data": {
      "text/plain": [
       "Index(['CustomerID', 'BikeBuyer', 'AvgMonthSpend'], dtype='object')"
      ]
     },
     "execution_count": 10,
     "metadata": {},
     "output_type": "execute_result"
    }
   ],
   "source": [
    "df2.columns"
   ]
  },
  {
   "cell_type": "code",
   "execution_count": 11,
   "metadata": {},
   "outputs": [
    {
     "data": {
      "text/plain": [
       "Index(['CustomerID', 'Title', 'FirstName', 'MiddleName', 'LastName', 'Suffix',\n",
       "       'AddressLine1', 'AddressLine2', 'City', 'StateProvinceName',\n",
       "       'CountryRegionName', 'PostalCode', 'PhoneNumber', 'BirthDate',\n",
       "       'Education', 'Occupation', 'Gender', 'MaritalStatus', 'HomeOwnerFlag',\n",
       "       'NumberCarsOwned', 'NumberChildrenAtHome', 'TotalChildren',\n",
       "       'YearlyIncome', 'LastUpdated'],\n",
       "      dtype='object')"
      ]
     },
     "execution_count": 11,
     "metadata": {},
     "output_type": "execute_result"
    }
   ],
   "source": [
    "df3.columns"
   ]
  },
  {
   "cell_type": "code",
   "execution_count": 12,
   "metadata": {},
   "outputs": [
    {
     "data": {
      "text/plain": [
       "Index(['CustomerID', 'Title', 'FirstName', 'MiddleName', 'LastName', 'Suffix',\n",
       "       'AddressLine1', 'AddressLine2', 'City', 'StateProvinceName',\n",
       "       'CountryRegionName', 'PostalCode', 'PhoneNumber', 'BirthDate',\n",
       "       'Education', 'Occupation', 'Gender', 'MaritalStatus', 'HomeOwnerFlag',\n",
       "       'NumberCarsOwned', 'NumberChildrenAtHome', 'TotalChildren',\n",
       "       'YearlyIncome', 'LastUpdated'],\n",
       "      dtype='object')"
      ]
     },
     "execution_count": 12,
     "metadata": {},
     "output_type": "execute_result"
    }
   ],
   "source": [
    "df4.columns"
   ]
  },
  {
   "cell_type": "code",
   "execution_count": 17,
   "metadata": {},
   "outputs": [
    {
     "name": "stdout",
     "output_type": "stream",
     "text": [
      "<class 'pandas.core.frame.DataFrame'>\n",
      "RangeIndex: 50 entries, 0 to 49\n",
      "Data columns (total 24 columns):\n",
      " #   Column                Non-Null Count  Dtype  \n",
      "---  ------                --------------  -----  \n",
      " 0   CustomerID            50 non-null     int64  \n",
      " 1   Title                 0 non-null      float64\n",
      " 2   FirstName             50 non-null     object \n",
      " 3   MiddleName            28 non-null     object \n",
      " 4   LastName              50 non-null     object \n",
      " 5   Suffix                0 non-null      float64\n",
      " 6   AddressLine1          50 non-null     object \n",
      " 7   AddressLine2          0 non-null      float64\n",
      " 8   City                  50 non-null     object \n",
      " 9   StateProvinceName     50 non-null     object \n",
      " 10  CountryRegionName     50 non-null     object \n",
      " 11  PostalCode            50 non-null     object \n",
      " 12  PhoneNumber           50 non-null     object \n",
      " 13  BirthDate             50 non-null     object \n",
      " 14  Education             50 non-null     object \n",
      " 15  Occupation            50 non-null     object \n",
      " 16  Gender                50 non-null     object \n",
      " 17  MaritalStatus         50 non-null     object \n",
      " 18  HomeOwnerFlag         50 non-null     int64  \n",
      " 19  NumberCarsOwned       50 non-null     int64  \n",
      " 20  NumberChildrenAtHome  50 non-null     int64  \n",
      " 21  TotalChildren         50 non-null     int64  \n",
      " 22  YearlyIncome          50 non-null     int64  \n",
      " 23  LastUpdated           50 non-null     object \n",
      "dtypes: float64(3), int64(6), object(15)\n",
      "memory usage: 9.5+ KB\n"
     ]
    }
   ],
   "source": [
    "df3.info()"
   ]
  },
  {
   "cell_type": "code",
   "execution_count": 18,
   "metadata": {},
   "outputs": [
    {
     "name": "stdout",
     "output_type": "stream",
     "text": [
      "<class 'pandas.core.frame.DataFrame'>\n",
      "RangeIndex: 25 entries, 0 to 24\n",
      "Data columns (total 24 columns):\n",
      " #   Column                Non-Null Count  Dtype  \n",
      "---  ------                --------------  -----  \n",
      " 0   CustomerID            25 non-null     int64  \n",
      " 1   Title                 0 non-null      float64\n",
      " 2   FirstName             25 non-null     object \n",
      " 3   MiddleName            19 non-null     object \n",
      " 4   LastName              25 non-null     object \n",
      " 5   Suffix                0 non-null      float64\n",
      " 6   AddressLine1          25 non-null     object \n",
      " 7   AddressLine2          0 non-null      float64\n",
      " 8   City                  25 non-null     object \n",
      " 9   StateProvinceName     25 non-null     object \n",
      " 10  CountryRegionName     25 non-null     object \n",
      " 11  PostalCode            25 non-null     object \n",
      " 12  PhoneNumber           25 non-null     object \n",
      " 13  BirthDate             25 non-null     object \n",
      " 14  Education             25 non-null     object \n",
      " 15  Occupation            25 non-null     object \n",
      " 16  Gender                25 non-null     object \n",
      " 17  MaritalStatus         25 non-null     object \n",
      " 18  HomeOwnerFlag         25 non-null     int64  \n",
      " 19  NumberCarsOwned       25 non-null     int64  \n",
      " 20  NumberChildrenAtHome  25 non-null     int64  \n",
      " 21  TotalChildren         25 non-null     int64  \n",
      " 22  YearlyIncome          25 non-null     int64  \n",
      " 23  LastUpdated           25 non-null     object \n",
      "dtypes: float64(3), int64(6), object(15)\n",
      "memory usage: 4.8+ KB\n"
     ]
    }
   ],
   "source": [
    "df4.info()"
   ]
  },
  {
   "cell_type": "code",
   "execution_count": 20,
   "metadata": {},
   "outputs": [
    {
     "name": "stdout",
     "output_type": "stream",
     "text": [
      "<class 'pandas.core.frame.DataFrame'>\n",
      "RangeIndex: 18355 entries, 0 to 18354\n",
      "Data columns (total 3 columns):\n",
      " #   Column         Non-Null Count  Dtype  \n",
      "---  ------         --------------  -----  \n",
      " 0   CustomerID     18355 non-null  int64  \n",
      " 1   BikeBuyer      18355 non-null  int64  \n",
      " 2   AvgMonthSpend  18355 non-null  float64\n",
      "dtypes: float64(1), int64(2)\n",
      "memory usage: 430.3 KB\n"
     ]
    }
   ],
   "source": [
    "df2.info()"
   ]
  },
  {
   "cell_type": "code",
   "execution_count": 21,
   "metadata": {},
   "outputs": [
    {
     "data": {
      "text/plain": [
       "array([1, 0])"
      ]
     },
     "execution_count": 21,
     "metadata": {},
     "output_type": "execute_result"
    }
   ],
   "source": [
    "df2['BikeBuyer'].unique()"
   ]
  },
  {
   "cell_type": "code",
   "execution_count": 22,
   "metadata": {},
   "outputs": [
    {
     "name": "stdout",
     "output_type": "stream",
     "text": [
      "<class 'pandas.core.frame.DataFrame'>\n",
      "RangeIndex: 18361 entries, 0 to 18360\n",
      "Data columns (total 24 columns):\n",
      " #   Column                Non-Null Count  Dtype \n",
      "---  ------                --------------  ----- \n",
      " 0   CustomerID            18361 non-null  int64 \n",
      " 1   Title                 101 non-null    object\n",
      " 2   FirstName             18361 non-null  object\n",
      " 3   MiddleName            10572 non-null  object\n",
      " 4   LastName              18361 non-null  object\n",
      " 5   Suffix                3 non-null      object\n",
      " 6   AddressLine1          18361 non-null  object\n",
      " 7   AddressLine2          311 non-null    object\n",
      " 8   City                  18361 non-null  object\n",
      " 9   StateProvinceName     18361 non-null  object\n",
      " 10  CountryRegionName     18361 non-null  object\n",
      " 11  PostalCode            18361 non-null  object\n",
      " 12  PhoneNumber           18361 non-null  object\n",
      " 13  BirthDate             18361 non-null  object\n",
      " 14  Education             18361 non-null  object\n",
      " 15  Occupation            18361 non-null  object\n",
      " 16  Gender                18361 non-null  object\n",
      " 17  MaritalStatus         18361 non-null  object\n",
      " 18  HomeOwnerFlag         18361 non-null  int64 \n",
      " 19  NumberCarsOwned       18361 non-null  int64 \n",
      " 20  NumberChildrenAtHome  18361 non-null  int64 \n",
      " 21  TotalChildren         18361 non-null  int64 \n",
      " 22  YearlyIncome          18361 non-null  int64 \n",
      " 23  LastUpdated           18361 non-null  object\n",
      "dtypes: int64(6), object(18)\n",
      "memory usage: 3.4+ MB\n"
     ]
    }
   ],
   "source": [
    "df1.info()"
   ]
  },
  {
   "cell_type": "markdown",
   "metadata": {},
   "source": [
    "> Merging the two df1 and df2 having same CustomerID"
   ]
  },
  {
   "cell_type": "code",
   "execution_count": 25,
   "metadata": {},
   "outputs": [],
   "source": [
    "df = df2.merge(df1, left_on='CustomerID', right_on='CustomerID', how='left')"
   ]
  },
  {
   "cell_type": "code",
   "execution_count": 26,
   "metadata": {},
   "outputs": [
    {
     "data": {
      "text/html": [
       "<div>\n",
       "<style scoped>\n",
       "    .dataframe tbody tr th:only-of-type {\n",
       "        vertical-align: middle;\n",
       "    }\n",
       "\n",
       "    .dataframe tbody tr th {\n",
       "        vertical-align: top;\n",
       "    }\n",
       "\n",
       "    .dataframe thead th {\n",
       "        text-align: right;\n",
       "    }\n",
       "</style>\n",
       "<table border=\"1\" class=\"dataframe\">\n",
       "  <thead>\n",
       "    <tr style=\"text-align: right;\">\n",
       "      <th></th>\n",
       "      <th>CustomerID</th>\n",
       "      <th>BikeBuyer</th>\n",
       "      <th>AvgMonthSpend</th>\n",
       "      <th>Title</th>\n",
       "      <th>FirstName</th>\n",
       "      <th>MiddleName</th>\n",
       "      <th>LastName</th>\n",
       "      <th>Suffix</th>\n",
       "      <th>AddressLine1</th>\n",
       "      <th>AddressLine2</th>\n",
       "      <th>...</th>\n",
       "      <th>Education</th>\n",
       "      <th>Occupation</th>\n",
       "      <th>Gender</th>\n",
       "      <th>MaritalStatus</th>\n",
       "      <th>HomeOwnerFlag</th>\n",
       "      <th>NumberCarsOwned</th>\n",
       "      <th>NumberChildrenAtHome</th>\n",
       "      <th>TotalChildren</th>\n",
       "      <th>YearlyIncome</th>\n",
       "      <th>LastUpdated</th>\n",
       "    </tr>\n",
       "  </thead>\n",
       "  <tbody>\n",
       "    <tr>\n",
       "      <th>0</th>\n",
       "      <td>21173</td>\n",
       "      <td>1</td>\n",
       "      <td>50.97</td>\n",
       "      <td>NaN</td>\n",
       "      <td>Chad</td>\n",
       "      <td>C</td>\n",
       "      <td>Yuan</td>\n",
       "      <td>NaN</td>\n",
       "      <td>7090 C. Mount Hood</td>\n",
       "      <td>NaN</td>\n",
       "      <td>...</td>\n",
       "      <td>Bachelors</td>\n",
       "      <td>Clerical</td>\n",
       "      <td>M</td>\n",
       "      <td>M</td>\n",
       "      <td>1</td>\n",
       "      <td>3</td>\n",
       "      <td>0</td>\n",
       "      <td>1</td>\n",
       "      <td>81916</td>\n",
       "      <td>2017-03-06</td>\n",
       "    </tr>\n",
       "    <tr>\n",
       "      <th>1</th>\n",
       "      <td>13249</td>\n",
       "      <td>1</td>\n",
       "      <td>53.11</td>\n",
       "      <td>NaN</td>\n",
       "      <td>Ryan</td>\n",
       "      <td>NaN</td>\n",
       "      <td>Perry</td>\n",
       "      <td>NaN</td>\n",
       "      <td>3651 Willow Lake Rd</td>\n",
       "      <td>NaN</td>\n",
       "      <td>...</td>\n",
       "      <td>Partial College</td>\n",
       "      <td>Clerical</td>\n",
       "      <td>M</td>\n",
       "      <td>M</td>\n",
       "      <td>1</td>\n",
       "      <td>2</td>\n",
       "      <td>1</td>\n",
       "      <td>2</td>\n",
       "      <td>81076</td>\n",
       "      <td>2017-03-06</td>\n",
       "    </tr>\n",
       "    <tr>\n",
       "      <th>2</th>\n",
       "      <td>29350</td>\n",
       "      <td>1</td>\n",
       "      <td>54.08</td>\n",
       "      <td>NaN</td>\n",
       "      <td>Julia</td>\n",
       "      <td>NaN</td>\n",
       "      <td>Thompson</td>\n",
       "      <td>NaN</td>\n",
       "      <td>1774 Tice Valley Blvd.</td>\n",
       "      <td>NaN</td>\n",
       "      <td>...</td>\n",
       "      <td>Bachelors</td>\n",
       "      <td>Clerical</td>\n",
       "      <td>F</td>\n",
       "      <td>S</td>\n",
       "      <td>0</td>\n",
       "      <td>3</td>\n",
       "      <td>0</td>\n",
       "      <td>0</td>\n",
       "      <td>86387</td>\n",
       "      <td>2017-03-06</td>\n",
       "    </tr>\n",
       "    <tr>\n",
       "      <th>3</th>\n",
       "      <td>13503</td>\n",
       "      <td>1</td>\n",
       "      <td>56.93</td>\n",
       "      <td>NaN</td>\n",
       "      <td>Theodore</td>\n",
       "      <td>NaN</td>\n",
       "      <td>Gomez</td>\n",
       "      <td>NaN</td>\n",
       "      <td>2103 Baldwin Dr</td>\n",
       "      <td>NaN</td>\n",
       "      <td>...</td>\n",
       "      <td>Partial College</td>\n",
       "      <td>Skilled Manual</td>\n",
       "      <td>M</td>\n",
       "      <td>M</td>\n",
       "      <td>1</td>\n",
       "      <td>2</td>\n",
       "      <td>1</td>\n",
       "      <td>2</td>\n",
       "      <td>61481</td>\n",
       "      <td>2017-03-06</td>\n",
       "    </tr>\n",
       "    <tr>\n",
       "      <th>4</th>\n",
       "      <td>22803</td>\n",
       "      <td>1</td>\n",
       "      <td>55.41</td>\n",
       "      <td>NaN</td>\n",
       "      <td>Marshall</td>\n",
       "      <td>J</td>\n",
       "      <td>Shan</td>\n",
       "      <td>NaN</td>\n",
       "      <td>Am Gallberg 234</td>\n",
       "      <td>NaN</td>\n",
       "      <td>...</td>\n",
       "      <td>Partial College</td>\n",
       "      <td>Skilled Manual</td>\n",
       "      <td>M</td>\n",
       "      <td>S</td>\n",
       "      <td>1</td>\n",
       "      <td>1</td>\n",
       "      <td>0</td>\n",
       "      <td>0</td>\n",
       "      <td>51804</td>\n",
       "      <td>2017-03-06</td>\n",
       "    </tr>\n",
       "  </tbody>\n",
       "</table>\n",
       "<p>5 rows × 26 columns</p>\n",
       "</div>"
      ],
      "text/plain": [
       "   CustomerID  BikeBuyer  AvgMonthSpend Title FirstName MiddleName  LastName  \\\n",
       "0       21173          1          50.97   NaN      Chad          C      Yuan   \n",
       "1       13249          1          53.11   NaN      Ryan        NaN     Perry   \n",
       "2       29350          1          54.08   NaN     Julia        NaN  Thompson   \n",
       "3       13503          1          56.93   NaN  Theodore        NaN     Gomez   \n",
       "4       22803          1          55.41   NaN  Marshall          J      Shan   \n",
       "\n",
       "  Suffix            AddressLine1 AddressLine2  ...        Education  \\\n",
       "0    NaN      7090 C. Mount Hood          NaN  ...        Bachelors   \n",
       "1    NaN     3651 Willow Lake Rd          NaN  ...  Partial College   \n",
       "2    NaN  1774 Tice Valley Blvd.          NaN  ...        Bachelors   \n",
       "3    NaN         2103 Baldwin Dr          NaN  ...  Partial College   \n",
       "4    NaN         Am Gallberg 234          NaN  ...  Partial College   \n",
       "\n",
       "       Occupation Gender MaritalStatus HomeOwnerFlag NumberCarsOwned  \\\n",
       "0        Clerical      M             M             1               3   \n",
       "1        Clerical      M             M             1               2   \n",
       "2        Clerical      F             S             0               3   \n",
       "3  Skilled Manual      M             M             1               2   \n",
       "4  Skilled Manual      M             S             1               1   \n",
       "\n",
       "  NumberChildrenAtHome TotalChildren YearlyIncome LastUpdated  \n",
       "0                    0             1        81916  2017-03-06  \n",
       "1                    1             2        81076  2017-03-06  \n",
       "2                    0             0        86387  2017-03-06  \n",
       "3                    1             2        61481  2017-03-06  \n",
       "4                    0             0        51804  2017-03-06  \n",
       "\n",
       "[5 rows x 26 columns]"
      ]
     },
     "execution_count": 26,
     "metadata": {},
     "output_type": "execute_result"
    }
   ],
   "source": [
    "df.head()"
   ]
  },
  {
   "cell_type": "code",
   "execution_count": 28,
   "metadata": {},
   "outputs": [
    {
     "name": "stdout",
     "output_type": "stream",
     "text": [
      "<class 'pandas.core.frame.DataFrame'>\n",
      "Int64Index: 18361 entries, 0 to 18360\n",
      "Data columns (total 26 columns):\n",
      " #   Column                Non-Null Count  Dtype  \n",
      "---  ------                --------------  -----  \n",
      " 0   CustomerID            18361 non-null  int64  \n",
      " 1   BikeBuyer             18361 non-null  int64  \n",
      " 2   AvgMonthSpend         18361 non-null  float64\n",
      " 3   Title                 101 non-null    object \n",
      " 4   FirstName             18361 non-null  object \n",
      " 5   MiddleName            10572 non-null  object \n",
      " 6   LastName              18361 non-null  object \n",
      " 7   Suffix                3 non-null      object \n",
      " 8   AddressLine1          18361 non-null  object \n",
      " 9   AddressLine2          311 non-null    object \n",
      " 10  City                  18361 non-null  object \n",
      " 11  StateProvinceName     18361 non-null  object \n",
      " 12  CountryRegionName     18361 non-null  object \n",
      " 13  PostalCode            18361 non-null  object \n",
      " 14  PhoneNumber           18361 non-null  object \n",
      " 15  BirthDate             18361 non-null  object \n",
      " 16  Education             18361 non-null  object \n",
      " 17  Occupation            18361 non-null  object \n",
      " 18  Gender                18361 non-null  object \n",
      " 19  MaritalStatus         18361 non-null  object \n",
      " 20  HomeOwnerFlag         18361 non-null  int64  \n",
      " 21  NumberCarsOwned       18361 non-null  int64  \n",
      " 22  NumberChildrenAtHome  18361 non-null  int64  \n",
      " 23  TotalChildren         18361 non-null  int64  \n",
      " 24  YearlyIncome          18361 non-null  int64  \n",
      " 25  LastUpdated           18361 non-null  object \n",
      "dtypes: float64(1), int64(7), object(18)\n",
      "memory usage: 3.8+ MB\n"
     ]
    }
   ],
   "source": [
    "df.info()"
   ]
  },
  {
   "cell_type": "code",
   "execution_count": 29,
   "metadata": {},
   "outputs": [
    {
     "data": {
      "text/plain": [
       "Index(['CustomerID', 'BikeBuyer', 'AvgMonthSpend', 'Title', 'FirstName',\n",
       "       'MiddleName', 'LastName', 'Suffix', 'AddressLine1', 'AddressLine2',\n",
       "       'City', 'StateProvinceName', 'CountryRegionName', 'PostalCode',\n",
       "       'PhoneNumber', 'BirthDate', 'Education', 'Occupation', 'Gender',\n",
       "       'MaritalStatus', 'HomeOwnerFlag', 'NumberCarsOwned',\n",
       "       'NumberChildrenAtHome', 'TotalChildren', 'YearlyIncome', 'LastUpdated'],\n",
       "      dtype='object')"
      ]
     },
     "execution_count": 29,
     "metadata": {},
     "output_type": "execute_result"
    }
   ],
   "source": [
    "df.columns"
   ]
  },
  {
   "cell_type": "code",
   "execution_count": 32,
   "metadata": {},
   "outputs": [
    {
     "data": {
      "text/plain": [
       "CustomerID             -0.021610\n",
       "BikeBuyer               1.000000\n",
       "AvgMonthSpend           0.280268\n",
       "HomeOwnerFlag           0.229115\n",
       "NumberCarsOwned         0.185078\n",
       "NumberChildrenAtHome    0.359777\n",
       "TotalChildren           0.209479\n",
       "YearlyIncome            0.249457\n",
       "Name: BikeBuyer, dtype: float64"
      ]
     },
     "execution_count": 32,
     "metadata": {},
     "output_type": "execute_result"
    }
   ],
   "source": [
    "df.corr()['BikeBuyer']"
   ]
  },
  {
   "cell_type": "code",
   "execution_count": 34,
   "metadata": {},
   "outputs": [
    {
     "data": {
      "text/plain": [
       "(6, 670, 45, 375)"
      ]
     },
     "execution_count": 34,
     "metadata": {},
     "output_type": "execute_result"
    }
   ],
   "source": [
    "len(df['Title'].unique()), len(df['FirstName'].unique()), len(df['MiddleName'].unique()), len(df['LastName'].unique())"
   ]
  },
  {
   "cell_type": "markdown",
   "metadata": {},
   "source": [
    "> It's clear that FirstName, MiddleName and LastName has to be removed due to high number of unique values in the Natural Language and cannot be hot line encoded"
   ]
  },
  {
   "cell_type": "code",
   "execution_count": 36,
   "metadata": {},
   "outputs": [],
   "source": [
    "df.drop(['FirstName', 'MiddleName', 'LastName'], axis=1, inplace=True)"
   ]
  },
  {
   "cell_type": "code",
   "execution_count": 37,
   "metadata": {},
   "outputs": [
    {
     "data": {
      "text/plain": [
       "(2, 12742, 167, 269)"
      ]
     },
     "execution_count": 37,
     "metadata": {},
     "output_type": "execute_result"
    }
   ],
   "source": [
    "len(df['Suffix'].unique()), len(df['AddressLine1'].unique()), len(df['AddressLine2'].unique()), len(df['City'].unique())"
   ]
  },
  {
   "cell_type": "markdown",
   "metadata": {},
   "source": [
    "> It's clear that AddressLine1, AddressLine2 and City has to be removed due to high number of unique values in the Natural Language and cannot be hot line encoded"
   ]
  },
  {
   "cell_type": "code",
   "execution_count": 38,
   "metadata": {},
   "outputs": [],
   "source": [
    "df.drop(['City', 'AddressLine1', 'AddressLine2'], axis=1, inplace=True)"
   ]
  },
  {
   "cell_type": "code",
   "execution_count": 39,
   "metadata": {},
   "outputs": [
    {
     "data": {
      "text/plain": [
       "Index(['CustomerID', 'BikeBuyer', 'AvgMonthSpend', 'Title', 'Suffix',\n",
       "       'StateProvinceName', 'CountryRegionName', 'PostalCode', 'PhoneNumber',\n",
       "       'BirthDate', 'Education', 'Occupation', 'Gender', 'MaritalStatus',\n",
       "       'HomeOwnerFlag', 'NumberCarsOwned', 'NumberChildrenAtHome',\n",
       "       'TotalChildren', 'YearlyIncome', 'LastUpdated'],\n",
       "      dtype='object')"
      ]
     },
     "execution_count": 39,
     "metadata": {},
     "output_type": "execute_result"
    }
   ],
   "source": [
    "df.columns"
   ]
  },
  {
   "cell_type": "code",
   "execution_count": 40,
   "metadata": {},
   "outputs": [
    {
     "name": "stdout",
     "output_type": "stream",
     "text": [
      "<class 'pandas.core.frame.DataFrame'>\n",
      "Int64Index: 18361 entries, 0 to 18360\n",
      "Data columns (total 20 columns):\n",
      " #   Column                Non-Null Count  Dtype  \n",
      "---  ------                --------------  -----  \n",
      " 0   CustomerID            18361 non-null  int64  \n",
      " 1   BikeBuyer             18361 non-null  int64  \n",
      " 2   AvgMonthSpend         18361 non-null  float64\n",
      " 3   Title                 101 non-null    object \n",
      " 4   Suffix                3 non-null      object \n",
      " 5   StateProvinceName     18361 non-null  object \n",
      " 6   CountryRegionName     18361 non-null  object \n",
      " 7   PostalCode            18361 non-null  object \n",
      " 8   PhoneNumber           18361 non-null  object \n",
      " 9   BirthDate             18361 non-null  object \n",
      " 10  Education             18361 non-null  object \n",
      " 11  Occupation            18361 non-null  object \n",
      " 12  Gender                18361 non-null  object \n",
      " 13  MaritalStatus         18361 non-null  object \n",
      " 14  HomeOwnerFlag         18361 non-null  int64  \n",
      " 15  NumberCarsOwned       18361 non-null  int64  \n",
      " 16  NumberChildrenAtHome  18361 non-null  int64  \n",
      " 17  TotalChildren         18361 non-null  int64  \n",
      " 18  YearlyIncome          18361 non-null  int64  \n",
      " 19  LastUpdated           18361 non-null  object \n",
      "dtypes: float64(1), int64(7), object(12)\n",
      "memory usage: 2.9+ MB\n"
     ]
    }
   ],
   "source": [
    "df.info()"
   ]
  },
  {
   "cell_type": "code",
   "execution_count": 41,
   "metadata": {},
   "outputs": [
    {
     "data": {
      "text/plain": [
       "(54, 6, 323, 8836)"
      ]
     },
     "execution_count": 41,
     "metadata": {},
     "output_type": "execute_result"
    }
   ],
   "source": [
    "len(df['StateProvinceName'].unique()), len(df['CountryRegionName'].unique()), len(df['PostalCode'].unique()), len(df['PhoneNumber'].unique())"
   ]
  },
  {
   "cell_type": "markdown",
   "metadata": {},
   "source": [
    "> It's clear that StateProvinceName, PostalCode and PhoneNumber has to be removed due to high number of unique values in the Natural Language and cannot be hot line encoded"
   ]
  },
  {
   "cell_type": "code",
   "execution_count": 42,
   "metadata": {},
   "outputs": [],
   "source": [
    "df.drop(['StateProvinceName', 'PostalCode', 'PhoneNumber'], axis=1, inplace=True)"
   ]
  },
  {
   "cell_type": "code",
   "execution_count": 43,
   "metadata": {},
   "outputs": [
    {
     "name": "stdout",
     "output_type": "stream",
     "text": [
      "<class 'pandas.core.frame.DataFrame'>\n",
      "Int64Index: 18361 entries, 0 to 18360\n",
      "Data columns (total 17 columns):\n",
      " #   Column                Non-Null Count  Dtype  \n",
      "---  ------                --------------  -----  \n",
      " 0   CustomerID            18361 non-null  int64  \n",
      " 1   BikeBuyer             18361 non-null  int64  \n",
      " 2   AvgMonthSpend         18361 non-null  float64\n",
      " 3   Title                 101 non-null    object \n",
      " 4   Suffix                3 non-null      object \n",
      " 5   CountryRegionName     18361 non-null  object \n",
      " 6   BirthDate             18361 non-null  object \n",
      " 7   Education             18361 non-null  object \n",
      " 8   Occupation            18361 non-null  object \n",
      " 9   Gender                18361 non-null  object \n",
      " 10  MaritalStatus         18361 non-null  object \n",
      " 11  HomeOwnerFlag         18361 non-null  int64  \n",
      " 12  NumberCarsOwned       18361 non-null  int64  \n",
      " 13  NumberChildrenAtHome  18361 non-null  int64  \n",
      " 14  TotalChildren         18361 non-null  int64  \n",
      " 15  YearlyIncome          18361 non-null  int64  \n",
      " 16  LastUpdated           18361 non-null  object \n",
      "dtypes: float64(1), int64(7), object(9)\n",
      "memory usage: 2.5+ MB\n"
     ]
    }
   ],
   "source": [
    "df.info()"
   ]
  },
  {
   "cell_type": "code",
   "execution_count": 44,
   "metadata": {},
   "outputs": [
    {
     "data": {
      "text/plain": [
       "(8230, 5, 5, 2)"
      ]
     },
     "execution_count": 44,
     "metadata": {},
     "output_type": "execute_result"
    }
   ],
   "source": [
    "len(df['BirthDate'].unique()), len(df['Education'].unique()), len(df['Occupation'].unique()), len(df['Gender'].unique())"
   ]
  },
  {
   "cell_type": "code",
   "execution_count": 45,
   "metadata": {},
   "outputs": [
    {
     "data": {
      "text/plain": [
       "(2, 2)"
      ]
     },
     "execution_count": 45,
     "metadata": {},
     "output_type": "execute_result"
    }
   ],
   "source": [
    "len(df['MaritalStatus'].unique()), len(df['LastUpdated'].unique())"
   ]
  },
  {
   "cell_type": "markdown",
   "metadata": {},
   "source": [
    "> It's clear that BirthDate has to be removed due to high number of unique values in the Natural Language and cannot be hot line encoded"
   ]
  },
  {
   "cell_type": "code",
   "execution_count": 46,
   "metadata": {},
   "outputs": [],
   "source": [
    "df.drop('BirthDate', axis=1, inplace=True)"
   ]
  },
  {
   "cell_type": "code",
   "execution_count": 47,
   "metadata": {},
   "outputs": [
    {
     "name": "stdout",
     "output_type": "stream",
     "text": [
      "<class 'pandas.core.frame.DataFrame'>\n",
      "Int64Index: 18361 entries, 0 to 18360\n",
      "Data columns (total 16 columns):\n",
      " #   Column                Non-Null Count  Dtype  \n",
      "---  ------                --------------  -----  \n",
      " 0   CustomerID            18361 non-null  int64  \n",
      " 1   BikeBuyer             18361 non-null  int64  \n",
      " 2   AvgMonthSpend         18361 non-null  float64\n",
      " 3   Title                 101 non-null    object \n",
      " 4   Suffix                3 non-null      object \n",
      " 5   CountryRegionName     18361 non-null  object \n",
      " 6   Education             18361 non-null  object \n",
      " 7   Occupation            18361 non-null  object \n",
      " 8   Gender                18361 non-null  object \n",
      " 9   MaritalStatus         18361 non-null  object \n",
      " 10  HomeOwnerFlag         18361 non-null  int64  \n",
      " 11  NumberCarsOwned       18361 non-null  int64  \n",
      " 12  NumberChildrenAtHome  18361 non-null  int64  \n",
      " 13  TotalChildren         18361 non-null  int64  \n",
      " 14  YearlyIncome          18361 non-null  int64  \n",
      " 15  LastUpdated           18361 non-null  object \n",
      "dtypes: float64(1), int64(7), object(8)\n",
      "memory usage: 2.4+ MB\n"
     ]
    }
   ],
   "source": [
    "df.info()"
   ]
  },
  {
   "cell_type": "markdown",
   "metadata": {},
   "source": [
    "> Title and Suffix has to be also dropped due to very low amount of data present."
   ]
  },
  {
   "cell_type": "code",
   "execution_count": 48,
   "metadata": {},
   "outputs": [],
   "source": [
    "df.drop(['Title', 'Suffix'], axis=1, inplace=True)"
   ]
  },
  {
   "cell_type": "code",
   "execution_count": 49,
   "metadata": {},
   "outputs": [
    {
     "name": "stdout",
     "output_type": "stream",
     "text": [
      "<class 'pandas.core.frame.DataFrame'>\n",
      "Int64Index: 18361 entries, 0 to 18360\n",
      "Data columns (total 14 columns):\n",
      " #   Column                Non-Null Count  Dtype  \n",
      "---  ------                --------------  -----  \n",
      " 0   CustomerID            18361 non-null  int64  \n",
      " 1   BikeBuyer             18361 non-null  int64  \n",
      " 2   AvgMonthSpend         18361 non-null  float64\n",
      " 3   CountryRegionName     18361 non-null  object \n",
      " 4   Education             18361 non-null  object \n",
      " 5   Occupation            18361 non-null  object \n",
      " 6   Gender                18361 non-null  object \n",
      " 7   MaritalStatus         18361 non-null  object \n",
      " 8   HomeOwnerFlag         18361 non-null  int64  \n",
      " 9   NumberCarsOwned       18361 non-null  int64  \n",
      " 10  NumberChildrenAtHome  18361 non-null  int64  \n",
      " 11  TotalChildren         18361 non-null  int64  \n",
      " 12  YearlyIncome          18361 non-null  int64  \n",
      " 13  LastUpdated           18361 non-null  object \n",
      "dtypes: float64(1), int64(7), object(6)\n",
      "memory usage: 2.1+ MB\n"
     ]
    }
   ],
   "source": [
    "df.info()"
   ]
  },
  {
   "cell_type": "code",
   "execution_count": null,
   "metadata": {},
   "outputs": [],
   "source": []
  }
 ],
 "metadata": {
  "kernelspec": {
   "display_name": "Python 3.8.8 ('base')",
   "language": "python",
   "name": "python3"
  },
  "language_info": {
   "codemirror_mode": {
    "name": "ipython",
    "version": 3
   },
   "file_extension": ".py",
   "mimetype": "text/x-python",
   "name": "python",
   "nbconvert_exporter": "python",
   "pygments_lexer": "ipython3",
   "version": "3.8.8"
  },
  "orig_nbformat": 4,
  "vscode": {
   "interpreter": {
    "hash": "40d3a090f54c6569ab1632332b64b2c03c39dcf918b08424e98f38b5ae0af88f"
   }
  }
 },
 "nbformat": 4,
 "nbformat_minor": 2
}
