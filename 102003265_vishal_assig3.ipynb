{
 "cells": [
  {
   "cell_type": "markdown",
   "metadata": {},
   "source": [
    "# Assignment 3 (Machine Learning)\n",
    "> This assignment is solved by:-\n",
    "* Name: Vishal Sehgal\n",
    "* Group: CO11\n",
    "* Roll Number: 102003265"
   ]
  },
  {
   "cell_type": "markdown",
   "metadata": {},
   "source": [
    "### Question 1"
   ]
  },
  {
   "cell_type": "markdown",
   "metadata": {},
   "source": [
    "> a"
   ]
  },
  {
   "cell_type": "code",
   "execution_count": 67,
   "metadata": {},
   "outputs": [],
   "source": [
    "import numpy as np\n",
    "import pandas as pd"
   ]
  },
  {
   "cell_type": "code",
   "execution_count": 68,
   "metadata": {},
   "outputs": [],
   "source": [
    "df = pd.read_csv('./USA_Housing.csv')"
   ]
  },
  {
   "cell_type": "code",
   "execution_count": 69,
   "metadata": {},
   "outputs": [
    {
     "name": "stdout",
     "output_type": "stream",
     "text": [
      "<class 'pandas.core.frame.DataFrame'>\n",
      "RangeIndex: 5000 entries, 0 to 4999\n",
      "Data columns (total 6 columns):\n",
      " #   Column                        Non-Null Count  Dtype  \n",
      "---  ------                        --------------  -----  \n",
      " 0   Avg. Area Income              5000 non-null   float64\n",
      " 1   Avg. Area House Age           5000 non-null   float64\n",
      " 2   Avg. Area Number of Rooms     5000 non-null   float64\n",
      " 3   Avg. Area Number of Bedrooms  5000 non-null   float64\n",
      " 4   Area Population               5000 non-null   float64\n",
      " 5   Price                         5000 non-null   float64\n",
      "dtypes: float64(6)\n",
      "memory usage: 234.5 KB\n"
     ]
    }
   ],
   "source": [
    "df.info()"
   ]
  },
  {
   "cell_type": "code",
   "execution_count": 70,
   "metadata": {},
   "outputs": [],
   "source": [
    "X = df.drop('Price', axis=1)\n",
    "y = df['Price']"
   ]
  },
  {
   "cell_type": "markdown",
   "metadata": {},
   "source": [
    "> b"
   ]
  },
  {
   "cell_type": "code",
   "execution_count": 71,
   "metadata": {},
   "outputs": [],
   "source": [
    "# Making use of z-score standard scaling.\n",
    "def scaler(data):\n",
    "    sigma = np.std(data)\n",
    "    mu = np.mean(data)\n",
    "    for i in range(len(data)):\n",
    "        data[i] = (data[i] - mu)/sigma\n",
    "    return data"
   ]
  },
  {
   "cell_type": "code",
   "execution_count": 72,
   "metadata": {},
   "outputs": [],
   "source": [
    "X['Avg. Area House Age'] = scaler(X['Avg. Area House Age'])"
   ]
  },
  {
   "cell_type": "code",
   "execution_count": 73,
   "metadata": {},
   "outputs": [],
   "source": [
    "X['Avg. Area Income'] = scaler(X['Avg. Area Income'])"
   ]
  },
  {
   "cell_type": "code",
   "execution_count": 74,
   "metadata": {},
   "outputs": [],
   "source": [
    "X['Avg. Area Number of Bedrooms'] = scaler(X['Avg. Area Number of Bedrooms'])"
   ]
  },
  {
   "cell_type": "code",
   "execution_count": 75,
   "metadata": {},
   "outputs": [],
   "source": [
    "X['Avg. Area Number of Rooms'] = scaler(X['Avg. Area Number of Rooms'])"
   ]
  },
  {
   "cell_type": "code",
   "execution_count": 76,
   "metadata": {},
   "outputs": [],
   "source": [
    "X['Area Population'] = scaler(X['Area Population'])"
   ]
  },
  {
   "cell_type": "code",
   "execution_count": 77,
   "metadata": {},
   "outputs": [
    {
     "data": {
      "text/html": [
       "<div>\n",
       "<style scoped>\n",
       "    .dataframe tbody tr th:only-of-type {\n",
       "        vertical-align: middle;\n",
       "    }\n",
       "\n",
       "    .dataframe tbody tr th {\n",
       "        vertical-align: top;\n",
       "    }\n",
       "\n",
       "    .dataframe thead th {\n",
       "        text-align: right;\n",
       "    }\n",
       "</style>\n",
       "<table border=\"1\" class=\"dataframe\">\n",
       "  <thead>\n",
       "    <tr style=\"text-align: right;\">\n",
       "      <th></th>\n",
       "      <th>Avg. Area Income</th>\n",
       "      <th>Avg. Area House Age</th>\n",
       "      <th>Avg. Area Number of Rooms</th>\n",
       "      <th>Avg. Area Number of Bedrooms</th>\n",
       "      <th>Area Population</th>\n",
       "    </tr>\n",
       "  </thead>\n",
       "  <tbody>\n",
       "    <tr>\n",
       "      <th>0</th>\n",
       "      <td>1.028660</td>\n",
       "      <td>-0.296927</td>\n",
       "      <td>0.021274</td>\n",
       "      <td>0.088062</td>\n",
       "      <td>-1.317599</td>\n",
       "    </tr>\n",
       "    <tr>\n",
       "      <th>1</th>\n",
       "      <td>1.000808</td>\n",
       "      <td>0.025902</td>\n",
       "      <td>-0.255506</td>\n",
       "      <td>-0.722301</td>\n",
       "      <td>0.403999</td>\n",
       "    </tr>\n",
       "    <tr>\n",
       "      <th>2</th>\n",
       "      <td>-0.684629</td>\n",
       "      <td>-0.112303</td>\n",
       "      <td>1.516243</td>\n",
       "      <td>0.930840</td>\n",
       "      <td>0.072410</td>\n",
       "    </tr>\n",
       "    <tr>\n",
       "      <th>3</th>\n",
       "      <td>-0.491499</td>\n",
       "      <td>1.221572</td>\n",
       "      <td>-1.393077</td>\n",
       "      <td>-0.584540</td>\n",
       "      <td>-0.186734</td>\n",
       "    </tr>\n",
       "    <tr>\n",
       "      <th>4</th>\n",
       "      <td>-0.807073</td>\n",
       "      <td>-0.944834</td>\n",
       "      <td>0.846742</td>\n",
       "      <td>0.201513</td>\n",
       "      <td>-0.988387</td>\n",
       "    </tr>\n",
       "  </tbody>\n",
       "</table>\n",
       "</div>"
      ],
      "text/plain": [
       "   Avg. Area Income  Avg. Area House Age  Avg. Area Number of Rooms  \\\n",
       "0          1.028660            -0.296927                   0.021274   \n",
       "1          1.000808             0.025902                  -0.255506   \n",
       "2         -0.684629            -0.112303                   1.516243   \n",
       "3         -0.491499             1.221572                  -1.393077   \n",
       "4         -0.807073            -0.944834                   0.846742   \n",
       "\n",
       "   Avg. Area Number of Bedrooms  Area Population  \n",
       "0                      0.088062        -1.317599  \n",
       "1                     -0.722301         0.403999  \n",
       "2                      0.930840         0.072410  \n",
       "3                     -0.584540        -0.186734  \n",
       "4                      0.201513        -0.988387  "
      ]
     },
     "execution_count": 77,
     "metadata": {},
     "output_type": "execute_result"
    }
   ],
   "source": [
    "X.head()"
   ]
  },
  {
   "cell_type": "markdown",
   "metadata": {},
   "source": [
    "> c"
   ]
  },
  {
   "cell_type": "code",
   "execution_count": 78,
   "metadata": {},
   "outputs": [],
   "source": [
    "def _5folds(X, y):\n",
    "    fold_size = len(X)/5\n",
    "    data_split = []\n",
    "    for i in range(5):\n",
    "        data_split.append(int(fold_size*i))\n",
    "    X1 = X[data_split[0]:data_split[1]]\n",
    "    X2 = X[data_split[1]:data_split[2]]\n",
    "    X3 = X[data_split[2]:data_split[3]]\n",
    "    X4 = X[data_split[3]:data_split[4]]\n",
    "    X5 = X[data_split[4]:len(X)]\n",
    "    y1 = y[data_split[0]:data_split[1]]\n",
    "    y2 = y[data_split[1]:data_split[2]]\n",
    "    y3 = y[data_split[2]:data_split[3]]\n",
    "    y4 = y[data_split[3]:data_split[4]]\n",
    "    y5 = y[data_split[4]:len(X)]\n",
    "    return np.array([X1, X2, X3, X4, X5]), np.array([y1, y2, y3, y4, y5])"
   ]
  },
  {
   "cell_type": "code",
   "execution_count": 79,
   "metadata": {},
   "outputs": [],
   "source": [
    "X_fold, y_fold = _5folds(X, y)"
   ]
  },
  {
   "cell_type": "code",
   "execution_count": 80,
   "metadata": {},
   "outputs": [
    {
     "data": {
      "text/plain": [
       "array([[[ 1.02865969, -0.29692705,  0.02127433,  0.08806222,\n",
       "         -1.31759867],\n",
       "        [ 1.00080775,  0.02590164, -0.25550611, -0.72230146,\n",
       "          0.40399945],\n",
       "        [-0.68462915, -0.11230283,  1.5162435 ,  0.93084045,\n",
       "          0.07240989],\n",
       "        ...,\n",
       "        [-0.97390997,  0.32742189,  0.3856136 ,  1.15774228,\n",
       "          1.0579596 ],\n",
       "        [ 1.84495107,  0.5761329 ,  1.76755667, -0.50350326,\n",
       "         -1.04502559],\n",
       "        [ 0.01449665, -1.48943947,  1.45395689,  1.78172231,\n",
       "         -0.19616035]],\n",
       "\n",
       "       [[-1.14104906, -1.31776484,  1.11567765, -0.77092328,\n",
       "          0.40225336],\n",
       "        [-0.17876139, -2.08742238,  0.50539953,  0.84170044,\n",
       "         -1.32320392],\n",
       "        [ 0.27530504,  1.94518516,  0.73935604,  0.84170044,\n",
       "          0.41067075],\n",
       "        ...,\n",
       "        [ 0.0830251 , -1.09969937,  0.35582492,  0.09616586,\n",
       "          1.96852391],\n",
       "        [ 1.02483129,  0.53248907,  0.56305663,  0.09616586,\n",
       "          0.65632178],\n",
       "        [ 0.48858196,  0.64329388, -0.72409425, -1.3705924 ,\n",
       "          1.09581376]],\n",
       "\n",
       "       [[-1.19826423,  2.36218626,  0.73440483,  1.6682714 ,\n",
       "         -1.34857511],\n",
       "        [ 0.6910401 , -0.65371277,  0.10516691,  1.82224049,\n",
       "          0.13016082],\n",
       "        [-0.93535077, -1.1964539 , -1.26800179, -0.44677781,\n",
       "          0.40543578],\n",
       "        ...,\n",
       "        [ 1.10283709,  0.06836921, -1.8115053 ,  0.04754404,\n",
       "          2.06815833],\n",
       "        [-0.92128531, -0.47474561, -2.09341048,  0.11237313,\n",
       "         -0.5205295 ],\n",
       "        [ 1.71407182, -0.29039029, -0.8019666 , -0.78713055,\n",
       "          0.90833882]],\n",
       "\n",
       "       [[ 0.31299453,  1.9516819 ,  0.10432414,  1.052395  ,\n",
       "         -1.25675048],\n",
       "        [ 0.65029431, -1.38124847,  1.09292392,  2.04103869,\n",
       "          0.10192338],\n",
       "        [-0.20868628,  0.5742364 ,  1.04740234,  1.97620959,\n",
       "         -0.32108998],\n",
       "        ...,\n",
       "        [-1.40207407, -1.48039425,  0.73674232,  1.14963864,\n",
       "          0.03110062],\n",
       "        [-1.20734349, -0.94590787, -1.36398043,  0.15289132,\n",
       "          0.59324762],\n",
       "        [-0.02961512, -0.07055646, -0.18672019,  0.09616586,\n",
       "         -0.02297502]],\n",
       "\n",
       "       [[ 1.39457528, -0.67300202, -0.95303689, -1.25714149,\n",
       "          0.87100964],\n",
       "        [ 0.75320113, -2.22591284, -0.28569791, -0.62505782,\n",
       "          1.94130584],\n",
       "        [ 0.94799632,  1.05189227,  0.37835326,  0.93894408,\n",
       "         -0.14063232],\n",
       "        ...,\n",
       "        [-0.48723454,  1.28447022, -2.17026949, -1.50025059,\n",
       "         -0.29193658],\n",
       "        [-0.05459152, -0.44669439,  0.14154061,  1.18205319,\n",
       "          0.65111608],\n",
       "        [-0.28831272,  0.01521477, -0.19434166,  0.07185495,\n",
       "          1.04162464]]])"
      ]
     },
     "execution_count": 80,
     "metadata": {},
     "output_type": "execute_result"
    }
   ],
   "source": [
    "X_fold"
   ]
  },
  {
   "cell_type": "markdown",
   "metadata": {},
   "source": [
    "> d"
   ]
  },
  {
   "cell_type": "code",
   "execution_count": 81,
   "metadata": {},
   "outputs": [
    {
     "data": {
      "text/plain": [
       "(5, 1000)"
      ]
     },
     "execution_count": 81,
     "metadata": {},
     "output_type": "execute_result"
    }
   ],
   "source": [
    "y_fold.shape"
   ]
  },
  {
   "cell_type": "code",
   "execution_count": 82,
   "metadata": {},
   "outputs": [
    {
     "name": "stdout",
     "output_type": "stream",
     "text": [
      "\n",
      "For Cross validation 1: \n",
      "\n",
      "The beta matrix is: \n",
      "[1231872.07704613  229923.70318635  164052.98579011  120923.57426579\n",
      "    3533.77470973  151855.58542488]\n",
      "\n",
      "R2-Score: 0.9175899480765107\n",
      "\n",
      "For Cross validation 2: \n",
      "\n",
      "The beta matrix is: \n",
      "[1232586.40453402  228365.32287054  165201.14881927  122539.46855211\n",
      "    1697.03433458  150055.81710562]\n",
      "\n",
      "R2-Score: 0.920301549640113\n",
      "\n",
      "For Cross validation 3: \n",
      "\n",
      "The beta matrix is: \n",
      "[1231448.09063372  230730.20810582  163554.55706976  121669.08713233\n",
      "    2620.25215054  150923.12489298]\n",
      "\n",
      "R2-Score: 0.9152429915320014\n",
      "\n",
      "For Cross validation 4: \n",
      "\n",
      "The beta matrix is: \n",
      "[1.23144707e+06 2.29921558e+05 1.64523054e+05 1.19737507e+05\n",
      " 1.12425659e+03 1.51317802e+05]\n",
      "\n",
      "R2-Score: 0.9208503836977655\n",
      "\n",
      "For Cross validation 5: \n",
      "\n",
      "The beta matrix is: \n",
      "[1233028.38536437  230778.59921985  163755.13607252  121885.1351222\n",
      "    1247.01304382  150084.29759618]\n",
      "\n",
      "R2-Score: 0.9138111758717495\n"
     ]
    }
   ],
   "source": [
    "beta_mat = []\n",
    "for i in range(len(X_fold)):\n",
    "    ind = np.array([])\n",
    "    for j in range(len(X_fold)):\n",
    "        if(i!=j):\n",
    "            ind = np.append(ind, j)\n",
    "    X_test = X_fold[i]\n",
    "    y_test = y_fold[i]\n",
    "    if(i!=0):\n",
    "        X_train = np.array(X_fold[0][0:])\n",
    "        y_train = np.array(y_fold[0])\n",
    "    else:\n",
    "        X_train = np.array(X_fold[1][0:])\n",
    "        y_train = np.array(y_fold[1])\n",
    "    for j in ind:\n",
    "        if((i==0) and (j==1)):\n",
    "            continue\n",
    "        if(j==0):\n",
    "            continue\n",
    "        X_train = np.vstack([X_train, X_fold[int(j)][0:]])\n",
    "    for j in ind:\n",
    "        if((i==0) and (j==1)):\n",
    "            continue\n",
    "        if(j==0):\n",
    "            continue\n",
    "        y_train = np.append(y_train, y_fold[int(j)])\n",
    "    X_train = np.insert(X_train, 0, values=1, axis=1)\n",
    "    A = X_train.T.dot(X_train)\n",
    "    B = np.linalg.inv(A)\n",
    "    C = B.dot(X_train.T)\n",
    "    beta = C.dot(y_train)\n",
    "    beta_mat.append(beta)\n",
    "    print(f\"\\nFor Cross validation {i+1}: \\n\\nThe beta matrix is: \\n{beta}\")\n",
    "    X_test = np.insert(X_test, 0, values=1, axis=1)\n",
    "    y_predict = X_test.dot(beta)\n",
    "    error=y_test-y_predict\n",
    "    square_error=np.power(error,2)\n",
    "    sum_square_error=np.sum(square_error)\n",
    "    mean_square_error=sum_square_error/len(y_predict)\n",
    "    rms_error=np.sqrt(mean_square_error)\n",
    "    y_mean=np.mean(y_test)\n",
    "    total_variance=np.sum((y_test-y_mean)**2)\n",
    "    print(f\"\\nR2-Score: {1-sum_square_error/total_variance}\")"
   ]
  },
  {
   "cell_type": "markdown",
   "metadata": {},
   "source": [
    "> e"
   ]
  },
  {
   "cell_type": "code",
   "execution_count": 83,
   "metadata": {},
   "outputs": [
    {
     "data": {
      "text/plain": [
       "array([1.23144707e+06, 2.29921558e+05, 1.64523054e+05, 1.19737507e+05,\n",
       "       1.12425659e+03, 1.51317802e+05])"
      ]
     },
     "execution_count": 83,
     "metadata": {},
     "output_type": "execute_result"
    }
   ],
   "source": [
    "# We found that the best value for R2 is in 4th cross validation and hence having the best value of beta in it.\n",
    "beta_mat[3]"
   ]
  },
  {
   "cell_type": "code",
   "execution_count": 84,
   "metadata": {},
   "outputs": [],
   "source": [
    "from sklearn.model_selection import train_test_split\n",
    "X_train, X_test, y_train, y_test = train_test_split(X, y, test_size=0.3, random_state=42)"
   ]
  },
  {
   "cell_type": "code",
   "execution_count": 85,
   "metadata": {},
   "outputs": [],
   "source": [
    "X_test = np.array(X_test)\n",
    "X_test = np.insert(X_test, 0, values=1, axis=1)"
   ]
  },
  {
   "cell_type": "code",
   "execution_count": 86,
   "metadata": {},
   "outputs": [],
   "source": [
    "y_predict = X_test.dot(beta_mat[3])"
   ]
  },
  {
   "cell_type": "code",
   "execution_count": 87,
   "metadata": {},
   "outputs": [
    {
     "name": "stdout",
     "output_type": "stream",
     "text": [
      "\n",
      "R2-Score: 0.9146868482147401\n"
     ]
    }
   ],
   "source": [
    "error=y_test-y_predict\n",
    "square_error=np.power(error,2)\n",
    "sum_square_error=np.sum(square_error)\n",
    "mean_square_error=sum_square_error/len(y_predict)\n",
    "rms_error=np.sqrt(mean_square_error)\n",
    "y_mean=np.mean(y_test)\n",
    "total_variance=np.sum((y_test-y_mean)**2)\n",
    "print(f\"\\nR2-Score: {1-sum_square_error/total_variance}\")"
   ]
  },
  {
   "cell_type": "markdown",
   "metadata": {},
   "source": [
    "### Question 2"
   ]
  },
  {
   "cell_type": "code",
   "execution_count": 88,
   "metadata": {},
   "outputs": [],
   "source": [
    "from sklearn.model_selection import train_test_split"
   ]
  },
  {
   "cell_type": "code",
   "execution_count": 89,
   "metadata": {},
   "outputs": [],
   "source": [
    "X_rem, X_test, y_rem, y_test = train_test_split(X, y, test_size=0.3, random_state=42)"
   ]
  },
  {
   "cell_type": "code",
   "execution_count": 90,
   "metadata": {},
   "outputs": [],
   "source": [
    "X_train, X_val, y_train, y_val = train_test_split(X_rem, y_rem, test_size=0.2, random_state=42)"
   ]
  },
  {
   "cell_type": "code",
   "execution_count": 91,
   "metadata": {},
   "outputs": [
    {
     "data": {
      "text/plain": [
       "(2800, 700, 1500)"
      ]
     },
     "execution_count": 91,
     "metadata": {},
     "output_type": "execute_result"
    }
   ],
   "source": [
    "len(X_train), len(X_val), len(X_test)"
   ]
  },
  {
   "cell_type": "code",
   "execution_count": 92,
   "metadata": {},
   "outputs": [],
   "source": [
    "X_train = np.array(X_train)\n",
    "y_train = np.array(y_train)"
   ]
  },
  {
   "cell_type": "code",
   "execution_count": 93,
   "metadata": {},
   "outputs": [
    {
     "name": "stdout",
     "output_type": "stream",
     "text": [
      "[778829.54135369 145453.10988561 101705.72638778  81088.52016625\n",
      "  32930.95853355  88928.37718238]\n",
      "[1232562.5125492   230048.76664688  163686.93503606  121406.94107918\n",
      "    3117.47363933  150655.97459714]\n",
      "[1232618.32011842  230067.9889464   163710.33259401  121681.42752283\n",
      "    2832.15066521  150657.52262836]\n",
      "[1232618.32011842  230067.9889464   163710.33259401  121681.42752283\n",
      "    2832.15066521  150657.52262836]\n"
     ]
    }
   ],
   "source": [
    "learning_rates = [0.001, 0.01, 0.1, 1]\n",
    "beta_mat = []\n",
    "for lr in learning_rates:\n",
    "    beta=np.zeros(6)\n",
    "    number_of_iterations=1000\n",
    "    for i in range(number_of_iterations):\n",
    "        x0_gradient=0\n",
    "        x1_gradient=0\n",
    "        x2_gradient=0\n",
    "        x3_gradient=0\n",
    "        x4_gradient=0\n",
    "        x5_gradient=0    \n",
    "        for j in range(len(X_train)):\n",
    "            a=X_train[j,0]\n",
    "            b=X_train[j,1]\n",
    "            c=X_train[j,2]\n",
    "            d=X_train[j,3]\n",
    "            e=X_train[j,4]\n",
    "            f=y_train[j]\n",
    "            x0_gradient+=(beta[0]+(beta[1]*a)+(beta[2]*b)+(beta[3]*c)+(beta[4]*d)+(beta[5]*e)-f)\n",
    "            x1_gradient+=((beta[0]+(beta[1]*a)+(beta[2]*b)+(beta[3]*c)+(beta[4]*d)+(beta[5]*e)-f)*a)\n",
    "            x2_gradient+=((beta[0]+(beta[1]*a)+(beta[2]*b)+(beta[3]*c)+(beta[4]*d)+(beta[5]*e)-f)*b)\n",
    "            x3_gradient+=((beta[0]+(beta[1]*a)+(beta[2]*b)+(beta[3]*c)+(beta[4]*d)+(beta[5]*e)-f)*c)\n",
    "            x4_gradient+=((beta[0]+(beta[1]*a)+(beta[2]*b)+(beta[3]*c)+(beta[4]*d)+(beta[5]*e)-f)*d)\n",
    "            x5_gradient+=((beta[0]+(beta[1]*a)+(beta[2]*b)+(beta[3]*c)+(beta[4]*d)+(beta[5]*e)-f)*e)\n",
    "        beta[0]=beta[0]-lr/len(X_train)*x0_gradient\n",
    "        beta[1]=beta[1]-lr/len(X_train)*x1_gradient\n",
    "        beta[2]=beta[2]-lr/len(X_train)*x2_gradient\n",
    "        beta[3]=beta[3]-lr/len(X_train)*x3_gradient\n",
    "        beta[4]=beta[4]-lr/len(X_train)*x4_gradient\n",
    "        beta[5]=beta[5]-lr/len(X_train)*x5_gradient\n",
    "    beta_mat.append(beta)\n",
    "    print(beta)"
   ]
  },
  {
   "cell_type": "code",
   "execution_count": 94,
   "metadata": {},
   "outputs": [],
   "source": [
    "X_val = np.array(X_val)\n",
    "y_val = np.array(y_val)\n",
    "X_test = np.array(X_test)\n",
    "y_test = np.array(y_test)\n",
    "X_val=np.insert(X_val,0,values=1,axis=1)\n",
    "X_test=np.insert(X_test,0,values=1,axis=1)"
   ]
  },
  {
   "cell_type": "code",
   "execution_count": 96,
   "metadata": {},
   "outputs": [],
   "source": [
    "from sklearn.metrics import r2_score"
   ]
  },
  {
   "cell_type": "code",
   "execution_count": 98,
   "metadata": {},
   "outputs": [
    {
     "name": "stdout",
     "output_type": "stream",
     "text": [
      "For beta = [778829.54135369 145453.10988561 101705.72638778  81088.52016625\n",
      "  32930.95853355  88928.37718238], \n",
      "R2-score (Validation) is -0.8125204084681943 \n",
      "R2-score (Testing) is -0.9913653412489318\n",
      "\n",
      "For beta = [1232562.5125492   230048.76664688  163686.93503606  121406.94107918\n",
      "    3117.47363933  150655.97459714], \n",
      "R2-score (Validation) is 0.9098183094422969 \n",
      "R2-score (Testing) is 0.9147434800538763\n",
      "\n",
      "For beta = [1232618.32011842  230067.9889464   163710.33259401  121681.42752283\n",
      "    2832.15066521  150657.52262836], \n",
      "R2-score (Validation) is 0.9097995626742027 \n",
      "R2-score (Testing) is 0.9147570103083724\n",
      "\n",
      "For beta = [1232618.32011842  230067.9889464   163710.33259401  121681.42752283\n",
      "    2832.15066521  150657.52262836], \n",
      "R2-score (Validation) is 0.9097995626742028 \n",
      "R2-score (Testing) is 0.9147570103083724\n",
      "\n"
     ]
    }
   ],
   "source": [
    "for beta in beta_mat:\n",
    "    y_predict_val=X_val.dot(beta)\n",
    "    y_predict_test=X_test.dot(beta)\n",
    "    print(f\"For beta = {beta}, \\nR2-score (Validation) is {r2_score(y_val, y_predict_val)} \\nR2-score (Testing) is {r2_score(y_test, y_predict_test)}\\n\")"
   ]
  },
  {
   "cell_type": "code",
   "execution_count": 99,
   "metadata": {},
   "outputs": [
    {
     "name": "stdout",
     "output_type": "stream",
     "text": [
      "Best beta values are: [1232618.32011842  230067.9889464   163710.33259401  121681.42752283\n",
      "    2832.15066521  150657.52262836]\n"
     ]
    }
   ],
   "source": [
    "# Hence the best test score value is for lr=0.1 and lr=1 so ans becomes\n",
    "print(f\"Best beta values are: {beta_mat[2]}\")"
   ]
  },
  {
   "cell_type": "markdown",
   "metadata": {},
   "source": [
    "### Question 3"
   ]
  },
  {
   "cell_type": "markdown",
   "metadata": {},
   "source": [
    "> 1."
   ]
  },
  {
   "cell_type": "code",
   "execution_count": 155,
   "metadata": {},
   "outputs": [],
   "source": [
    "df = pd.read_csv('./imports-85.data', names=[\"symboling\", \"normalized_losses\", \"make\", \"fuel_type\", \"aspiration\",\"num_doors\", \"body_style\", \"drive_wheels\", \"engine_location\", \"wheel_base\", \"length\", \"width\", \"height\", \"curb_weight\", \"engine_type\", \"num_cylinders\", \"engine_size\", \"fuel_system\", \"bore\", \"stroke\", \"compression_ratio\", \"horsepower\", \"peak_rpm\", \"city_mpg\", \"highway_mpg\", \"price\"])"
   ]
  },
  {
   "cell_type": "code",
   "execution_count": 156,
   "metadata": {},
   "outputs": [],
   "source": [
    "df = df.replace(\"?\", np.nan)"
   ]
  },
  {
   "cell_type": "code",
   "execution_count": 157,
   "metadata": {},
   "outputs": [
    {
     "name": "stdout",
     "output_type": "stream",
     "text": [
      "<class 'pandas.core.frame.DataFrame'>\n",
      "RangeIndex: 205 entries, 0 to 204\n",
      "Data columns (total 26 columns):\n",
      " #   Column             Non-Null Count  Dtype  \n",
      "---  ------             --------------  -----  \n",
      " 0   symboling          205 non-null    int64  \n",
      " 1   normalized_losses  164 non-null    object \n",
      " 2   make               205 non-null    object \n",
      " 3   fuel_type          205 non-null    object \n",
      " 4   aspiration         205 non-null    object \n",
      " 5   num_doors          203 non-null    object \n",
      " 6   body_style         205 non-null    object \n",
      " 7   drive_wheels       205 non-null    object \n",
      " 8   engine_location    205 non-null    object \n",
      " 9   wheel_base         205 non-null    float64\n",
      " 10  length             205 non-null    float64\n",
      " 11  width              205 non-null    float64\n",
      " 12  height             205 non-null    float64\n",
      " 13  curb_weight        205 non-null    int64  \n",
      " 14  engine_type        205 non-null    object \n",
      " 15  num_cylinders      205 non-null    object \n",
      " 16  engine_size        205 non-null    int64  \n",
      " 17  fuel_system        205 non-null    object \n",
      " 18  bore               201 non-null    object \n",
      " 19  stroke             201 non-null    object \n",
      " 20  compression_ratio  205 non-null    float64\n",
      " 21  horsepower         203 non-null    object \n",
      " 22  peak_rpm           203 non-null    object \n",
      " 23  city_mpg           205 non-null    int64  \n",
      " 24  highway_mpg        205 non-null    int64  \n",
      " 25  price              201 non-null    object \n",
      "dtypes: float64(5), int64(5), object(16)\n",
      "memory usage: 41.8+ KB\n"
     ]
    }
   ],
   "source": [
    "df.info()"
   ]
  },
  {
   "cell_type": "markdown",
   "metadata": {},
   "source": [
    "> 2."
   ]
  },
  {
   "cell_type": "code",
   "execution_count": 158,
   "metadata": {},
   "outputs": [
    {
     "data": {
      "text/html": [
       "<div>\n",
       "<style scoped>\n",
       "    .dataframe tbody tr th:only-of-type {\n",
       "        vertical-align: middle;\n",
       "    }\n",
       "\n",
       "    .dataframe tbody tr th {\n",
       "        vertical-align: top;\n",
       "    }\n",
       "\n",
       "    .dataframe thead th {\n",
       "        text-align: right;\n",
       "    }\n",
       "</style>\n",
       "<table border=\"1\" class=\"dataframe\">\n",
       "  <thead>\n",
       "    <tr style=\"text-align: right;\">\n",
       "      <th></th>\n",
       "      <th>symboling</th>\n",
       "      <th>normalized_losses</th>\n",
       "      <th>make</th>\n",
       "      <th>fuel_type</th>\n",
       "      <th>aspiration</th>\n",
       "      <th>num_doors</th>\n",
       "      <th>body_style</th>\n",
       "      <th>drive_wheels</th>\n",
       "      <th>engine_location</th>\n",
       "      <th>wheel_base</th>\n",
       "      <th>...</th>\n",
       "      <th>engine_size</th>\n",
       "      <th>fuel_system</th>\n",
       "      <th>bore</th>\n",
       "      <th>stroke</th>\n",
       "      <th>compression_ratio</th>\n",
       "      <th>horsepower</th>\n",
       "      <th>peak_rpm</th>\n",
       "      <th>city_mpg</th>\n",
       "      <th>highway_mpg</th>\n",
       "      <th>price</th>\n",
       "    </tr>\n",
       "  </thead>\n",
       "  <tbody>\n",
       "    <tr>\n",
       "      <th>0</th>\n",
       "      <td>3</td>\n",
       "      <td>NaN</td>\n",
       "      <td>alfa-romero</td>\n",
       "      <td>gas</td>\n",
       "      <td>std</td>\n",
       "      <td>two</td>\n",
       "      <td>convertible</td>\n",
       "      <td>rwd</td>\n",
       "      <td>front</td>\n",
       "      <td>88.6</td>\n",
       "      <td>...</td>\n",
       "      <td>130</td>\n",
       "      <td>mpfi</td>\n",
       "      <td>3.47</td>\n",
       "      <td>2.68</td>\n",
       "      <td>9.0</td>\n",
       "      <td>111</td>\n",
       "      <td>5000</td>\n",
       "      <td>21</td>\n",
       "      <td>27</td>\n",
       "      <td>13495</td>\n",
       "    </tr>\n",
       "    <tr>\n",
       "      <th>1</th>\n",
       "      <td>3</td>\n",
       "      <td>NaN</td>\n",
       "      <td>alfa-romero</td>\n",
       "      <td>gas</td>\n",
       "      <td>std</td>\n",
       "      <td>two</td>\n",
       "      <td>convertible</td>\n",
       "      <td>rwd</td>\n",
       "      <td>front</td>\n",
       "      <td>88.6</td>\n",
       "      <td>...</td>\n",
       "      <td>130</td>\n",
       "      <td>mpfi</td>\n",
       "      <td>3.47</td>\n",
       "      <td>2.68</td>\n",
       "      <td>9.0</td>\n",
       "      <td>111</td>\n",
       "      <td>5000</td>\n",
       "      <td>21</td>\n",
       "      <td>27</td>\n",
       "      <td>16500</td>\n",
       "    </tr>\n",
       "    <tr>\n",
       "      <th>2</th>\n",
       "      <td>1</td>\n",
       "      <td>NaN</td>\n",
       "      <td>alfa-romero</td>\n",
       "      <td>gas</td>\n",
       "      <td>std</td>\n",
       "      <td>two</td>\n",
       "      <td>hatchback</td>\n",
       "      <td>rwd</td>\n",
       "      <td>front</td>\n",
       "      <td>94.5</td>\n",
       "      <td>...</td>\n",
       "      <td>152</td>\n",
       "      <td>mpfi</td>\n",
       "      <td>2.68</td>\n",
       "      <td>3.47</td>\n",
       "      <td>9.0</td>\n",
       "      <td>154</td>\n",
       "      <td>5000</td>\n",
       "      <td>19</td>\n",
       "      <td>26</td>\n",
       "      <td>16500</td>\n",
       "    </tr>\n",
       "    <tr>\n",
       "      <th>3</th>\n",
       "      <td>2</td>\n",
       "      <td>164</td>\n",
       "      <td>audi</td>\n",
       "      <td>gas</td>\n",
       "      <td>std</td>\n",
       "      <td>four</td>\n",
       "      <td>sedan</td>\n",
       "      <td>fwd</td>\n",
       "      <td>front</td>\n",
       "      <td>99.8</td>\n",
       "      <td>...</td>\n",
       "      <td>109</td>\n",
       "      <td>mpfi</td>\n",
       "      <td>3.19</td>\n",
       "      <td>3.40</td>\n",
       "      <td>10.0</td>\n",
       "      <td>102</td>\n",
       "      <td>5500</td>\n",
       "      <td>24</td>\n",
       "      <td>30</td>\n",
       "      <td>13950</td>\n",
       "    </tr>\n",
       "    <tr>\n",
       "      <th>4</th>\n",
       "      <td>2</td>\n",
       "      <td>164</td>\n",
       "      <td>audi</td>\n",
       "      <td>gas</td>\n",
       "      <td>std</td>\n",
       "      <td>four</td>\n",
       "      <td>sedan</td>\n",
       "      <td>4wd</td>\n",
       "      <td>front</td>\n",
       "      <td>99.4</td>\n",
       "      <td>...</td>\n",
       "      <td>136</td>\n",
       "      <td>mpfi</td>\n",
       "      <td>3.19</td>\n",
       "      <td>3.40</td>\n",
       "      <td>8.0</td>\n",
       "      <td>115</td>\n",
       "      <td>5500</td>\n",
       "      <td>18</td>\n",
       "      <td>22</td>\n",
       "      <td>17450</td>\n",
       "    </tr>\n",
       "  </tbody>\n",
       "</table>\n",
       "<p>5 rows × 26 columns</p>\n",
       "</div>"
      ],
      "text/plain": [
       "   symboling normalized_losses         make fuel_type aspiration num_doors  \\\n",
       "0          3               NaN  alfa-romero       gas        std       two   \n",
       "1          3               NaN  alfa-romero       gas        std       two   \n",
       "2          1               NaN  alfa-romero       gas        std       two   \n",
       "3          2               164         audi       gas        std      four   \n",
       "4          2               164         audi       gas        std      four   \n",
       "\n",
       "    body_style drive_wheels engine_location  wheel_base  ...  engine_size  \\\n",
       "0  convertible          rwd           front        88.6  ...          130   \n",
       "1  convertible          rwd           front        88.6  ...          130   \n",
       "2    hatchback          rwd           front        94.5  ...          152   \n",
       "3        sedan          fwd           front        99.8  ...          109   \n",
       "4        sedan          4wd           front        99.4  ...          136   \n",
       "\n",
       "   fuel_system  bore  stroke compression_ratio horsepower  peak_rpm city_mpg  \\\n",
       "0         mpfi  3.47    2.68               9.0        111      5000       21   \n",
       "1         mpfi  3.47    2.68               9.0        111      5000       21   \n",
       "2         mpfi  2.68    3.47               9.0        154      5000       19   \n",
       "3         mpfi  3.19    3.40              10.0        102      5500       24   \n",
       "4         mpfi  3.19    3.40               8.0        115      5500       18   \n",
       "\n",
       "  highway_mpg  price  \n",
       "0          27  13495  \n",
       "1          27  16500  \n",
       "2          26  16500  \n",
       "3          30  13950  \n",
       "4          22  17450  \n",
       "\n",
       "[5 rows x 26 columns]"
      ]
     },
     "execution_count": 158,
     "metadata": {},
     "output_type": "execute_result"
    }
   ],
   "source": [
    "df.head()"
   ]
  },
  {
   "cell_type": "code",
   "execution_count": 159,
   "metadata": {},
   "outputs": [],
   "source": [
    "df['normalized_losses'] = df['normalized_losses'].astype(float)"
   ]
  },
  {
   "cell_type": "code",
   "execution_count": 160,
   "metadata": {},
   "outputs": [],
   "source": [
    "df['stroke'] = df['stroke'].astype(float)"
   ]
  },
  {
   "cell_type": "code",
   "execution_count": 161,
   "metadata": {},
   "outputs": [],
   "source": [
    "df['horsepower'] = df['horsepower'].astype(float)"
   ]
  },
  {
   "cell_type": "code",
   "execution_count": 162,
   "metadata": {},
   "outputs": [],
   "source": [
    "df['peak_rpm'] = df['peak_rpm'].astype(float)"
   ]
  },
  {
   "cell_type": "code",
   "execution_count": 163,
   "metadata": {},
   "outputs": [],
   "source": [
    "df['price'] = df['price'].astype(float)"
   ]
  },
  {
   "cell_type": "code",
   "execution_count": 164,
   "metadata": {},
   "outputs": [
    {
     "name": "stdout",
     "output_type": "stream",
     "text": [
      "<class 'pandas.core.frame.DataFrame'>\n",
      "RangeIndex: 205 entries, 0 to 204\n",
      "Data columns (total 26 columns):\n",
      " #   Column             Non-Null Count  Dtype  \n",
      "---  ------             --------------  -----  \n",
      " 0   symboling          205 non-null    int64  \n",
      " 1   normalized_losses  164 non-null    float64\n",
      " 2   make               205 non-null    object \n",
      " 3   fuel_type          205 non-null    object \n",
      " 4   aspiration         205 non-null    object \n",
      " 5   num_doors          203 non-null    object \n",
      " 6   body_style         205 non-null    object \n",
      " 7   drive_wheels       205 non-null    object \n",
      " 8   engine_location    205 non-null    object \n",
      " 9   wheel_base         205 non-null    float64\n",
      " 10  length             205 non-null    float64\n",
      " 11  width              205 non-null    float64\n",
      " 12  height             205 non-null    float64\n",
      " 13  curb_weight        205 non-null    int64  \n",
      " 14  engine_type        205 non-null    object \n",
      " 15  num_cylinders      205 non-null    object \n",
      " 16  engine_size        205 non-null    int64  \n",
      " 17  fuel_system        205 non-null    object \n",
      " 18  bore               201 non-null    object \n",
      " 19  stroke             201 non-null    float64\n",
      " 20  compression_ratio  205 non-null    float64\n",
      " 21  horsepower         203 non-null    float64\n",
      " 22  peak_rpm           203 non-null    float64\n",
      " 23  city_mpg           205 non-null    int64  \n",
      " 24  highway_mpg        205 non-null    int64  \n",
      " 25  price              201 non-null    float64\n",
      "dtypes: float64(10), int64(5), object(11)\n",
      "memory usage: 41.8+ KB\n"
     ]
    }
   ],
   "source": [
    "df.info()"
   ]
  },
  {
   "cell_type": "code",
   "execution_count": 165,
   "metadata": {},
   "outputs": [],
   "source": [
    "df = df[df['price'].isnull()==False]"
   ]
  },
  {
   "cell_type": "code",
   "execution_count": 166,
   "metadata": {},
   "outputs": [
    {
     "name": "stdout",
     "output_type": "stream",
     "text": [
      "<class 'pandas.core.frame.DataFrame'>\n",
      "Int64Index: 201 entries, 0 to 204\n",
      "Data columns (total 26 columns):\n",
      " #   Column             Non-Null Count  Dtype  \n",
      "---  ------             --------------  -----  \n",
      " 0   symboling          201 non-null    int64  \n",
      " 1   normalized_losses  164 non-null    float64\n",
      " 2   make               201 non-null    object \n",
      " 3   fuel_type          201 non-null    object \n",
      " 4   aspiration         201 non-null    object \n",
      " 5   num_doors          199 non-null    object \n",
      " 6   body_style         201 non-null    object \n",
      " 7   drive_wheels       201 non-null    object \n",
      " 8   engine_location    201 non-null    object \n",
      " 9   wheel_base         201 non-null    float64\n",
      " 10  length             201 non-null    float64\n",
      " 11  width              201 non-null    float64\n",
      " 12  height             201 non-null    float64\n",
      " 13  curb_weight        201 non-null    int64  \n",
      " 14  engine_type        201 non-null    object \n",
      " 15  num_cylinders      201 non-null    object \n",
      " 16  engine_size        201 non-null    int64  \n",
      " 17  fuel_system        201 non-null    object \n",
      " 18  bore               197 non-null    object \n",
      " 19  stroke             197 non-null    float64\n",
      " 20  compression_ratio  201 non-null    float64\n",
      " 21  horsepower         199 non-null    float64\n",
      " 22  peak_rpm           199 non-null    float64\n",
      " 23  city_mpg           201 non-null    int64  \n",
      " 24  highway_mpg        201 non-null    int64  \n",
      " 25  price              201 non-null    float64\n",
      "dtypes: float64(10), int64(5), object(11)\n",
      "memory usage: 42.4+ KB\n"
     ]
    }
   ],
   "source": [
    "df.info()"
   ]
  },
  {
   "cell_type": "code",
   "execution_count": 167,
   "metadata": {},
   "outputs": [],
   "source": [
    "df['normalized_losses'].fillna(df['normalized_losses'].median(), inplace=True)"
   ]
  },
  {
   "cell_type": "code",
   "execution_count": 169,
   "metadata": {},
   "outputs": [],
   "source": [
    "df['bore'].fillna(df['bore'].median(), inplace=True)"
   ]
  },
  {
   "cell_type": "code",
   "execution_count": 170,
   "metadata": {},
   "outputs": [],
   "source": [
    "df['stroke'].fillna(df['stroke'].median(), inplace=True)"
   ]
  },
  {
   "cell_type": "code",
   "execution_count": 172,
   "metadata": {},
   "outputs": [],
   "source": [
    "df['horsepower'].fillna(df['horsepower'].median(), inplace=True)"
   ]
  },
  {
   "cell_type": "code",
   "execution_count": 174,
   "metadata": {},
   "outputs": [],
   "source": [
    "df['peak_rpm'].fillna(df['peak_rpm'].median(), inplace=True)"
   ]
  },
  {
   "cell_type": "code",
   "execution_count": 175,
   "metadata": {},
   "outputs": [
    {
     "name": "stdout",
     "output_type": "stream",
     "text": [
      "<class 'pandas.core.frame.DataFrame'>\n",
      "Int64Index: 201 entries, 0 to 204\n",
      "Data columns (total 26 columns):\n",
      " #   Column             Non-Null Count  Dtype  \n",
      "---  ------             --------------  -----  \n",
      " 0   symboling          201 non-null    int64  \n",
      " 1   normalized_losses  201 non-null    float64\n",
      " 2   make               201 non-null    object \n",
      " 3   fuel_type          201 non-null    object \n",
      " 4   aspiration         201 non-null    object \n",
      " 5   num_doors          199 non-null    object \n",
      " 6   body_style         201 non-null    object \n",
      " 7   drive_wheels       201 non-null    object \n",
      " 8   engine_location    201 non-null    object \n",
      " 9   wheel_base         201 non-null    float64\n",
      " 10  length             201 non-null    float64\n",
      " 11  width              201 non-null    float64\n",
      " 12  height             201 non-null    float64\n",
      " 13  curb_weight        201 non-null    int64  \n",
      " 14  engine_type        201 non-null    object \n",
      " 15  num_cylinders      201 non-null    object \n",
      " 16  engine_size        201 non-null    int64  \n",
      " 17  fuel_system        201 non-null    object \n",
      " 18  bore               201 non-null    object \n",
      " 19  stroke             201 non-null    float64\n",
      " 20  compression_ratio  201 non-null    float64\n",
      " 21  horsepower         201 non-null    float64\n",
      " 22  peak_rpm           201 non-null    float64\n",
      " 23  city_mpg           201 non-null    int64  \n",
      " 24  highway_mpg        201 non-null    int64  \n",
      " 25  price              201 non-null    float64\n",
      "dtypes: float64(10), int64(5), object(11)\n",
      "memory usage: 42.4+ KB\n"
     ]
    }
   ],
   "source": [
    "df.info()"
   ]
  },
  {
   "cell_type": "markdown",
   "metadata": {},
   "source": [
    "> 3. "
   ]
  },
  {
   "cell_type": "code",
   "execution_count": 179,
   "metadata": {},
   "outputs": [],
   "source": [
    "# i."
   ]
  },
  {
   "cell_type": "code",
   "execution_count": 177,
   "metadata": {},
   "outputs": [
    {
     "data": {
      "text/plain": [
       "array(['two', 'four', nan], dtype=object)"
      ]
     },
     "execution_count": 177,
     "metadata": {},
     "output_type": "execute_result"
    }
   ],
   "source": [
    "df['num_doors'].unique()"
   ]
  },
  {
   "cell_type": "code",
   "execution_count": 182,
   "metadata": {},
   "outputs": [],
   "source": [
    "df['num_doors'] = df['num_doors'].replace('two', 2)\n",
    "df['num_doors'] = df['num_doors'].replace('four', 4)\n",
    "df['num_doors'] = df['num_doors'].astype(float)"
   ]
  },
  {
   "cell_type": "code",
   "execution_count": 183,
   "metadata": {},
   "outputs": [],
   "source": [
    "df['num_doors'].fillna(df['num_doors'].median(), inplace=True)"
   ]
  },
  {
   "cell_type": "code",
   "execution_count": 185,
   "metadata": {},
   "outputs": [
    {
     "data": {
      "text/plain": [
       "array(['four', 'six', 'five', 'three', 'twelve', 'two', 'eight'],\n",
       "      dtype=object)"
      ]
     },
     "execution_count": 185,
     "metadata": {},
     "output_type": "execute_result"
    }
   ],
   "source": [
    "df['num_cylinders'].unique()"
   ]
  },
  {
   "cell_type": "code",
   "execution_count": 186,
   "metadata": {},
   "outputs": [],
   "source": [
    "df['num_cylinders'] = df['num_cylinders'].replace('four', 4)\n",
    "df['num_cylinders'] = df['num_cylinders'].replace('six', 6)\n",
    "df['num_cylinders'] = df['num_cylinders'].replace('five', 5)\n",
    "df['num_cylinders'] = df['num_cylinders'].replace('three', 3)\n",
    "df['num_cylinders'] = df['num_cylinders'].replace('twelve', 12)\n",
    "df['num_cylinders'] = df['num_cylinders'].replace('two', 2)\n",
    "df['num_cylinders'] = df['num_cylinders'].replace('eight', 8)\n",
    "df['num_cylinders'] = df['num_cylinders'].astype(float)"
   ]
  },
  {
   "cell_type": "code",
   "execution_count": 187,
   "metadata": {},
   "outputs": [
    {
     "name": "stdout",
     "output_type": "stream",
     "text": [
      "<class 'pandas.core.frame.DataFrame'>\n",
      "Int64Index: 201 entries, 0 to 204\n",
      "Data columns (total 26 columns):\n",
      " #   Column             Non-Null Count  Dtype  \n",
      "---  ------             --------------  -----  \n",
      " 0   symboling          201 non-null    int64  \n",
      " 1   normalized_losses  201 non-null    float64\n",
      " 2   make               201 non-null    object \n",
      " 3   fuel_type          201 non-null    object \n",
      " 4   aspiration         201 non-null    object \n",
      " 5   num_doors          201 non-null    float64\n",
      " 6   body_style         201 non-null    object \n",
      " 7   drive_wheels       201 non-null    object \n",
      " 8   engine_location    201 non-null    object \n",
      " 9   wheel_base         201 non-null    float64\n",
      " 10  length             201 non-null    float64\n",
      " 11  width              201 non-null    float64\n",
      " 12  height             201 non-null    float64\n",
      " 13  curb_weight        201 non-null    int64  \n",
      " 14  engine_type        201 non-null    object \n",
      " 15  num_cylinders      201 non-null    float64\n",
      " 16  engine_size        201 non-null    int64  \n",
      " 17  fuel_system        201 non-null    object \n",
      " 18  bore               201 non-null    object \n",
      " 19  stroke             201 non-null    float64\n",
      " 20  compression_ratio  201 non-null    float64\n",
      " 21  horsepower         201 non-null    float64\n",
      " 22  peak_rpm           201 non-null    float64\n",
      " 23  city_mpg           201 non-null    int64  \n",
      " 24  highway_mpg        201 non-null    int64  \n",
      " 25  price              201 non-null    float64\n",
      "dtypes: float64(12), int64(5), object(9)\n",
      "memory usage: 42.4+ KB\n"
     ]
    }
   ],
   "source": [
    "df.info()"
   ]
  },
  {
   "cell_type": "code",
   "execution_count": 188,
   "metadata": {},
   "outputs": [],
   "source": [
    "# ii."
   ]
  },
  {
   "cell_type": "code",
   "execution_count": 194,
   "metadata": {},
   "outputs": [],
   "source": [
    "df = pd.concat([df, pd.get_dummies(df['body_style'], drop_first=True)], axis=1)"
   ]
  },
  {
   "cell_type": "code",
   "execution_count": 196,
   "metadata": {},
   "outputs": [],
   "source": [
    "df = pd.concat([df, pd.get_dummies(df['drive_wheels'], drop_first=True)], axis=1)"
   ]
  },
  {
   "cell_type": "code",
   "execution_count": 197,
   "metadata": {},
   "outputs": [],
   "source": [
    "df.drop(['body_style', 'drive_wheels'], axis=1, inplace=True)"
   ]
  },
  {
   "cell_type": "code",
   "execution_count": 198,
   "metadata": {},
   "outputs": [],
   "source": [
    "# iii."
   ]
  },
  {
   "cell_type": "code",
   "execution_count": 199,
   "metadata": {},
   "outputs": [],
   "source": [
    "from sklearn.preprocessing import LabelEncoder"
   ]
  },
  {
   "cell_type": "code",
   "execution_count": 201,
   "metadata": {},
   "outputs": [],
   "source": [
    "label_encoder = LabelEncoder()\n",
    "df['make'] = label_encoder.fit_transform(df['make'])"
   ]
  },
  {
   "cell_type": "code",
   "execution_count": 203,
   "metadata": {},
   "outputs": [],
   "source": [
    "label_encoder = LabelEncoder()\n",
    "df['aspiration'] = label_encoder.fit_transform(df['aspiration'])"
   ]
  },
  {
   "cell_type": "code",
   "execution_count": 204,
   "metadata": {},
   "outputs": [],
   "source": [
    "label_encoder = LabelEncoder()\n",
    "df['engine_location'] = label_encoder.fit_transform(df['engine_location'])"
   ]
  },
  {
   "cell_type": "code",
   "execution_count": 205,
   "metadata": {},
   "outputs": [],
   "source": [
    "label_encoder = LabelEncoder()\n",
    "df['fuel_type'] = label_encoder.fit_transform(df['fuel_type'])"
   ]
  },
  {
   "cell_type": "code",
   "execution_count": 208,
   "metadata": {},
   "outputs": [],
   "source": [
    "# iv."
   ]
  },
  {
   "cell_type": "code",
   "execution_count": 209,
   "metadata": {},
   "outputs": [
    {
     "data": {
      "text/plain": [
       "array(['mpfi', '2bbl', 'mfi', '1bbl', 'spfi', '4bbl', 'idi', 'spdi'],\n",
       "      dtype=object)"
      ]
     },
     "execution_count": 209,
     "metadata": {},
     "output_type": "execute_result"
    }
   ],
   "source": [
    "df['fuel_system'].unique()"
   ]
  },
  {
   "cell_type": "code",
   "execution_count": 211,
   "metadata": {},
   "outputs": [],
   "source": [
    "df['fuel_system'] = df['fuel_system'].replace('mpfi', 1)"
   ]
  },
  {
   "cell_type": "code",
   "execution_count": 219,
   "metadata": {},
   "outputs": [],
   "source": [
    "df.loc[df['fuel_system']!=1, 'fuel_system'] = 0"
   ]
  },
  {
   "cell_type": "code",
   "execution_count": 220,
   "metadata": {},
   "outputs": [
    {
     "data": {
      "text/plain": [
       "array([1, 0], dtype=object)"
      ]
     },
     "execution_count": 220,
     "metadata": {},
     "output_type": "execute_result"
    }
   ],
   "source": [
    "df['fuel_system'].unique()"
   ]
  },
  {
   "cell_type": "code",
   "execution_count": 227,
   "metadata": {},
   "outputs": [],
   "source": [
    "df['fuel_system'] = df['fuel_system'].astype(float)"
   ]
  },
  {
   "cell_type": "code",
   "execution_count": 221,
   "metadata": {},
   "outputs": [],
   "source": [
    "# v."
   ]
  },
  {
   "cell_type": "code",
   "execution_count": 222,
   "metadata": {},
   "outputs": [
    {
     "data": {
      "text/plain": [
       "array(['dohc', 'ohcv', 'ohc', 'l', 'rotor', 'ohcf'], dtype=object)"
      ]
     },
     "execution_count": 222,
     "metadata": {},
     "output_type": "execute_result"
    }
   ],
   "source": [
    "df['engine_type'].unique()"
   ]
  },
  {
   "cell_type": "code",
   "execution_count": 223,
   "metadata": {},
   "outputs": [],
   "source": [
    "df['engine_type'] = df['engine_type'].replace('ohc', 1)"
   ]
  },
  {
   "cell_type": "code",
   "execution_count": 224,
   "metadata": {},
   "outputs": [],
   "source": [
    "df.loc[df['engine_type']!=1, 'engine_type'] = 0"
   ]
  },
  {
   "cell_type": "code",
   "execution_count": 225,
   "metadata": {},
   "outputs": [
    {
     "data": {
      "text/plain": [
       "array([0, 1], dtype=object)"
      ]
     },
     "execution_count": 225,
     "metadata": {},
     "output_type": "execute_result"
    }
   ],
   "source": [
    "df['engine_type'].unique()"
   ]
  },
  {
   "cell_type": "code",
   "execution_count": 228,
   "metadata": {},
   "outputs": [],
   "source": [
    "df['engine_type'] = df['engine_type'].astype(float)"
   ]
  },
  {
   "cell_type": "code",
   "execution_count": 232,
   "metadata": {},
   "outputs": [],
   "source": [
    "df['bore'] = df['bore'].astype(float)"
   ]
  },
  {
   "cell_type": "code",
   "execution_count": 233,
   "metadata": {},
   "outputs": [
    {
     "name": "stdout",
     "output_type": "stream",
     "text": [
      "<class 'pandas.core.frame.DataFrame'>\n",
      "Int64Index: 201 entries, 0 to 204\n",
      "Data columns (total 30 columns):\n",
      " #   Column             Non-Null Count  Dtype  \n",
      "---  ------             --------------  -----  \n",
      " 0   symboling          201 non-null    int64  \n",
      " 1   normalized_losses  201 non-null    float64\n",
      " 2   make               201 non-null    int64  \n",
      " 3   fuel_type          201 non-null    int64  \n",
      " 4   aspiration         201 non-null    int64  \n",
      " 5   num_doors          201 non-null    float64\n",
      " 6   engine_location    201 non-null    int64  \n",
      " 7   wheel_base         201 non-null    float64\n",
      " 8   length             201 non-null    float64\n",
      " 9   width              201 non-null    float64\n",
      " 10  height             201 non-null    float64\n",
      " 11  curb_weight        201 non-null    int64  \n",
      " 12  engine_type        201 non-null    float64\n",
      " 13  num_cylinders      201 non-null    float64\n",
      " 14  engine_size        201 non-null    int64  \n",
      " 15  fuel_system        201 non-null    float64\n",
      " 16  bore               201 non-null    float64\n",
      " 17  stroke             201 non-null    float64\n",
      " 18  compression_ratio  201 non-null    float64\n",
      " 19  horsepower         201 non-null    float64\n",
      " 20  peak_rpm           201 non-null    float64\n",
      " 21  city_mpg           201 non-null    int64  \n",
      " 22  highway_mpg        201 non-null    int64  \n",
      " 23  price              201 non-null    float64\n",
      " 24  hardtop            201 non-null    uint8  \n",
      " 25  hatchback          201 non-null    uint8  \n",
      " 26  sedan              201 non-null    uint8  \n",
      " 27  wagon              201 non-null    uint8  \n",
      " 28  fwd                201 non-null    uint8  \n",
      " 29  rwd                201 non-null    uint8  \n",
      "dtypes: float64(15), int64(9), uint8(6)\n",
      "memory usage: 40.4 KB\n"
     ]
    }
   ],
   "source": [
    "df.info()"
   ]
  },
  {
   "cell_type": "markdown",
   "metadata": {},
   "source": [
    "> 4."
   ]
  },
  {
   "cell_type": "code",
   "execution_count": 234,
   "metadata": {},
   "outputs": [],
   "source": [
    "X = df.drop('price', axis=1)\n",
    "y = df['price']"
   ]
  },
  {
   "cell_type": "markdown",
   "metadata": {},
   "source": [
    "> 5."
   ]
  },
  {
   "cell_type": "code",
   "execution_count": 236,
   "metadata": {},
   "outputs": [],
   "source": [
    "X_train, X_test, y_train, y_test = train_test_split(X, y, test_size=0.3, random_state=42)"
   ]
  },
  {
   "cell_type": "code",
   "execution_count": 237,
   "metadata": {},
   "outputs": [],
   "source": [
    "from sklearn.linear_model import LinearRegression"
   ]
  },
  {
   "cell_type": "code",
   "execution_count": 238,
   "metadata": {},
   "outputs": [],
   "source": [
    "model = LinearRegression()"
   ]
  },
  {
   "cell_type": "code",
   "execution_count": 239,
   "metadata": {},
   "outputs": [
    {
     "data": {
      "text/plain": [
       "LinearRegression()"
      ]
     },
     "execution_count": 239,
     "metadata": {},
     "output_type": "execute_result"
    }
   ],
   "source": [
    "model.fit(X_train, y_train)"
   ]
  },
  {
   "cell_type": "code",
   "execution_count": 240,
   "metadata": {},
   "outputs": [],
   "source": [
    "pred = model.predict(X_test)"
   ]
  },
  {
   "cell_type": "code",
   "execution_count": 241,
   "metadata": {},
   "outputs": [
    {
     "name": "stdout",
     "output_type": "stream",
     "text": [
      "0.8770360259612894\n"
     ]
    }
   ],
   "source": [
    "print(r2_score(y_test, pred))"
   ]
  },
  {
   "cell_type": "markdown",
   "metadata": {},
   "source": [
    "> 6."
   ]
  },
  {
   "cell_type": "code",
   "execution_count": 252,
   "metadata": {},
   "outputs": [],
   "source": [
    "from sklearn.decomposition import PCA"
   ]
  },
  {
   "cell_type": "code",
   "execution_count": 285,
   "metadata": {},
   "outputs": [
    {
     "name": "stdout",
     "output_type": "stream",
     "text": [
      "Number of Components: 2\n",
      "R2Score: 0.7037665562892313\n",
      "\n",
      "Number of Components: 3\n",
      "R2Score: 0.6937050628322967\n",
      "\n",
      "Number of Components: 4\n",
      "R2Score: 0.7824369800050526\n",
      "\n",
      "Number of Components: 5\n",
      "R2Score: 0.7895323833783442\n",
      "\n",
      "Number of Components: 6\n",
      "R2Score: 0.78195893273085\n",
      "\n",
      "Number of Components: 7\n",
      "R2Score: 0.7733839620778229\n",
      "\n",
      "Number of Components: 8\n",
      "R2Score: 0.7875221421053044\n",
      "\n",
      "Number of Components: 9\n",
      "R2Score: 0.7911090339624935\n",
      "\n",
      "Number of Components: 10\n",
      "R2Score: 0.7910220801730004\n",
      "\n",
      "Number of Components: 11\n",
      "R2Score: 0.7932729360151403\n",
      "\n",
      "Number of Components: 12\n",
      "R2Score: 0.7974466760923038\n",
      "\n",
      "Number of Components: 13\n",
      "R2Score: 0.799484081883667\n",
      "\n",
      "Number of Components: 14\n",
      "R2Score: 0.8007210876158104\n",
      "\n",
      "Number of Components: 15\n",
      "R2Score: 0.7985247154761899\n",
      "\n",
      "Number of Components: 16\n",
      "R2Score: 0.8098846517749281\n",
      "\n",
      "Number of Components: 17\n",
      "R2Score: 0.8286467741978211\n",
      "\n",
      "Number of Components: 18\n",
      "R2Score: 0.828310387182239\n",
      "\n",
      "Number of Components: 19\n",
      "R2Score: 0.8296663968532649\n",
      "\n",
      "Number of Components: 20\n",
      "R2Score: 0.8354793812744874\n",
      "\n",
      "Number of Components: 21\n",
      "R2Score: 0.8329526879749609\n",
      "\n",
      "Number of Components: 22\n",
      "R2Score: 0.8368518366615513\n",
      "\n",
      "Number of Components: 23\n",
      "R2Score: 0.845692183881304\n",
      "\n",
      "Number of Components: 24\n",
      "R2Score: 0.84075338303228\n",
      "\n",
      "Number of Components: 25\n",
      "R2Score: 0.8421906618382476\n",
      "\n",
      "Number of Components: 26\n",
      "R2Score: 0.8426555119306238\n",
      "\n",
      "Number of Components: 27\n",
      "R2Score: 0.8824486917944674\n",
      "\n",
      "Number of Components: 28\n",
      "R2Score: 0.8821613987604255\n",
      "\n"
     ]
    }
   ],
   "source": [
    "for i in range(2, 29):\n",
    "    pca = PCA(n_components=i)\n",
    "    pca.fit(X)\n",
    "    X_red = pca.transform(X)\n",
    "    X_train_red, X_test_red, y_train, y_test = train_test_split(X_red, y, test_size=0.3, random_state=42)\n",
    "    model_2 = LinearRegression()\n",
    "    model_2.fit(X_train_red, y_train)\n",
    "    pred = model_2.predict(X_test_red)\n",
    "    print(f\"Number of Components: {i}\\nR2Score: {r2_score(y_test, pred)}\\n\")"
   ]
  },
  {
   "cell_type": "code",
   "execution_count": 286,
   "metadata": {},
   "outputs": [],
   "source": [
    "# R2 Score is only increased by decreasing Number of components from 29 to 28 & 27 only."
   ]
  },
  {
   "cell_type": "code",
   "execution_count": null,
   "metadata": {},
   "outputs": [],
   "source": []
  }
 ],
 "metadata": {
  "kernelspec": {
   "display_name": "Python 3.8.8",
   "language": "python",
   "name": "python3"
  },
  "language_info": {
   "codemirror_mode": {
    "name": "ipython",
    "version": 3
   },
   "file_extension": ".py",
   "mimetype": "text/x-python",
   "name": "python",
   "nbconvert_exporter": "python",
   "pygments_lexer": "ipython3",
   "version": "3.8.8"
  },
  "orig_nbformat": 4,
  "vscode": {
   "interpreter": {
    "hash": "40d3a090f54c6569ab1632332b64b2c03c39dcf918b08424e98f38b5ae0af88f"
   }
  }
 },
 "nbformat": 4,
 "nbformat_minor": 2
}
