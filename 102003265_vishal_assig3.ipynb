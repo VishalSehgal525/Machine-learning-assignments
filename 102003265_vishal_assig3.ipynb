{
 "cells": [
  {
   "cell_type": "markdown",
   "metadata": {},
   "source": [
    "# Assignment 3 (Machine Learning)\n",
    "> This assignment is solved by:-\n",
    "* Name: Vishal Sehgal\n",
    "* Group: CO11\n",
    "* Roll Number: 102003265"
   ]
  },
  {
   "cell_type": "markdown",
   "metadata": {},
   "source": [
    "### Question 1"
   ]
  },
  {
   "cell_type": "markdown",
   "metadata": {},
   "source": [
    "> a"
   ]
  },
  {
   "cell_type": "code",
   "execution_count": 35,
   "metadata": {},
   "outputs": [],
   "source": [
    "import numpy as np\n",
    "import pandas as pd"
   ]
  },
  {
   "cell_type": "code",
   "execution_count": 36,
   "metadata": {},
   "outputs": [],
   "source": [
    "df = pd.read_csv('./USA_Housing.csv')"
   ]
  },
  {
   "cell_type": "code",
   "execution_count": 37,
   "metadata": {},
   "outputs": [
    {
     "name": "stdout",
     "output_type": "stream",
     "text": [
      "<class 'pandas.core.frame.DataFrame'>\n",
      "RangeIndex: 5000 entries, 0 to 4999\n",
      "Data columns (total 6 columns):\n",
      " #   Column                        Non-Null Count  Dtype  \n",
      "---  ------                        --------------  -----  \n",
      " 0   Avg. Area Income              5000 non-null   float64\n",
      " 1   Avg. Area House Age           5000 non-null   float64\n",
      " 2   Avg. Area Number of Rooms     5000 non-null   float64\n",
      " 3   Avg. Area Number of Bedrooms  5000 non-null   float64\n",
      " 4   Area Population               5000 non-null   float64\n",
      " 5   Price                         5000 non-null   float64\n",
      "dtypes: float64(6)\n",
      "memory usage: 234.5 KB\n"
     ]
    }
   ],
   "source": [
    "df.info()"
   ]
  },
  {
   "cell_type": "code",
   "execution_count": 38,
   "metadata": {},
   "outputs": [],
   "source": [
    "X = df.drop('Price', axis=1)\n",
    "y = df['Price']"
   ]
  },
  {
   "cell_type": "markdown",
   "metadata": {},
   "source": [
    "> b"
   ]
  },
  {
   "cell_type": "code",
   "execution_count": 39,
   "metadata": {},
   "outputs": [],
   "source": [
    "# Making use of z-score standard scaling.\n",
    "def scaler(data):\n",
    "    sigma = np.std(data)\n",
    "    mu = np.mean(data)\n",
    "    for i in range(len(data)):\n",
    "        data[i] = (data[i] - mu)/sigma\n",
    "    return data"
   ]
  },
  {
   "cell_type": "code",
   "execution_count": 40,
   "metadata": {},
   "outputs": [],
   "source": [
    "X['Avg. Area House Age'] = scaler(X['Avg. Area House Age'])"
   ]
  },
  {
   "cell_type": "code",
   "execution_count": 41,
   "metadata": {},
   "outputs": [],
   "source": [
    "X['Avg. Area Income'] = scaler(X['Avg. Area Income'])"
   ]
  },
  {
   "cell_type": "code",
   "execution_count": 42,
   "metadata": {},
   "outputs": [],
   "source": [
    "X['Avg. Area Number of Bedrooms'] = scaler(X['Avg. Area Number of Bedrooms'])"
   ]
  },
  {
   "cell_type": "code",
   "execution_count": 43,
   "metadata": {},
   "outputs": [],
   "source": [
    "X['Avg. Area Number of Rooms'] = scaler(X['Avg. Area Number of Rooms'])"
   ]
  },
  {
   "cell_type": "code",
   "execution_count": 44,
   "metadata": {},
   "outputs": [],
   "source": [
    "X['Area Population'] = scaler(X['Area Population'])"
   ]
  },
  {
   "cell_type": "code",
   "execution_count": 45,
   "metadata": {},
   "outputs": [
    {
     "data": {
      "text/html": [
       "<div>\n",
       "<style scoped>\n",
       "    .dataframe tbody tr th:only-of-type {\n",
       "        vertical-align: middle;\n",
       "    }\n",
       "\n",
       "    .dataframe tbody tr th {\n",
       "        vertical-align: top;\n",
       "    }\n",
       "\n",
       "    .dataframe thead th {\n",
       "        text-align: right;\n",
       "    }\n",
       "</style>\n",
       "<table border=\"1\" class=\"dataframe\">\n",
       "  <thead>\n",
       "    <tr style=\"text-align: right;\">\n",
       "      <th></th>\n",
       "      <th>Avg. Area Income</th>\n",
       "      <th>Avg. Area House Age</th>\n",
       "      <th>Avg. Area Number of Rooms</th>\n",
       "      <th>Avg. Area Number of Bedrooms</th>\n",
       "      <th>Area Population</th>\n",
       "    </tr>\n",
       "  </thead>\n",
       "  <tbody>\n",
       "    <tr>\n",
       "      <th>0</th>\n",
       "      <td>1.028660</td>\n",
       "      <td>-0.296927</td>\n",
       "      <td>0.021274</td>\n",
       "      <td>0.088062</td>\n",
       "      <td>-1.317599</td>\n",
       "    </tr>\n",
       "    <tr>\n",
       "      <th>1</th>\n",
       "      <td>1.000808</td>\n",
       "      <td>0.025902</td>\n",
       "      <td>-0.255506</td>\n",
       "      <td>-0.722301</td>\n",
       "      <td>0.403999</td>\n",
       "    </tr>\n",
       "    <tr>\n",
       "      <th>2</th>\n",
       "      <td>-0.684629</td>\n",
       "      <td>-0.112303</td>\n",
       "      <td>1.516243</td>\n",
       "      <td>0.930840</td>\n",
       "      <td>0.072410</td>\n",
       "    </tr>\n",
       "    <tr>\n",
       "      <th>3</th>\n",
       "      <td>-0.491499</td>\n",
       "      <td>1.221572</td>\n",
       "      <td>-1.393077</td>\n",
       "      <td>-0.584540</td>\n",
       "      <td>-0.186734</td>\n",
       "    </tr>\n",
       "    <tr>\n",
       "      <th>4</th>\n",
       "      <td>-0.807073</td>\n",
       "      <td>-0.944834</td>\n",
       "      <td>0.846742</td>\n",
       "      <td>0.201513</td>\n",
       "      <td>-0.988387</td>\n",
       "    </tr>\n",
       "  </tbody>\n",
       "</table>\n",
       "</div>"
      ],
      "text/plain": [
       "   Avg. Area Income  Avg. Area House Age  Avg. Area Number of Rooms  \\\n",
       "0          1.028660            -0.296927                   0.021274   \n",
       "1          1.000808             0.025902                  -0.255506   \n",
       "2         -0.684629            -0.112303                   1.516243   \n",
       "3         -0.491499             1.221572                  -1.393077   \n",
       "4         -0.807073            -0.944834                   0.846742   \n",
       "\n",
       "   Avg. Area Number of Bedrooms  Area Population  \n",
       "0                      0.088062        -1.317599  \n",
       "1                     -0.722301         0.403999  \n",
       "2                      0.930840         0.072410  \n",
       "3                     -0.584540        -0.186734  \n",
       "4                      0.201513        -0.988387  "
      ]
     },
     "execution_count": 45,
     "metadata": {},
     "output_type": "execute_result"
    }
   ],
   "source": [
    "X.head()"
   ]
  },
  {
   "cell_type": "markdown",
   "metadata": {},
   "source": [
    "> c"
   ]
  },
  {
   "cell_type": "code",
   "execution_count": 66,
   "metadata": {},
   "outputs": [],
   "source": [
    "def _5folds(X, y):\n",
    "    fold_size = len(X)/5\n",
    "    data_split = []\n",
    "    for i in range(5):\n",
    "        data_split.append(int(fold_size*i))\n",
    "    X1 = X[data_split[0]:data_split[1]]\n",
    "    X2 = X[data_split[1]:data_split[2]]\n",
    "    X3 = X[data_split[2]:data_split[3]]\n",
    "    X4 = X[data_split[3]:data_split[4]]\n",
    "    X5 = X[data_split[4]:len(X)]\n",
    "    y1 = y[data_split[0]:data_split[1]]\n",
    "    y2 = y[data_split[1]:data_split[2]]\n",
    "    y3 = y[data_split[2]:data_split[3]]\n",
    "    y4 = y[data_split[3]:data_split[4]]\n",
    "    y5 = y[data_split[4]:len(X)]\n",
    "    return np.array([X1, X2, X3, X4, X5]), np.array([y1, y2, y3, y4, y5])"
   ]
  },
  {
   "cell_type": "code",
   "execution_count": 67,
   "metadata": {},
   "outputs": [],
   "source": [
    "X_fold, y_fold = _5folds(X, y)"
   ]
  },
  {
   "cell_type": "code",
   "execution_count": 116,
   "metadata": {},
   "outputs": [
    {
     "data": {
      "text/plain": [
       "array([[[ 1.02865969, -0.29692705,  0.02127433,  0.08806222,\n",
       "         -1.31759867],\n",
       "        [ 1.00080775,  0.02590164, -0.25550611, -0.72230146,\n",
       "          0.40399945],\n",
       "        [-0.68462915, -0.11230283,  1.5162435 ,  0.93084045,\n",
       "          0.07240989],\n",
       "        ...,\n",
       "        [-0.97390997,  0.32742189,  0.3856136 ,  1.15774228,\n",
       "          1.0579596 ],\n",
       "        [ 1.84495107,  0.5761329 ,  1.76755667, -0.50350326,\n",
       "         -1.04502559],\n",
       "        [ 0.01449665, -1.48943947,  1.45395689,  1.78172231,\n",
       "         -0.19616035]],\n",
       "\n",
       "       [[-1.14104906, -1.31776484,  1.11567765, -0.77092328,\n",
       "          0.40225336],\n",
       "        [-0.17876139, -2.08742238,  0.50539953,  0.84170044,\n",
       "         -1.32320392],\n",
       "        [ 0.27530504,  1.94518516,  0.73935604,  0.84170044,\n",
       "          0.41067075],\n",
       "        ...,\n",
       "        [ 0.0830251 , -1.09969937,  0.35582492,  0.09616586,\n",
       "          1.96852391],\n",
       "        [ 1.02483129,  0.53248907,  0.56305663,  0.09616586,\n",
       "          0.65632178],\n",
       "        [ 0.48858196,  0.64329388, -0.72409425, -1.3705924 ,\n",
       "          1.09581376]],\n",
       "\n",
       "       [[-1.19826423,  2.36218626,  0.73440483,  1.6682714 ,\n",
       "         -1.34857511],\n",
       "        [ 0.6910401 , -0.65371277,  0.10516691,  1.82224049,\n",
       "          0.13016082],\n",
       "        [-0.93535077, -1.1964539 , -1.26800179, -0.44677781,\n",
       "          0.40543578],\n",
       "        ...,\n",
       "        [ 1.10283709,  0.06836921, -1.8115053 ,  0.04754404,\n",
       "          2.06815833],\n",
       "        [-0.92128531, -0.47474561, -2.09341048,  0.11237313,\n",
       "         -0.5205295 ],\n",
       "        [ 1.71407182, -0.29039029, -0.8019666 , -0.78713055,\n",
       "          0.90833882]],\n",
       "\n",
       "       [[ 0.31299453,  1.9516819 ,  0.10432414,  1.052395  ,\n",
       "         -1.25675048],\n",
       "        [ 0.65029431, -1.38124847,  1.09292392,  2.04103869,\n",
       "          0.10192338],\n",
       "        [-0.20868628,  0.5742364 ,  1.04740234,  1.97620959,\n",
       "         -0.32108998],\n",
       "        ...,\n",
       "        [-1.40207407, -1.48039425,  0.73674232,  1.14963864,\n",
       "          0.03110062],\n",
       "        [-1.20734349, -0.94590787, -1.36398043,  0.15289132,\n",
       "          0.59324762],\n",
       "        [-0.02961512, -0.07055646, -0.18672019,  0.09616586,\n",
       "         -0.02297502]],\n",
       "\n",
       "       [[ 1.39457528, -0.67300202, -0.95303689, -1.25714149,\n",
       "          0.87100964],\n",
       "        [ 0.75320113, -2.22591284, -0.28569791, -0.62505782,\n",
       "          1.94130584],\n",
       "        [ 0.94799632,  1.05189227,  0.37835326,  0.93894408,\n",
       "         -0.14063232],\n",
       "        ...,\n",
       "        [-0.48723454,  1.28447022, -2.17026949, -1.50025059,\n",
       "         -0.29193658],\n",
       "        [-0.05459152, -0.44669439,  0.14154061,  1.18205319,\n",
       "          0.65111608],\n",
       "        [-0.28831272,  0.01521477, -0.19434166,  0.07185495,\n",
       "          1.04162464]]])"
      ]
     },
     "execution_count": 116,
     "metadata": {},
     "output_type": "execute_result"
    }
   ],
   "source": [
    "X_fold"
   ]
  },
  {
   "cell_type": "markdown",
   "metadata": {},
   "source": [
    "> d"
   ]
  },
  {
   "cell_type": "code",
   "execution_count": 141,
   "metadata": {},
   "outputs": [
    {
     "data": {
      "text/plain": [
       "(5, 1000)"
      ]
     },
     "execution_count": 141,
     "metadata": {},
     "output_type": "execute_result"
    }
   ],
   "source": [
    "y_fold.shape"
   ]
  },
  {
   "cell_type": "code",
   "execution_count": 157,
   "metadata": {},
   "outputs": [
    {
     "name": "stdout",
     "output_type": "stream",
     "text": [
      "\n",
      "For Cross validation 1: \n",
      "\n",
      "The beta matrix is: \n",
      "[1231872.07704613  229923.70318635  164052.98579011  120923.57426579\n",
      "    3533.77470973  151855.58542488]\n",
      "\n",
      "R2-Score: 0.9175899480765107\n",
      "\n",
      "For Cross validation 2: \n",
      "\n",
      "The beta matrix is: \n",
      "[1232586.40453402  228365.32287054  165201.14881927  122539.46855211\n",
      "    1697.03433458  150055.81710562]\n",
      "\n",
      "R2-Score: 0.920301549640113\n",
      "\n",
      "For Cross validation 3: \n",
      "\n",
      "The beta matrix is: \n",
      "[1231448.09063372  230730.20810582  163554.55706976  121669.08713233\n",
      "    2620.25215054  150923.12489298]\n",
      "\n",
      "R2-Score: 0.9152429915320014\n",
      "\n",
      "For Cross validation 4: \n",
      "\n",
      "The beta matrix is: \n",
      "[1.23144707e+06 2.29921558e+05 1.64523054e+05 1.19737507e+05\n",
      " 1.12425659e+03 1.51317802e+05]\n",
      "\n",
      "R2-Score: 0.9208503836977655\n",
      "\n",
      "For Cross validation 5: \n",
      "\n",
      "The beta matrix is: \n",
      "[1233028.38536437  230778.59921985  163755.13607252  121885.1351222\n",
      "    1247.01304382  150084.29759618]\n",
      "\n",
      "R2-Score: 0.9138111758717495\n"
     ]
    }
   ],
   "source": [
    "beta_mat = []\n",
    "for i in range(len(X_fold)):\n",
    "    ind = np.array([])\n",
    "    for j in range(len(X_fold)):\n",
    "        if(i!=j):\n",
    "            ind = np.append(ind, j)\n",
    "    X_test = X_fold[i]\n",
    "    y_test = y_fold[i]\n",
    "    if(i!=0):\n",
    "        X_train = np.array(X_fold[0][0:])\n",
    "        y_train = np.array(y_fold[0])\n",
    "    else:\n",
    "        X_train = np.array(X_fold[1][0:])\n",
    "        y_train = np.array(y_fold[1])\n",
    "    for j in ind:\n",
    "        if((i==0) and (j==1)):\n",
    "            continue\n",
    "        if(j==0):\n",
    "            continue\n",
    "        X_train = np.vstack([X_train, X_fold[int(j)][0:]])\n",
    "    for j in ind:\n",
    "        if((i==0) and (j==1)):\n",
    "            continue\n",
    "        if(j==0):\n",
    "            continue\n",
    "        y_train = np.append(y_train, y_fold[int(j)])\n",
    "    X_train = np.insert(X_train, 0, values=1, axis=1)\n",
    "    A = X_train.T.dot(X_train)\n",
    "    B = np.linalg.inv(A)\n",
    "    C = B.dot(X_train.T)\n",
    "    beta = C.dot(y_train)\n",
    "    beta_mat.append(beta)\n",
    "    print(f\"\\nFor Cross validation {i+1}: \\n\\nThe beta matrix is: \\n{beta}\")\n",
    "    X_test = np.insert(X_test, 0, values=1, axis=1)\n",
    "    y_predict = X_test.dot(beta)\n",
    "    error=y_test-y_predict\n",
    "    square_error=np.power(error,2)\n",
    "    sum_square_error=np.sum(square_error)\n",
    "    mean_square_error=sum_square_error/len(y_predict)\n",
    "    rms_error=np.sqrt(mean_square_error)\n",
    "    y_mean=np.mean(y_test)\n",
    "    total_variance=np.sum((y_test-y_mean)**2)\n",
    "    print(f\"\\nR2-Score: {1-sum_square_error/total_variance}\")"
   ]
  },
  {
   "cell_type": "markdown",
   "metadata": {},
   "source": [
    "> e"
   ]
  },
  {
   "cell_type": "code",
   "execution_count": 158,
   "metadata": {},
   "outputs": [
    {
     "data": {
      "text/plain": [
       "array([1.23144707e+06, 2.29921558e+05, 1.64523054e+05, 1.19737507e+05,\n",
       "       1.12425659e+03, 1.51317802e+05])"
      ]
     },
     "execution_count": 158,
     "metadata": {},
     "output_type": "execute_result"
    }
   ],
   "source": [
    "# We found that the best value for R2 is in 4th cross validation and hence having the best value of beta in it.\n",
    "beta_mat[3]"
   ]
  },
  {
   "cell_type": "code",
   "execution_count": 159,
   "metadata": {},
   "outputs": [],
   "source": [
    "from sklearn.model_selection import train_test_split\n",
    "X_train, X_test, y_train, y_test = train_test_split(X, y, test_size=0.3, random_state=42)"
   ]
  },
  {
   "cell_type": "code",
   "execution_count": 163,
   "metadata": {},
   "outputs": [],
   "source": [
    "X_test = np.array(X_test)\n",
    "X_test = np.insert(X_test, 0, values=1, axis=1)"
   ]
  },
  {
   "cell_type": "code",
   "execution_count": 164,
   "metadata": {},
   "outputs": [],
   "source": [
    "y_predict = X_test.dot(beta_mat[3])"
   ]
  },
  {
   "cell_type": "code",
   "execution_count": 165,
   "metadata": {},
   "outputs": [
    {
     "name": "stdout",
     "output_type": "stream",
     "text": [
      "\n",
      "R2-Score: 0.9146868482147401\n"
     ]
    }
   ],
   "source": [
    "error=y_test-y_predict\n",
    "square_error=np.power(error,2)\n",
    "sum_square_error=np.sum(square_error)\n",
    "mean_square_error=sum_square_error/len(y_predict)\n",
    "rms_error=np.sqrt(mean_square_error)\n",
    "y_mean=np.mean(y_test)\n",
    "total_variance=np.sum((y_test-y_mean)**2)\n",
    "print(f\"\\nR2-Score: {1-sum_square_error/total_variance}\")"
   ]
  },
  {
   "cell_type": "markdown",
   "metadata": {},
   "source": [
    "### Question 2"
   ]
  },
  {
   "cell_type": "code",
   "execution_count": null,
   "metadata": {},
   "outputs": [],
   "source": []
  },
  {
   "cell_type": "code",
   "execution_count": null,
   "metadata": {},
   "outputs": [],
   "source": []
  }
 ],
 "metadata": {
  "kernelspec": {
   "display_name": "Python 3.8.8",
   "language": "python",
   "name": "python3"
  },
  "language_info": {
   "codemirror_mode": {
    "name": "ipython",
    "version": 3
   },
   "file_extension": ".py",
   "mimetype": "text/x-python",
   "name": "python",
   "nbconvert_exporter": "python",
   "pygments_lexer": "ipython3",
   "version": "3.8.8"
  },
  "orig_nbformat": 4,
  "vscode": {
   "interpreter": {
    "hash": "40d3a090f54c6569ab1632332b64b2c03c39dcf918b08424e98f38b5ae0af88f"
   }
  }
 },
 "nbformat": 4,
 "nbformat_minor": 2
}
